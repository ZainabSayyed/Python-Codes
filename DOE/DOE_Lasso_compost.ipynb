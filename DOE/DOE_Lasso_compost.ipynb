{
 "cells": [
  {
   "cell_type": "markdown",
   "metadata": {},
   "source": [
    "<h3>Statement of Problem</h3>\n",
    "<u>Dataset:  compost.dat</u>\n",
    "Source: P.D. Schloss, B. Chaves, L.P. Walker (2000). \"The Use of the Analysis of Variance to Assess the Influence of Mixing During Composting,\" Process Biochemistry, Vol. 35, pp. 675-684.<br><br>\n",
    "Description Results of experiments to measure temperatures in compost reactors under 4 mixing conditions (Static, every 24hr, 96hr, 192hr).<br>\n",
    "Two experiments (nested w/in treatments), two trials (nested w/in experiments), 5 reps per trial.<br><br>\n",
    "Authors did not obtain trial effects in ANOVA.<br>\n",
    "Variables/Columns:<br>\n",
    "Mixing Condition - 8<br>\n",
    "Experiment(Condition) - 16<br>\n",
    "Trial (Experiment)- 24<br>\n",
    "Temperature - 28-32<br>\n",
    "http://www.stat.ufl.edu/~winner/data/compost.dat, http://www.stat.ufl.edu/~winner/data/compost.txt"
   ]
  },
  {
   "cell_type": "markdown",
   "metadata": {
    "collapsed": true
   },
   "source": [
    "<h3>Analyzing data</h3>"
   ]
  },
  {
   "cell_type": "code",
   "execution_count": 1,
   "metadata": {
    "collapsed": false
   },
   "outputs": [],
   "source": [
    "import pandas as pd\n",
    "import numpy as np\n",
    "import matplotlib.pylab as plt\n",
    "import scipy.stats as stats"
   ]
  },
  {
   "cell_type": "code",
   "execution_count": 2,
   "metadata": {
    "collapsed": false
   },
   "outputs": [],
   "source": [
    "data=pd.DataFrame(pd.read_csv(\"C:\\\\Users\\\\zaina\\\\Documents\\\\DataVisulaization_MachineLearning\\\\Research\\\\compost.csv\"))"
   ]
  },
  {
   "cell_type": "code",
   "execution_count": 3,
   "metadata": {
    "collapsed": false
   },
   "outputs": [
    {
     "data": {
      "text/html": [
       "<div>\n",
       "<table border=\"1\" class=\"dataframe\">\n",
       "  <thead>\n",
       "    <tr style=\"text-align: right;\">\n",
       "      <th></th>\n",
       "      <th>Sample</th>\n",
       "      <th>Mixing Condition</th>\n",
       "      <th>Experiment Condition</th>\n",
       "      <th>Trial Experiment</th>\n",
       "      <th>Temp</th>\n",
       "    </tr>\n",
       "  </thead>\n",
       "  <tbody>\n",
       "    <tr>\n",
       "      <th>0</th>\n",
       "      <td>1</td>\n",
       "      <td>1</td>\n",
       "      <td>1</td>\n",
       "      <td>1</td>\n",
       "      <td>43.7</td>\n",
       "    </tr>\n",
       "    <tr>\n",
       "      <th>1</th>\n",
       "      <td>2</td>\n",
       "      <td>1</td>\n",
       "      <td>1</td>\n",
       "      <td>1</td>\n",
       "      <td>42.9</td>\n",
       "    </tr>\n",
       "    <tr>\n",
       "      <th>2</th>\n",
       "      <td>3</td>\n",
       "      <td>1</td>\n",
       "      <td>1</td>\n",
       "      <td>1</td>\n",
       "      <td>44.0</td>\n",
       "    </tr>\n",
       "    <tr>\n",
       "      <th>3</th>\n",
       "      <td>4</td>\n",
       "      <td>1</td>\n",
       "      <td>1</td>\n",
       "      <td>1</td>\n",
       "      <td>44.3</td>\n",
       "    </tr>\n",
       "    <tr>\n",
       "      <th>4</th>\n",
       "      <td>5</td>\n",
       "      <td>1</td>\n",
       "      <td>1</td>\n",
       "      <td>1</td>\n",
       "      <td>44.4</td>\n",
       "    </tr>\n",
       "  </tbody>\n",
       "</table>\n",
       "</div>"
      ],
      "text/plain": [
       "   Sample  Mixing Condition  Experiment Condition  Trial Experiment  Temp\n",
       "0       1                 1                     1                 1  43.7\n",
       "1       2                 1                     1                 1  42.9\n",
       "2       3                 1                     1                 1  44.0\n",
       "3       4                 1                     1                 1  44.3\n",
       "4       5                 1                     1                 1  44.4"
      ]
     },
     "execution_count": 3,
     "metadata": {},
     "output_type": "execute_result"
    }
   ],
   "source": [
    "data.head()"
   ]
  },
  {
   "cell_type": "code",
   "execution_count": 4,
   "metadata": {
    "collapsed": false
   },
   "outputs": [],
   "source": [
    "data.columns = map(str.upper, data.columns)"
   ]
  },
  {
   "cell_type": "code",
   "execution_count": 5,
   "metadata": {
    "collapsed": false
   },
   "outputs": [
    {
     "data": {
      "text/html": [
       "<div>\n",
       "<table border=\"1\" class=\"dataframe\">\n",
       "  <thead>\n",
       "    <tr style=\"text-align: right;\">\n",
       "      <th></th>\n",
       "      <th>SAMPLE</th>\n",
       "      <th>MIXING CONDITION</th>\n",
       "      <th>EXPERIMENT CONDITION</th>\n",
       "      <th>TRIAL EXPERIMENT</th>\n",
       "      <th>TEMP</th>\n",
       "    </tr>\n",
       "  </thead>\n",
       "  <tbody>\n",
       "    <tr>\n",
       "      <th>75</th>\n",
       "      <td>76</td>\n",
       "      <td>4</td>\n",
       "      <td>2</td>\n",
       "      <td>2</td>\n",
       "      <td>42.9</td>\n",
       "    </tr>\n",
       "    <tr>\n",
       "      <th>76</th>\n",
       "      <td>77</td>\n",
       "      <td>4</td>\n",
       "      <td>2</td>\n",
       "      <td>2</td>\n",
       "      <td>43.9</td>\n",
       "    </tr>\n",
       "    <tr>\n",
       "      <th>77</th>\n",
       "      <td>78</td>\n",
       "      <td>4</td>\n",
       "      <td>2</td>\n",
       "      <td>2</td>\n",
       "      <td>41.5</td>\n",
       "    </tr>\n",
       "    <tr>\n",
       "      <th>78</th>\n",
       "      <td>79</td>\n",
       "      <td>4</td>\n",
       "      <td>2</td>\n",
       "      <td>2</td>\n",
       "      <td>40.8</td>\n",
       "    </tr>\n",
       "    <tr>\n",
       "      <th>79</th>\n",
       "      <td>80</td>\n",
       "      <td>4</td>\n",
       "      <td>2</td>\n",
       "      <td>2</td>\n",
       "      <td>39.3</td>\n",
       "    </tr>\n",
       "  </tbody>\n",
       "</table>\n",
       "</div>"
      ],
      "text/plain": [
       "    SAMPLE  MIXING CONDITION  EXPERIMENT CONDITION  TRIAL EXPERIMENT  TEMP\n",
       "75      76                 4                     2                 2  42.9\n",
       "76      77                 4                     2                 2  43.9\n",
       "77      78                 4                     2                 2  41.5\n",
       "78      79                 4                     2                 2  40.8\n",
       "79      80                 4                     2                 2  39.3"
      ]
     },
     "execution_count": 5,
     "metadata": {},
     "output_type": "execute_result"
    }
   ],
   "source": [
    "data.tail()"
   ]
  },
  {
   "cell_type": "code",
   "execution_count": 6,
   "metadata": {
    "collapsed": false
   },
   "outputs": [
    {
     "name": "stdout",
     "output_type": "stream",
     "text": [
      "                                        TEMP                     \n",
      "MIXING CONDITION                           1      2      3      4\n",
      "EXPERIMENT CONDITION TRIAL EXPERIMENT                            \n",
      "1                    1                 43.86  41.24  39.00  40.96\n",
      "                     2                 33.26  65.54  38.30  41.60\n",
      "2                    1                 60.24  45.90  44.78  48.28\n",
      "                     2                 34.28  66.60  35.98  41.68\n"
     ]
    }
   ],
   "source": [
    "table = data.pivot_table( index=['EXPERIMENT CONDITION','TRIAL EXPERIMENT'], \n",
    "                         columns=['MIXING CONDITION'], values=['TEMP'])\n",
    "print table"
   ]
  },
  {
   "cell_type": "code",
   "execution_count": 7,
   "metadata": {
    "collapsed": false
   },
   "outputs": [
    {
     "name": "stdout",
     "output_type": "stream",
     "text": [
      "Mean:\n",
      "\n",
      "MIXING CONDITION         2.50000\n",
      "EXPERIMENT CONDITION     1.50000\n",
      "TEMP                    45.09375\n",
      "dtype: float64\n"
     ]
    }
   ],
   "source": [
    "data = data.dropna()\n",
    "data1=data[['MIXING CONDITION','EXPERIMENT CONDITION','TEMP']]\n",
    "print \"Mean:\\n\"\n",
    "print data1.mean()"
   ]
  },
  {
   "cell_type": "code",
   "execution_count": 8,
   "metadata": {
    "collapsed": false
   },
   "outputs": [
    {
     "name": "stdout",
     "output_type": "stream",
     "text": [
      "Median:\n",
      "\n",
      "MIXING CONDITION         2.5\n",
      "EXPERIMENT CONDITION     1.5\n",
      "TEMP                    41.8\n",
      "dtype: float64\n"
     ]
    }
   ],
   "source": [
    "print \"Median:\\n\"\n",
    "print data1.median()"
   ]
  },
  {
   "cell_type": "code",
   "execution_count": 9,
   "metadata": {
    "collapsed": false
   },
   "outputs": [
    {
     "name": "stdout",
     "output_type": "stream",
     "text": [
      "Standard Deviation:\n",
      "\n",
      "MIXING CONDITION         1.125088\n",
      "EXPERIMENT CONDITION     0.503155\n",
      "TEMP                    10.110107\n",
      "dtype: float64\n"
     ]
    }
   ],
   "source": [
    "print \"Standard Deviation:\\n\"\n",
    "print data1.std()"
   ]
  },
  {
   "cell_type": "code",
   "execution_count": 10,
   "metadata": {
    "collapsed": false
   },
   "outputs": [
    {
     "data": {
      "image/png": "[encoded data removed]",
      "text/plain": [
       "<matplotlib.figure.Figure at 0xa0fbbe0>"
      ]
     },
     "metadata": {},
     "output_type": "display_data"
    }
   ],
   "source": [
    "plt.hist(data.TEMP,normed=1)\n",
    "plt.xlabel('Temprature')\n",
    "plt.ylabel('Frequency')\n",
    "plt.title('Histogram for response variable')\n",
    "plt.show()"
   ]
  },
  {
   "cell_type": "code",
   "execution_count": 11,
   "metadata": {
    "collapsed": false
   },
   "outputs": [
    {
     "data": {
      "image/png": "[encoded data removed]",
      "text/plain": [
       "<matplotlib.figure.Figure at 0xbbc9198>"
      ]
     },
     "metadata": {},
     "output_type": "display_data"
    }
   ],
   "source": [
    "fig=plt.scatter(data.TEMP,data.SAMPLE,c= data['MIXING CONDITION'],alpha=0.5)\n",
    "plt.ylabel('Sample')\n",
    "plt.xlabel('Temprature')\n",
    "plt.title('Explore the Subject  ~ TEMP response for each MIXING CONDITION')\n",
    "plt.show(fig)"
   ]
  },
  {
   "cell_type": "markdown",
   "metadata": {},
   "source": [
    "<h3>Design of Experiment</h3>"
   ]
  },
  {
   "cell_type": "markdown",
   "metadata": {},
   "source": [
    "<li>Feature Reduction: Applying Lasso</li>\n",
    "for feature selection, helps to identify factors which have impact on response variable. "
   ]
  },
  {
   "cell_type": "code",
   "execution_count": 12,
   "metadata": {
    "collapsed": false
   },
   "outputs": [
    {
     "name": "stderr",
     "output_type": "stream",
     "text": [
      "C:\\Users\\zaina\\Anaconda2\\lib\\site-packages\\sklearn\\cross_validation.py:44: DeprecationWarning: This module was deprecated in version 0.18 in favor of the model_selection module into which all the refactored classes and functions are moved. Also note that the interface of the new CV iterators are different from that of this module. This module will be removed in 0.20.\n",
      "  \"This module will be removed in 0.20.\", DeprecationWarning)\n"
     ]
    }
   ],
   "source": [
    "from sklearn.cross_validation import train_test_split\n",
    "from sklearn.linear_model import LassoLarsCV,LinearRegression, Ridge, Lasso, RandomizedLasso,Lasso\n",
    "from sklearn import preprocessing"
   ]
  },
  {
   "cell_type": "code",
   "execution_count": 13,
   "metadata": {
    "collapsed": false
   },
   "outputs": [],
   "source": [
    "target = data[['TEMP']]\n",
    "predictors=data[['MIXING CONDITION','EXPERIMENT CONDITION']]"
   ]
  },
  {
   "cell_type": "code",
   "execution_count": 14,
   "metadata": {
    "collapsed": false
   },
   "outputs": [],
   "source": [
    "pred_train, pred_test, tar_train, tar_test = train_test_split(predictors,target,test_size=.3, random_state=342)"
   ]
  },
  {
   "cell_type": "code",
   "execution_count": 15,
   "metadata": {
    "collapsed": false
   },
   "outputs": [
    {
     "data": {
      "text/plain": [
       "(    MIXING CONDITION  EXPERIMENT CONDITION\n",
       " 75                 4                     2\n",
       " 18                 1                     2\n",
       " 46                 3                     1\n",
       " 9                  1                     1\n",
       " 67                 4                     1,\n",
       "     MIXING CONDITION  EXPERIMENT CONDITION\n",
       " 36                 2                     2\n",
       " 16                 1                     2\n",
       " 1                  1                     1\n",
       " 69                 4                     1\n",
       " 29                 2                     1)"
      ]
     },
     "execution_count": 15,
     "metadata": {},
     "output_type": "execute_result"
    }
   ],
   "source": [
    "pred_train.head(),pred_test.head()"
   ]
  },
  {
   "cell_type": "code",
   "execution_count": 16,
   "metadata": {
    "collapsed": false
   },
   "outputs": [
    {
     "data": {
      "text/plain": [
       "(    TEMP\n",
       " 75  42.9\n",
       " 18  33.9\n",
       " 46  38.1\n",
       " 9   33.1\n",
       " 67  41.9,     TEMP\n",
       " 36  68.0\n",
       " 16  35.4\n",
       " 1   42.9\n",
       " 69  41.7\n",
       " 29  65.2)"
      ]
     },
     "execution_count": 16,
     "metadata": {},
     "output_type": "execute_result"
    }
   ],
   "source": [
    "tar_train.head(), tar_test.head()"
   ]
  },
  {
   "cell_type": "code",
   "execution_count": 17,
   "metadata": {
    "collapsed": true
   },
   "outputs": [],
   "source": [
    "from sklearn.model_selection import cross_val_score"
   ]
  },
  {
   "cell_type": "code",
   "execution_count": 18,
   "metadata": {
    "collapsed": false
   },
   "outputs": [
    {
     "name": "stderr",
     "output_type": "stream",
     "text": [
      "C:\\Users\\zaina\\Anaconda2\\lib\\site-packages\\sklearn\\utils\\validation.py:526: DataConversionWarning: A column-vector y was passed when a 1d array was expected. Please change the shape of y to (n_samples, ), for example using ravel().\n",
      "  y = column_or_1d(y, warn=True)\n"
     ]
    }
   ],
   "source": [
    "model=LassoLarsCV(cv=10, precompute=False).fit(pred_train,tar_train)"
   ]
  },
  {
   "cell_type": "code",
   "execution_count": 19,
   "metadata": {
    "collapsed": false
   },
   "outputs": [
    {
     "name": "stdout",
     "output_type": "stream",
     "text": [
      "LassoLarsCV(copy_X=True, cv=10, eps=2.2204460492503131e-16,\n",
      "      fit_intercept=True, max_iter=500, max_n_alphas=1000, n_jobs=1,\n",
      "      normalize=True, positive=False, precompute=False, verbose=False)\n"
     ]
    }
   ],
   "source": [
    "print model"
   ]
  },
  {
   "cell_type": "code",
   "execution_count": 20,
   "metadata": {
    "collapsed": false
   },
   "outputs": [
    {
     "name": "stdout",
     "output_type": "stream",
     "text": [
      "{'MIXING CONDITION': -1.0791898734177214, 'EXPERIMENT CONDITION': 5.2915696202531661}\n"
     ]
    }
   ],
   "source": [
    "r=dict(zip(predictors.columns,model.coef_))\n",
    "print r"
   ]
  },
  {
   "cell_type": "code",
   "execution_count": 43,
   "metadata": {
    "collapsed": false
   },
   "outputs": [
    {
     "data": {
      "image/png": "[encoded data removed]",
      "text/plain": [
       "<matplotlib.figure.Figure at 0xe1d5b00>"
      ]
     },
     "metadata": {},
     "output_type": "display_data"
    }
   ],
   "source": [
    "alphas = 10**np.linspace(10,-2,100)*0.5\n",
    "from sklearn.preprocessing import scale\n",
    "lasso = Lasso(max_iter=10000, normalize=True)\n",
    "coefs = []\n",
    "for a in alphas:\n",
    "    lasso.set_params(alpha=a)\n",
    "    lasso.fit(scale(pred_train), tar_train)\n",
    "    coefs.append(lasso.coef_)\n",
    "ax = plt.gca()\n",
    "\n",
    "ax.plot(alphas*2, coefs)\n",
    "ax.set_xscale('log')\n",
    "ax.legend(pred_train.columns)\n",
    "plt.title('Standarized Lasso Coefficients on the Compost Reactor data set')\n",
    "plt.axis('tight')\n",
    "plt.xlabel('alpha')\n",
    "plt.ylabel('weights')\n",
    "plt.show()"
   ]
  },
  {
   "cell_type": "code",
   "execution_count": 44,
   "metadata": {
    "collapsed": false
   },
   "outputs": [
    {
     "data": {
      "text/plain": [
       "\"m_log_alphas = -np.log10(model.alphas_)\\nplt.ylim([-5,12])\\nax = plt.gca()\\nplt.plot(m_log_alphas, model.coef_path_.T)\\nplt.axvline(-np.log10(model.alpha_), linestyle='--', color='k' ,label=pred_train.columns)\\nplt.ylabel('Regression Coefficients')\\nplt.xlabel('-log(alpha)')\\nplt.title('Regression Coefficients Progression for Lasso Paths')\\nplt.legend(bbox_to_anchor=(1.4, 0.5),loc='lower left')\\nplt.show()\""
      ]
     },
     "execution_count": 44,
     "metadata": {},
     "output_type": "execute_result"
    }
   ],
   "source": [
    "'''m_log_alphas = -np.log10(model.alphas_)\n",
    "plt.ylim([-5,12])\n",
    "ax = plt.gca()\n",
    "plt.plot(m_log_alphas, model.coef_path_.T)\n",
    "plt.axvline(-np.log10(model.alpha_), linestyle='--', color='k' ,label=pred_train.columns)\n",
    "plt.ylabel('Regression Coefficients')\n",
    "plt.xlabel('-log(alpha)')\n",
    "plt.title('Regression Coefficients Progression for Lasso Paths')\n",
    "plt.legend(bbox_to_anchor=(1.4, 0.5),loc='lower left')\n",
    "plt.show()'''"
   ]
  },
  {
   "cell_type": "code",
   "execution_count": 45,
   "metadata": {
    "collapsed": false
   },
   "outputs": [
    {
     "data": {
      "image/png": "[encoded data removed]",
      "text/plain": [
       "<matplotlib.figure.Figure at 0x10403d30>"
      ]
     },
     "metadata": {},
     "output_type": "display_data"
    },
    {
     "name": "stdout",
     "output_type": "stream",
     "text": [
      "training data MSE\n",
      "75.2352587251\n",
      "test data MSE\n",
      "141.849114963\n",
      "training data R-square\n",
      "0.103159246379\n",
      "test data R-square\n",
      "-0.091763487968\n",
      "Variable                    Lasso_Lars   Lasso       \n",
      "\n",
      "MIXING CONDITION             -1.1          -1.0      \n",
      "\n",
      "EXPERIMENT CONDITION         5.3           5.1       \n"
     ]
    }
   ],
   "source": [
    "# plot mean square error for each fold\n",
    "m_log_alphascv = -np.log10(model.cv_alphas_)\n",
    "plt.figure()\n",
    "plt.plot(m_log_alphascv, model.cv_mse_path_, ':')\n",
    "plt.plot(m_log_alphascv, model.cv_mse_path_.mean(axis=-1), 'k',\n",
    "         label='Average across the folds', linewidth=2)\n",
    "plt.axvline(-np.log10(model.alpha_), linestyle='--', color='k',\n",
    "            label='alpha CV')\n",
    "plt.legend(bbox_to_anchor=(1.4, 0.5),loc='lower left')\n",
    "plt.xlabel('-log(alpha)')\n",
    "plt.ylabel('Mean squared error')\n",
    "plt.title('Mean squared error on each fold')\n",
    "plt.label='alpha CV'\n",
    "plt.show()\n",
    "\n",
    "# MSE from training and test data\n",
    "from sklearn.metrics import mean_squared_error\n",
    "train_error = mean_squared_error(tar_train, model.predict(pred_train))\n",
    "test_error = mean_squared_error(tar_test, model.predict(pred_test))\n",
    "print ('training data MSE')\n",
    "print(train_error)\n",
    "print ('test data MSE')\n",
    "print(test_error)\n",
    "\n",
    "\n",
    "\n",
    "# R-square from training and test data\n",
    "rsquared_train=model.score(pred_train,tar_train)\n",
    "rsquared_test=model.score(pred_test,tar_test)\n",
    "print ('training data R-square')\n",
    "print(rsquared_train)\n",
    "print ('test data R-square')\n",
    "print(rsquared_test)\n",
    "model1=Lasso(alpha=.05).fit(pred_train,tar_train)\n",
    "r1=dict(zip(predictors.columns,model1.coef_))\n",
    "'''model2 = Ridge(alpha=2).fit(pred_train,tar_train)\n",
    "r2=dict(zip(predictors.columns,model2.coef_))\n",
    "model3 = LinearRegression(normalize=True).fit(pred_train,tar_train)\n",
    "r3 =dict(zip(predictors.columns,model3.coef_))\n",
    "\n",
    "print str(\"Variable\").ljust(25),\" \",\"Lasso_Lars\".ljust(10),\" \",\n",
    "\"Lasso\".ljust(10),\" \",\"Ridge\".ljust(10),\" \",\n",
    "\"Linear\".ljust(10)\n",
    "for key,values in r.items():\n",
    "    for key1,values1 in r1.items():\n",
    "        for key2,values2 in r2.items():\n",
    "            for key3,values3 in r3.items():\n",
    "                if key==key1 and key==key2 and key==key3:\n",
    "                    print \"\\n\", key.ljust(10),str(round(values,1)).ljust(10),\"  \",\n",
    "                    str(round(values1,1)).ljust(10),\n",
    "                    \"  \",str(round(values2,1)).ljust(10),\"  \",str(round(values3,1)).ljust(10)\n",
    "'''\n",
    "print str(\"Variable\").ljust(25),\" \",\"Lasso_Lars\".ljust(10),\" \",\"Lasso\".ljust(10),\" \"\n",
    "for key,values in r.items():\n",
    "    for key1,values1 in r1.items():\n",
    "        if key==key1:\n",
    "            print \"\\n\", key.ljust(28),str(round(values,1)).ljust(10),\"  \",str(round(values1,1)).ljust(10)"
   ]
  },
  {
   "cell_type": "markdown",
   "metadata": {
    "collapsed": true
   },
   "source": [
    "<li><font color='blue'><b>Lasso Regression shows Mixing Condition and Experiment Condition have impact on response variable temprature.<b></font></li>"
   ]
  },
  {
   "cell_type": "markdown",
   "metadata": {},
   "source": [
    "<h3>Run Statistical Model to Test Hypothesis</h3><br>\n",
    "As found from Lasso Regression the factors Mixing Condition and Experiment Condition are effecting response variable Temprature. <br>\n",
    "Conduct and experiment to find differences between:\n",
    "<ol><li>Factors level </li><li> Interaction between factors</li></ol>"
   ]
  },
  {
   "cell_type": "markdown",
   "metadata": {},
   "source": [
    "Is there any statistical significant difference between Mixing Condition?<br>\n",
    "Consider Hypothesis to be test: <br><br>\n",
    "<u>Testing Hypothesis</u><br>"
   ]
  },
  {
   "cell_type": "code",
   "execution_count": 46,
   "metadata": {
    "collapsed": false
   },
   "outputs": [
    {
     "data": {
      "text/latex": [
       "\\begin{align}\n",
       "H_{0}: \\mu(Mixing Condition1)=\\mu(Mixing Condition2)=\\mu(Mixing Condition3)=\\mu(Mixing Condition4)\\\\\n",
       "H_{a}: \\mu(Mixing Condition1)\\neq \\mu(Mixing Condition2)\\neq \\mu(Mixing Condition3)\\neq \\mu(Mixing Condition4)\\\\\n",
       "\\end{align}"
      ],
      "text/plain": [
       "<IPython.core.display.Latex object>"
      ]
     },
     "metadata": {},
     "output_type": "display_data"
    }
   ],
   "source": [
    "%%latex\n",
    "\\begin{align}\n",
    "H_{0}: \\mu(Mixing Condition1)=\\mu(Mixing Condition2)=\\mu(Mixing Condition3)=\\mu(Mixing Condition4)\\\\\n",
    "H_{a}: \\mu(Mixing Condition1)\\neq \\mu(Mixing Condition2)\\neq \\mu(Mixing Condition3)\\neq \\mu(Mixing Condition4)\\\\\n",
    "\\end{align}"
   ]
  },
  {
   "cell_type": "markdown",
   "metadata": {},
   "source": [
    "<li>Step1: Normality Test</li>"
   ]
  },
  {
   "cell_type": "code",
   "execution_count": 47,
   "metadata": {
    "collapsed": true
   },
   "outputs": [],
   "source": [
    "c1=data[data[\"MIXING CONDITION\"]==1]\n",
    "c2=data[data[\"MIXING CONDITION\"]==2]\n",
    "c3=data[data[\"MIXING CONDITION\"]==3]\n",
    "c4=data[data[\"MIXING CONDITION\"]==4]"
   ]
  },
  {
   "cell_type": "code",
   "execution_count": 48,
   "metadata": {
    "collapsed": false
   },
   "outputs": [
    {
     "data": {
      "image/png": "[encoded data removed]",
      "text/plain": [
       "<matplotlib.figure.Figure at 0x1042b2e8>"
      ]
     },
     "metadata": {},
     "output_type": "display_data"
    }
   ],
   "source": [
    "temp=[c1.TEMP,c2.TEMP,c3.TEMP,c4.TEMP]\n",
    "plt.boxplot(temp)\n",
    "plt.xticks([1,2,3,4],['MX -1','MX -2','MX -3','MX -4'])\n",
    "plt.title('Explore the MIXING CONDITION  ~ TEMP response')\n",
    "plt.show()"
   ]
  },
  {
   "cell_type": "markdown",
   "metadata": {},
   "source": [
    "<li>MIXING CONDITION-2, MIXING CONDITION-3 and MIXING CONDITION-4 seems normally distributed, MIXING CONDITION-1 have long left tail.<br> \n",
    "Box plots are overlapping, but not all medians so there is likely to be a difference between both groups.<br></li>"
   ]
  },
  {
   "cell_type": "code",
   "execution_count": 49,
   "metadata": {
    "collapsed": false
   },
   "outputs": [
    {
     "name": "stdout",
     "output_type": "stream",
     "text": [
      "('MX-1 :', (0.7923679351806641, 0.0006662639207206666), 'MX-2 :', (0.7653768062591553, 0.0002749621053226292), 'MX-3 :', (0.8837211728096008, 0.02065316215157509), 'MX-4 :', (0.8074211478233337, 0.0011170626385137439))\n"
     ]
    }
   ],
   "source": [
    "print (\"MX-1 :\",stats.shapiro(c1.TEMP,reta=False),'MX-2 :' ,stats.shapiro(c2.TEMP,reta=False),\n",
    "       \"MX-3 :\",stats.shapiro(c3.TEMP,reta=False),\"MX-4 :\",stats.shapiro(c4.TEMP,reta=False)) "
   ]
  },
  {
   "cell_type": "markdown",
   "metadata": {},
   "source": [
    "<li><font color='blue'><b>Shapiro test detects all \"departures from normality\" ,\n",
    "pvalue < 0.05 shows 95% confident that MIXING CONDITION-1, MIXING CONDITION -2, MIXING CONDITION -\n",
    "3 and MIXING CONDITION -4 is not normally distributed  or is consequences of few samples.</b></font></li>"
   ]
  },
  {
   "cell_type": "markdown",
   "metadata": {},
   "source": [
    "<li>Normality Test for residuals</li>"
   ]
  },
  {
   "cell_type": "code",
   "execution_count": 50,
   "metadata": {
    "collapsed": false
   },
   "outputs": [
    {
     "data": {
      "text/plain": [
       "(0.9598994255065918, 0.01326023694127798)"
      ]
     },
     "execution_count": 50,
     "metadata": {},
     "output_type": "execute_result"
    }
   ],
   "source": [
    "from statsmodels.formula.api import ols\n",
    "lm = ols('data.TEMP ~ C(data[\"MIXING CONDITION\"], Sum)', data=data).fit()\n",
    "res=lm.resid\n",
    "stats.shapiro(res,reta=False)"
   ]
  },
  {
   "cell_type": "code",
   "execution_count": 51,
   "metadata": {
    "collapsed": false
   },
   "outputs": [
    {
     "data": {
      "image/png": "[encoded data removed]",
      "text/plain": [
       "<matplotlib.figure.Figure at 0xdf7ea58>"
      ]
     },
     "metadata": {},
     "output_type": "display_data"
    }
   ],
   "source": [
    "# Q-Q Plot residuals\n",
    "res=lm.resid_pearson\n",
    "stats.probplot(res, dist=\"norm\", plot=plt)\n",
    "plt.title(\"Normal Q-Q plot\")\n",
    "plt.show()"
   ]
  },
  {
   "cell_type": "markdown",
   "metadata": {},
   "source": [
    "<font color='blue'><b><li>pvalue < 0.05 shows residuals not come from normal distribution. Also Q-Q plot of residual Vs distribution are close fit,  and for most of population sample result it fails </li></b></font>"
   ]
  },
  {
   "cell_type": "markdown",
   "metadata": {},
   "source": [
    "<li>Step2 : Homoscedasticity </li>"
   ]
  },
  {
   "cell_type": "code",
   "execution_count": 52,
   "metadata": {
    "collapsed": false
   },
   "outputs": [
    {
     "data": {
      "text/plain": [
       "LeveneResult(statistic=33.131109312351882, pvalue=8.4311123951925929e-14)"
      ]
     },
     "execution_count": 52,
     "metadata": {},
     "output_type": "execute_result"
    }
   ],
   "source": [
    "stats.levene(c1.TEMP,c2.TEMP,c3.TEMP,c4.TEMP,center='mean')"
   ]
  },
  {
   "cell_type": "code",
   "execution_count": 53,
   "metadata": {
    "collapsed": false
   },
   "outputs": [
    {
     "data": {
      "text/plain": [
       "LeveneResult(statistic=24.518188559026246, pvalue=3.3625885445470423e-11)"
      ]
     },
     "execution_count": 53,
     "metadata": {},
     "output_type": "execute_result"
    }
   ],
   "source": [
    "stats.levene(c1.TEMP,c2.TEMP,c3.TEMP,c4.TEMP,center='median')"
   ]
  },
  {
   "cell_type": "markdown",
   "metadata": {},
   "source": [
    "<li><font color='blue'><b>pvalue > 0.05 indicates all MIXING CONDITION has significant difference in TARGET TEMP , which indicates violation of homogeneity of variance </font></b> </li>"
   ]
  },
  {
   "cell_type": "markdown",
   "metadata": {
    "collapsed": true
   },
   "source": [
    "<h3>ANOVA </h3>\n",
    "Within Subjects Measure: the same subjects were measured in several different  Mixing Condition."
   ]
  },
  {
   "cell_type": "code",
   "execution_count": 54,
   "metadata": {
    "collapsed": false
   },
   "outputs": [
    {
     "name": "stdout",
     "output_type": "stream",
     "text": [
      "TEMP ~ MIXING CONDITION\n",
      "\n",
      "TESTS OF WITHIN SUBJECTS EFFECTS\n",
      "\n",
      "Measure: TEMP\n",
      "        Source                                 Type III    eps      df        MS        F       Sig.      et2_G   Obs.    SE     95% CI   lambda   Obs.  \n",
      "                                                  SS                                                                                               Power \n",
      "========================================================================================================================================================\n",
      "MIXING CONDITION          Sphericity Assumed    671.737       -         3   223.912   9.856   3.773e-06   0.091     80   0.536    1.050    9.980   0.752 \n",
      "                          Greenhouse-Geisser    671.737   0.695     2.086   322.098   9.856   7.029e-05   0.091     80   0.536    1.050    9.980   0.636 \n",
      "                          Huynh-Feldt           671.737   0.695     2.086   322.098   9.856   7.029e-05   0.091     80   0.536    1.050    9.980   0.636 \n",
      "                          Box                   671.737   0.333         1   671.737   9.856       0.002   0.091     80   0.536    1.050    9.980   0.437 \n",
      "--------------------------------------------------------------------------------------------------------------------------------------------------------\n",
      "Error(MIXING CONDITION)   Sphericity Assumed   5384.458       -       237    22.719                                                                      \n",
      "                          Greenhouse-Geisser   5384.458   0.695   164.755    32.682                                                                      \n",
      "                          Huynh-Feldt          5384.458   0.695   164.755    32.682                                                                      \n",
      "                          Box                  5384.458   0.333        79    68.158                                                                      \n",
      "\n",
      "TABLES OF ESTIMATED MARGINAL MEANS\n",
      "\n",
      "Estimated Marginal Means for MIXING CONDITION\n",
      "MIXING CONDITION    Mean    Std. Error   95% Lower Bound   95% Upper Bound \n",
      "==========================================================================\n",
      "1                  42.910        2.493            38.024            47.796 \n",
      "2                  54.820        2.617            49.691            59.949 \n",
      "3                  39.515        0.765            38.015            41.015 \n",
      "4                  43.130        0.729            41.700            44.560 \n",
      "\n",
      "\n"
     ]
    },
    {
     "name": "stderr",
     "output_type": "stream",
     "text": [
      "C:\\Users\\zaina\\Anaconda2\\lib\\site-packages\\pyvttbl\\stats\\_anova.py:1240: VisibleDeprecationWarning: using a non-integer number instead of an integer will result in an error in the future\n",
      "  return list(array(list(zeros((p-len(b))))+b)+1.)\n"
     ]
    }
   ],
   "source": [
    "from numpy.random import normal\n",
    "import pyvttbl as pt\n",
    "from collections import namedtuple\n",
    "df1=pt.DataFrame(data)  \n",
    "aov = df1.anova('TEMP', sub='SAMPLE', wfactors=['MIXING CONDITION'])\n",
    "print(aov)\n"
   ]
  },
  {
   "cell_type": "code",
   "execution_count": 55,
   "metadata": {
    "collapsed": false
   },
   "outputs": [],
   "source": [
    "import re\n",
    "from copy import copy\n",
    "from md5 import md5\n",
    "\n",
    "def extract_for_apa(factor, aov, values = ['F', 'mse', 'eta', 'p']):\n",
    "    results = {}\n",
    "    for key,result in aov[(factor,)].iteritems():\n",
    "        if key in values:\n",
    "            results[key] = result\n",
    "            \n",
    "    return results"
   ]
  },
  {
   "cell_type": "code",
   "execution_count": 56,
   "metadata": {
    "collapsed": false
   },
   "outputs": [],
   "source": [
    "results=extract_for_apa('MIXING CONDITION', aov, values = ['F', 'mse', 'eta', 'p'])"
   ]
  },
  {
   "cell_type": "code",
   "execution_count": 57,
   "metadata": {
    "collapsed": false
   },
   "outputs": [
    {
     "name": "stdout",
     "output_type": "stream",
     "text": [
      "{'p': 3.7733171463077259e-06, 'mse': 22.719231276371314, 'eta': 0.090736207808066169, 'F': 9.8556348669042517}\n"
     ]
    }
   ],
   "source": [
    "print results"
   ]
  },
  {
   "cell_type": "markdown",
   "metadata": {},
   "source": [
    "<li><font color='blue'><b>In these results, the null hypothesis states that the mean TEMPRATURE values of 4 different MIXING CONDITION's are equal. Because the p-value is 0.00000377 , which is less than the significance level of 0.05, we can reject the null hypothesis and conclude that some MIXING CONDITION  have significant different mean.</b></font></li>"
   ]
  },
  {
   "cell_type": "code",
   "execution_count": 58,
   "metadata": {
    "collapsed": false
   },
   "outputs": [
    {
     "name": "stdout",
     "output_type": "stream",
     "text": [
      "Multiple Comparison of Means - Tukey HSD,FWER=0.05\n",
      "==============================================\n",
      "group1 group2 meandiff  lower    upper  reject\n",
      "----------------------------------------------\n",
      "  1      2     11.91    4.9156  18.9044  True \n",
      "  1      3     -3.395  -10.3894  3.5994 False \n",
      "  1      4      0.22   -6.7744   7.2144 False \n",
      "  2      3    -15.305  -22.2994 -8.3106  True \n",
      "  2      4     -11.69  -18.6844 -4.6956  True \n",
      "  3      4     3.615   -3.3794  10.6094 False \n",
      "----------------------------------------------\n",
      "[1 2 3 4]\n"
     ]
    }
   ],
   "source": [
    "import statsmodels.stats.multicomp as multi\n",
    "mc = multi.MultiComparison( data['TEMP'],data['MIXING CONDITION'])\n",
    "result =mc.tukeyhsd()\n",
    "print(result)\n",
    "print(mc.groupsunique)"
   ]
  },
  {
   "cell_type": "markdown",
   "metadata": {},
   "source": [
    "p-value tells us how likely it is that we were wrong in rejecting our null hypothesis. Therotically, for p < 0.05,  less than 5% - meaning a 5% chance of making a type I error (rejecting the null hypothesis even though it is true).\n",
    "When we compare subsets of data, higher the chances to find some random effect - for only 4 tests, the probability of making at least one mistake is already (0.05/4) i.e. 0.0125 which is much lesser than 0.05 .\n",
    "The goal of using the Bonferroni adjustment, is to control the family-wise error rate, also known as the maximum overall type 1 error rate. So that we can evaluate which pairs of MIXING CONDITION dependence rates are different from one another. <br>\n",
    "The result summary above shows that the FWER was taken into account automatically, and then lists all the group-wise comparisons, their differences, and whether or not we can reject the null hypothesis (that both groups have equal means). <br>\n",
    "<b><font color='blue'>The Post-hoc test for multi-comparision for MIXING CONDITION results that MIXING CONDITION-2 have significantly different mean.<br>\n",
    "From a statistics point of view, it’s quite safe to say that there is a significant difference in the TEMPRATURE for different MIXING CONDITION with F(3, 79) = 9.85 (the numbers in brackets are degrees of freedom, df model and df residuals, from the ANOVA summary above) and p < 0.05.</b></font>"
   ]
  },
  {
   "cell_type": "markdown",
   "metadata": {},
   "source": [
    "Consider Hypothesis to be test: <br>\n",
    "<u>Testing Hypothesis</u><br>"
   ]
  },
  {
   "cell_type": "code",
   "execution_count": 59,
   "metadata": {
    "collapsed": false
   },
   "outputs": [
    {
     "data": {
      "text/latex": [
       "\\begin{align}\n",
       "H_{0}: \\mu(Experiment Condition1)=\\mu(Experiment Condition2)\\\\\n",
       "H_{a}: \\mu(Experiment Condition1)\\neq \\mu(Experiment Condition2)\\\\\n",
       "\\end{align}"
      ],
      "text/plain": [
       "<IPython.core.display.Latex object>"
      ]
     },
     "metadata": {},
     "output_type": "display_data"
    }
   ],
   "source": [
    "%%latex\n",
    "\\begin{align}\n",
    "H_{0}: \\mu(Experiment Condition1)=\\mu(Experiment Condition2)\\\\\n",
    "H_{a}: \\mu(Experiment Condition1)\\neq \\mu(Experiment Condition2)\\\\\n",
    "\\end{align}"
   ]
  },
  {
   "cell_type": "markdown",
   "metadata": {},
   "source": [
    "<li>Step1: Normality Test</li>"
   ]
  },
  {
   "cell_type": "code",
   "execution_count": 60,
   "metadata": {
    "collapsed": true
   },
   "outputs": [],
   "source": [
    "c1=data[data[\"EXPERIMENT CONDITION\"]==1]\n",
    "c2=data[data[\"EXPERIMENT CONDITION\"]==2]"
   ]
  },
  {
   "cell_type": "code",
   "execution_count": 61,
   "metadata": {
    "collapsed": false
   },
   "outputs": [
    {
     "data": {
      "image/png": "[encoded data removed]",
      "text/plain": [
       "<matplotlib.figure.Figure at 0xc6476d8>"
      ]
     },
     "metadata": {},
     "output_type": "display_data"
    }
   ],
   "source": [
    "temp=[c1.TEMP,c2.TEMP]\n",
    "plt.boxplot(temp)\n",
    "plt.xticks([1,2],['EX -1','EX -2'])\n",
    "plt.title('Explore the EXPERIMENT CONDITION  ~ TEMP response')\n",
    "plt.show()"
   ]
  },
  {
   "cell_type": "markdown",
   "metadata": {},
   "source": [
    "<li>EXPERIMENT CONDITION - 1 seems normally distributed, EXPERIMENT CONDITION -2 have long left tail.<br> \n",
    "Box plots are  overlapping, but not both medians so there is likely to be a difference between both groups.<br></li>"
   ]
  },
  {
   "cell_type": "code",
   "execution_count": 62,
   "metadata": {
    "collapsed": false
   },
   "outputs": [
    {
     "name": "stdout",
     "output_type": "stream",
     "text": [
      "('EX-1 :', (0.6992236375808716, 9.453636096168339e-08), 'EX-2 :', (0.8998045325279236, 0.0018868515035137534))\n"
     ]
    }
   ],
   "source": [
    "print (\"EX-1 :\",stats.shapiro(c1.TEMP,reta=False),'EX-2 :' ,stats.shapiro(c2.TEMP,reta=False)) "
   ]
  },
  {
   "cell_type": "markdown",
   "metadata": {},
   "source": [
    "<li><font color='blue'><b>Shapiro test detects all \"departures from normality\" ,pvalue < 0.05 shows 95% confident that EXPERIMENT CONDITION -1 , EXPERIMENT CONDITION -2 is not normally distributed  or is consequences of few samples.</b></font></li>"
   ]
  },
  {
   "cell_type": "markdown",
   "metadata": {},
   "source": [
    "<li>Normality Test for residuals</li>"
   ]
  },
  {
   "cell_type": "code",
   "execution_count": 63,
   "metadata": {
    "collapsed": false
   },
   "outputs": [
    {
     "data": {
      "text/plain": [
       "(0.8520757555961609, 1.90148512047017e-07)"
      ]
     },
     "execution_count": 63,
     "metadata": {},
     "output_type": "execute_result"
    }
   ],
   "source": [
    "lm = ols('data.TEMP ~ C(data[\"EXPERIMENT CONDITION\"], Sum)', data=data).fit()\n",
    "res=lm.resid\n",
    "stats.shapiro(res,reta=False)"
   ]
  },
  {
   "cell_type": "code",
   "execution_count": 64,
   "metadata": {
    "collapsed": false
   },
   "outputs": [
    {
     "data": {
      "image/png": "[encoded data removed]",
      "text/plain": [
       "<matplotlib.figure.Figure at 0xd9c5d30>"
      ]
     },
     "metadata": {},
     "output_type": "display_data"
    }
   ],
   "source": [
    "# Q-Q Plot residuals\n",
    "res=lm.resid_pearson\n",
    "stats.probplot(res, dist=\"norm\", plot=plt)\n",
    "plt.title(\"Normal Q-Q plot\")\n",
    "plt.show()"
   ]
  },
  {
   "cell_type": "markdown",
   "metadata": {},
   "source": [
    "<li>pvalue > 0.05 shows residuals come from normal distribution. Also Q-Q plot of residual Vs distribution are not close fit </li>"
   ]
  },
  {
   "cell_type": "markdown",
   "metadata": {},
   "source": [
    "<li>Step2 : Homoscedasticity </li>"
   ]
  },
  {
   "cell_type": "code",
   "execution_count": 65,
   "metadata": {
    "collapsed": false
   },
   "outputs": [
    {
     "data": {
      "text/plain": [
       "LeveneResult(statistic=2.8947417038759711, pvalue=0.092852343223282771)"
      ]
     },
     "execution_count": 65,
     "metadata": {},
     "output_type": "execute_result"
    }
   ],
   "source": [
    "stats.levene(c1.TEMP,c2.TEMP,center='mean')"
   ]
  },
  {
   "cell_type": "code",
   "execution_count": 66,
   "metadata": {
    "collapsed": false
   },
   "outputs": [
    {
     "data": {
      "text/plain": [
       "LeveneResult(statistic=3.2248004192962565, pvalue=0.076403268167920063)"
      ]
     },
     "execution_count": 66,
     "metadata": {},
     "output_type": "execute_result"
    }
   ],
   "source": [
    "stats.levene(c1.TEMP,c2.TEMP,center='median')"
   ]
  },
  {
   "cell_type": "markdown",
   "metadata": {},
   "source": [
    "<li><font color='blue'><b>pvalue > 0.05 indicates all EXPERIMENT CONDITION has significant difference in TARGET TEMP , which indicates violation of homogeneity of variance</font></b> </li>"
   ]
  },
  {
   "cell_type": "code",
   "execution_count": 67,
   "metadata": {
    "collapsed": true
   },
   "outputs": [],
   "source": [
    "#Within Measure"
   ]
  },
  {
   "cell_type": "code",
   "execution_count": 68,
   "metadata": {
    "collapsed": false
   },
   "outputs": [
    {
     "name": "stdout",
     "output_type": "stream",
     "text": [
      "TEMP ~ EXPERIMENT CONDITION\n",
      "\n",
      "TESTS OF WITHIN SUBJECTS EFFECTS\n",
      "\n",
      "Measure: TEMP\n",
      "          Source                                   Type III   eps   df     MS        F     Sig.    et2_G   Obs.    SE     95% CI   lambda   Obs.  \n",
      "                                                      SS                                                                                    Power \n",
      "=================================================================================================================================================\n",
      "EXPERIMENT CONDITION          Sphericity Assumed    180.413     -    1   180.413   3.695   0.058   0.023     80   0.793    1.555    3.742   0.480 \n",
      "                              Greenhouse-Geisser    180.413     1    1   180.413   3.695   0.058   0.023     80   0.793    1.555    3.742   0.480 \n",
      "                              Huynh-Feldt           180.413     1    1   180.413   3.695   0.058   0.023     80   0.793    1.555    3.742   0.480 \n",
      "                              Box                   180.413     1    1   180.413   3.695   0.058   0.023     80   0.793    1.555    3.742   0.480 \n",
      "-------------------------------------------------------------------------------------------------------------------------------------------------\n",
      "Error(EXPERIMENT CONDITION)   Sphericity Assumed   3857.051     -   79    48.823                                                                  \n",
      "                              Greenhouse-Geisser   3857.051     1   79    48.823                                                                  \n",
      "                              Huynh-Feldt          3857.051     1   79    48.823                                                                  \n",
      "                              Box                  3857.051     1   79    48.823                                                                  \n",
      "\n",
      "TABLES OF ESTIMATED MARGINAL MEANS\n",
      "\n",
      "Estimated Marginal Means for EXPERIMENT CONDITION\n",
      "EXPERIMENT CONDITION    Mean    Std. Error   95% Lower Bound   95% Upper Bound \n",
      "==============================================================================\n",
      "1                      42.970        1.447            40.134            45.806 \n",
      "2                      47.218        1.689            43.908            50.527 \n",
      "\n",
      "\n"
     ]
    }
   ],
   "source": [
    "from numpy.random import normal\n",
    "import pyvttbl as pt\n",
    "from collections import namedtuple\n",
    "df1=pt.DataFrame(data)  \n",
    "aov = df1.anova('TEMP', sub='SAMPLE', wfactors=['EXPERIMENT CONDITION'])\n",
    "print(aov)"
   ]
  },
  {
   "cell_type": "code",
   "execution_count": 69,
   "metadata": {
    "collapsed": false
   },
   "outputs": [
    {
     "name": "stdout",
     "output_type": "stream",
     "text": [
      "{'p': 0.058174075035167659, 'mse': 48.82342879746836, 'eta': 0.022852902073321812, 'F': 3.6952046782374879}\n"
     ]
    }
   ],
   "source": [
    "results=extract_for_apa('EXPERIMENT CONDITION', aov, values = ['F', 'mse', 'eta', 'p'])\n",
    "print results"
   ]
  },
  {
   "cell_type": "markdown",
   "metadata": {},
   "source": [
    "<li><font color='blue'><b>\n",
    "In these results, the null hypothesis states that the mean TEMPRATURE values of 2 different EXPERIMENT CONDITION's are equal. Because the p-value is 0.058 , which is greater than the significance level of 0.05, we can not reject the null hypothesis and conclude that EXPERIMENT CONDITION  do not have significant difference in means. </b></font></li>"
   ]
  },
  {
   "cell_type": "markdown",
   "metadata": {},
   "source": [
    "Consider Hypothesis to be test: <br>"
   ]
  },
  {
   "cell_type": "code",
   "execution_count": 70,
   "metadata": {
    "collapsed": false
   },
   "outputs": [
    {
     "data": {
      "text/latex": [
       "\\begin{align}\n",
       "H_{0}: No\\ interaction \\ between\\ the\\ factors\\ \\\n",
       "H_{a}: Interaction \\ between \\ the \\ factors\\\\\n",
       "\\end{align}"
      ],
      "text/plain": [
       "<IPython.core.display.Latex object>"
      ]
     },
     "metadata": {},
     "output_type": "display_data"
    }
   ],
   "source": [
    "%%latex\n",
    "\\begin{align}\n",
    "H_{0}: No\\ interaction \\ between\\ the\\ factors\\ \\\n",
    "H_{a}: Interaction \\ between \\ the \\ factors\\\\\n",
    "\\end{align}"
   ]
  },
  {
   "cell_type": "code",
   "execution_count": 71,
   "metadata": {
    "collapsed": false
   },
   "outputs": [
    {
     "data": {
      "image/png": "[encoded data removed]",
      "text/plain": [
       "<matplotlib.figure.Figure at 0xd933fd0>"
      ]
     },
     "metadata": {},
     "output_type": "display_data"
    }
   ],
   "source": [
    "import numpy as np\n",
    "import statsmodels.graphics.factorplots as sp\n",
    "fig = sp.interaction_plot(data['MIXING CONDITION'],data['EXPERIMENT CONDITION'],data['TEMP'], \n",
    "                          colors=['red','blue'], markers=['D','^'], ms=10)\n",
    "import matplotlib.pyplot as plt\n",
    "plt.show()"
   ]
  },
  {
   "cell_type": "markdown",
   "metadata": {},
   "source": [
    "<li><font color='blue'><b>EXPERIMENT CONDITION-2 has highest mean for all MIXING CONDITION compare to EXPERIMENT CONDITION-1</b></font><li>"
   ]
  },
  {
   "cell_type": "markdown",
   "metadata": {},
   "source": [
    "<h3><center>More Than Two Factor - ANOVA</center></h3>"
   ]
  },
  {
   "cell_type": "code",
   "execution_count": 72,
   "metadata": {
    "collapsed": false
   },
   "outputs": [
    {
     "name": "stdout",
     "output_type": "stream",
     "text": [
      "TEMP ~ MIXING CONDITION\n",
      "\n",
      "TESTS OF BETWEEN-SUBJECTS EFFECTS\n",
      "\n",
      "Measure: TEMP\n",
      "     Source        Type III   df     MS        F        Sig.      et2_G   Obs.    SE     95% CI   lambda   Obs.  \n",
      "                      SS                                                                                   Power \n",
      "================================================================================================================\n",
      "MIXING CONDITION   2686.949    3   895.650   12.634   8.736e-07   0.333     20   1.913    3.750    9.974   0.736 \n",
      "Error              5387.978   76    70.894                                                                       \n",
      "================================================================================================================\n",
      "Total              8074.927   79                                                                                 \n",
      "\n",
      "TABLES OF ESTIMATED MARGINAL MEANS\n",
      "\n",
      "Estimated Marginal Means for MIXING CONDITION\n",
      "MIXING CONDITION    Mean    Std. Error   95% Lower Bound   95% Upper Bound \n",
      "==========================================================================\n",
      "1                  42.910        2.493            38.024            47.796 \n",
      "2                  54.820        2.617            49.691            59.949 \n",
      "3                  39.515        0.765            38.015            41.015 \n",
      "4                  43.130        0.729            41.700            44.560 \n",
      "\n",
      "\n"
     ]
    }
   ],
   "source": [
    "from numpy.random import normal\n",
    "import pyvttbl as pt\n",
    "from collections import namedtuple\n",
    "df1=pt.DataFrame(data)  \n",
    "aov = df1.anova('TEMP', sub='SAMPLE',bfactors=['MIXING CONDITION'])\n",
    "print(aov)"
   ]
  },
  {
   "cell_type": "code",
   "execution_count": 73,
   "metadata": {
    "collapsed": false
   },
   "outputs": [
    {
     "name": "stdout",
     "output_type": "stream",
     "text": [
      "TEMP ~ EXPERIMENT CONDITION\n",
      "\n",
      "TESTS OF BETWEEN-SUBJECTS EFFECTS\n",
      "\n",
      "Measure: TEMP\n",
      "       Source          Type III   df     MS        F     Sig.    et2_G   Obs.    SE     95% CI   lambda   Obs.  \n",
      "                          SS                                                                              Power \n",
      "===============================================================================================================\n",
      "EXPERIMENT CONDITION    360.825    1   360.825   3.648   0.060   0.045     40   1.597    3.130    1.871   0.272 \n",
      "Error                  7714.102   78    98.899                                                                  \n",
      "===============================================================================================================\n",
      "Total                  8074.927   79                                                                            \n",
      "\n",
      "TABLES OF ESTIMATED MARGINAL MEANS\n",
      "\n",
      "Estimated Marginal Means for EXPERIMENT CONDITION\n",
      "EXPERIMENT CONDITION    Mean    Std. Error   95% Lower Bound   95% Upper Bound \n",
      "==============================================================================\n",
      "1                      42.970        1.447            40.134            45.806 \n",
      "2                      47.218        1.689            43.908            50.527 \n",
      "\n",
      "\n"
     ]
    }
   ],
   "source": [
    "from numpy.random import normal\n",
    "import pyvttbl as pt\n",
    "from collections import namedtuple\n",
    "df1=pt.DataFrame(data)  \n",
    "aov = df1.anova('TEMP', sub='SAMPLE',bfactors=['EXPERIMENT CONDITION'])\n",
    "print(aov)"
   ]
  },
  {
   "cell_type": "code",
   "execution_count": 74,
   "metadata": {
    "collapsed": false
   },
   "outputs": [
    {
     "name": "stdout",
     "output_type": "stream",
     "text": [
      "TEMP ~ EXPERIMENT CONDITION * MIXING CONDITION\n",
      "\n",
      "TESTS OF BETWEEN-SUBJECTS EFFECTS\n",
      "\n",
      "Measure: TEMP\n",
      "                Source                    Type III   df     MS        F        Sig.      et2_G   Obs.    SE     95% CI   lambda   Obs.  \n",
      "                                             SS                                                                                   Power \n",
      "=======================================================================================================================================\n",
      "EXPERIMENT CONDITION                       360.825    1   360.825    5.318       0.024   0.069     40   1.325    2.596    2.954   0.396 \n",
      "MIXING CONDITION                          2686.949    3   895.650   13.200   5.866e-07   0.355     20   1.873    3.672   11.000   0.780 \n",
      "EXPERIMENT CONDITION * MIXING CONDITION    141.937    3    47.312    0.697       0.557   0.028     10   2.649    5.193    0.291   0.067 \n",
      "Error                                     4885.215   72    67.850                                                                       \n",
      "=======================================================================================================================================\n",
      "Total                                     8074.927   79                                                                                 \n",
      "\n",
      "TABLES OF ESTIMATED MARGINAL MEANS\n",
      "\n",
      "Estimated Marginal Means for EXPERIMENT CONDITION\n",
      "EXPERIMENT CONDITION    Mean    Std. Error   95% Lower Bound   95% Upper Bound \n",
      "==============================================================================\n",
      "1                      42.970        1.447            40.134            45.806 \n",
      "2                      47.218        1.689            43.908            50.527 \n",
      "\n",
      "Estimated Marginal Means for MIXING CONDITION\n",
      "MIXING CONDITION    Mean    Std. Error   95% Lower Bound   95% Upper Bound \n",
      "==========================================================================\n",
      "1                  42.910        2.493            38.024            47.796 \n",
      "2                  54.820        2.617            49.691            59.949 \n",
      "3                  39.515        0.765            38.015            41.015 \n",
      "4                  43.130        0.729            41.700            44.560 \n",
      "\n",
      "Estimated Marginal Means for EXPERIMENT CONDITION * MIXING CONDITION\n",
      "EXPERIMENT CONDITION   MIXING CONDITION    Mean    Std. Error   95% Lower Bound   95% Upper Bound \n",
      "=================================================================================================\n",
      "1                      1                  38.560        1.775            35.081            42.039 \n",
      "1                      2                  53.390        4.056            45.439            61.341 \n",
      "1                      3                  38.650        0.228            38.204            39.096 \n",
      "1                      4                  41.280        0.149            40.988            41.572 \n",
      "2                      1                  47.260        4.346            38.743            55.777 \n",
      "2                      2                  56.250        3.464            49.460            63.040 \n",
      "2                      3                  40.380        1.501            37.438            43.322 \n",
      "2                      4                  44.980        1.210            42.609            47.351 \n",
      "\n",
      "\n"
     ]
    }
   ],
   "source": [
    "from numpy.random import normal\n",
    "import pyvttbl as pt\n",
    "from collections import namedtuple\n",
    "df1=pt.DataFrame(data)  \n",
    "aov = df1.anova('TEMP', sub='SAMPLE',bfactors=['EXPERIMENT CONDITION','MIXING CONDITION'])\n",
    "print(aov)"
   ]
  },
  {
   "cell_type": "markdown",
   "metadata": {
    "collapsed": true
   },
   "source": [
    "<font color='blue'><b><li>\n",
    "In these results, the null hypothesis states that there is no interaction between two factors Experiment Condition and Mixing Condition. The lines in the plot are not crossing each other and the p-value is 0.557, which is greater than the significance level of 0.05, thus we can not reject the null hypothesis and conclude that there is no interaction between of the two factors Experiment Condition and Mixing Condition.\n",
    "</li></b></font>"
   ]
  },
  {
   "cell_type": "markdown",
   "metadata": {},
   "source": [
    "<h3>Conclusion</h3><br>To Assess the Influence of Mixing Condition During Composting: <ol><li> Have used the Feature Reduction (Lasso) to find factors to be considered for statistical tests.<br>\n",
    "MIXING CONDITION and EXPERIMENT CONDITION have caused variation in response variable TEMPRATURE.</li>\n",
    "<li>Tests for ANOVA assumptions for Normality and Variance were conducted using Shapiro's and Levene respectively.<br> MIXING CONDITION and EXPERIMENT CONDITION viloated the assumption.</li>\n",
    "<li>The Analysis of Variance was conducted to find the significant difference between factors using One-Way repeated measures (within measures).<br>\n",
    "For MIXING CONDITION the p-value< 0.0 thus reject the null hypothesis andfor EXPERIMENT CONDITION p-value > 0.05, can't reject the null hypothesis.</li>\n",
    "<li>The Post-hoc for multi-comparision test has been conducted to find exact mean difference within groups. MIXING CONDITION-2 has significant difference in mean compared with other  MIXING CONDITION'S. \n",
    "whereas there is no signficant difference between  mean values of EXPERIMENT CONDITION-1 and EXPERIMENT CONDITION-2.</li></ol>\n",
    "\n",
    "Finally,we can conclude that MIXING CONDITION-2 has MIXING CONDITION-2,MIXING CONDITION-3 and MIXING CONDITION-4 (Static, every 24hr, 96hr, 192hr) in compost reactors has influnce on TEMPRATURE ,when tested under EXPERIMENT CONDITION-1 and EXPERIMENT CONDITION-2."
   ]
  }
 ],
 "metadata": {
  "anaconda-cloud": {},
  "kernelspec": {
   "display_name": "Python [default]",
   "language": "python",
   "name": "python2"
  },
  "language_info": {
   "codemirror_mode": {
    "name": "ipython",
    "version": 2
   },
   "file_extension": ".py",
   "mimetype": "text/x-python",
   "name": "python",
   "nbconvert_exporter": "python",
   "pygments_lexer": "ipython2",
   "version": "2.7.12"
  }
 },
 "nbformat": 4,
 "nbformat_minor": 1
}
