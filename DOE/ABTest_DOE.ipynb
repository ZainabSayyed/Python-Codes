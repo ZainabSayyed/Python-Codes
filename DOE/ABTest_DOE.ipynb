{
 "cells": [
  {
   "cell_type": "markdown",
   "metadata": {},
   "source": [
    "<h1><center>Abstract</center></h1>\n",
    "<p>This notebook is part of research for Graduate CapStone project. Experimental Design (D.O.E) is a process of planning an experiment and then conducting experiment. Can be imagine as process where there are input variables called factors which can are being varying and effects are measure on out variable called response.</p>\n",
    "<p>In web application for Ecommerce same concept is implemented by dividing visitors into two groups control and experiment and both groups are expose to different versions of website. And data is being collected for analysis. The design with highest conversion rates will get selected as Final product. This process is called A/B testing.</p>\n",
    "<p>Concepts and theory of DOE I studied in my Advance Qauality Assurance Course, when I attend ODSC West 2016 conference and asked by recruiter do you know \"A/B Testing\"? which made me cruious to do further research and P.O.C how to perform \"A/B Test\"? Is it only applicable for website design? After a while found root back to DOE.</p>\n",
    "<p> In this notebook designing of experiment for \"A/B Test\" ,gathering data and analyzing it statistically is discussed in detail. Also sample data set is use to implement statistical test</p>\n",
    "<p>Most of examples and theory is recreated in Python from Udacity \"A/B Testing\" by Google and Coursera \"Design of Experiment\" online courses.</p>"
   ]
  },
  {
   "cell_type": "markdown",
   "metadata": {},
   "source": [
    "# What is A/B Testing?\n",
    "Is general methodology used online when you like to test new a product or feaure. Can take twe sets of users.\n",
    "You're going to show one set, a control set, your existing product or features.\n",
    "And hen another set your experiement the new version.\n",
    "See how this sets respond inorder to determine which version of your feature or product is better?"
   ]
  },
  {
   "cell_type": "markdown",
   "metadata": {},
   "source": [
    "# Should use \"A/B\" Testing for every change we are considering or there certain types of changes it works better for?\n",
    "\n",
    "John Lily - VC at Greylock, Ex CEO at Mozilla:\n",
    "Analogy: A/B Testing helping you climb to the peak of your current mountain but if you want to figure out whether you want to be on this mountain or another mountain, A/B testing isn't so useful.\n",
    "\n",
    "You can test a pretty wide variety of things with A/B testing, everything from some new features, additions to your UI, different look for your website , and a lot of campanies use it.\n",
    "\n",
    "examples: \n",
    "Amazon first statred doing personalized recommendations, they wanted to see whether people really bought more stuff and they discovered that actually had a significant increase in revenue.\n",
    "\n",
    "Another example googles experiment with 41 shaeds of blue on their UI and see how user responded and reacted. It was interesting and useful internally and it's little too far doing such experiments.\n",
    "\n",
    "Should use A/B testing for fairly complicated changes.\n",
    "\n",
    "Can use A/B testing for less user visible changes such as ranking changes.\n",
    "\n",
    "examples:\n",
    "LinkedIn tested a change where they were trying to figure out whether they should show a news articles or an encouragment to basically add new contacts.\n",
    "\n",
    "Google does lot of ranking between search lists and ads, test all of those changes also via A/B testing.\n",
    "\n",
    "Also can test changes that not even sure user would notice.\n",
    "100 ms is not a lot of page load time but both Amazon and Google have run experiments.\n",
    "Amazon showed in 2007 that, for every 100ms they added to the page they actually had a 1% decrease in revenue. Though for google 100ms doesn't seem like that much, on average the number of queries people do actually decreases for every 100 ms of latency that you add.\n",
    "\n"
   ]
  },
  {
   "cell_type": "markdown",
   "metadata": {},
   "source": [
    "# What are things can't do with A/B Testing?\n",
    "Is not as useful testing out new experiences. And you can sort of think about this in the obvious way.\n",
    "You are testing a new experience and you have got an existing set of users and thet are like, \"hey you just changes my experience\". What happen I like my old way?\n",
    "That's called change of version.\n",
    "On other hand they may say \"Wow it'e new\" and they will test everything.\n",
    "That's called a novelty effect.\n",
    "With new experience there are two issues:\n",
    "1. What is your base line for comparision?\n",
    "2. How much time you need in order to actually have your users adapt to the new experience? what is going to be the plateaued experiences so I can make robust decision.\n",
    "\n",
    "Example: \n",
    "website that recommends apartment rentals. People don't look for apartment that often and we are interested in return business or maybe want to grow business by referrals to other people ,who like your service. And the reality in the scope of the experiment is going ti be really hard to measure whether people actually come back to you from more referrals.And even if they refer their friends, its going to be next week? It's going to be be six months from now?\n",
    "Certain things may want to know about site that are pretty difficult to et at through short term A/B testing rather use some matrics that are good proxies for that kind of thing.\n",
    "\n",
    "Another thing A/B can't tell you if you are missing something.\n",
    "\n",
    "Example:\n",
    "On digital camera review website A/B testing can recommend you should show XYZ camera review above 123Camera review but A/B testing can't really tell you if you are missing entire other camera you should be reviewing but you aren't at all.\n",
    "\n",
    "\n",
    "\n",
    "\n"
   ]
  },
  {
   "cell_type": "markdown",
   "metadata": {},
   "source": [
    "<h1>When can you use A/B testing?</h1>\n",
    "<h2>Online shopping company: is mysite complete?</h2>\n",
    "No\n",
    "Can't figure out what product user needs by runing an A/B test, could try carrying specific product but can't answer in general what specific product user need and you are missing?\n",
    "Instead can ask user whether there is anything they feel is missing.\n",
    "\n",
    "<h2>Add premimum service.</h2>\n",
    "Yes, but wouldn't be able to fully test whether the premuim serviceis a good business decision?\n",
    "User have to opt for premium services so randomly assiging people to one group or another wouldn't really work.\n",
    "You wouldn't have control to comapre against.\n",
    "You can still get valuable information from an A/B test.\n",
    "Such as you could see how many users will read about the additional features or how many are willing to upgrade if you make the choise available.\n",
    "But can't fully test out the change.\n",
    "\n",
    "<h2>Movie recommendations site: new ranking algorithm.</h2>\n",
    "Yes, this is the great place to use A/B testing.\n",
    "There is a clear control over experiment group, the old algorithm and the new algorithm.\n",
    "Probably some clear metrics you use to evaluate the change, such as the probability of a user clicking on recommendation or actually watching the movie.\n",
    "\n",
    "<h2>Change backend- page load time, results users see etc.</h2>\n",
    "Yes, but can be tricky to test depending on whether you have computing ability to test run both versions of the backend at once.\n",
    "If you do though, can definelty A/B test the results of the change.\n",
    "Also can have clear control on experiement groups since the groups are very comparable as long as computing power to run both simultaneously is available.\n",
    "<h1>website selling cars : will a change increase repeat customers or referals?</h1>\n",
    "No, People buys cars very rarely so it will take too long and don't necessarily even have data about whether customers are recommending the site to their friends.\n",
    "<h1> Update brand , including main logo?</h1>\n",
    "No, Can use A/B testing certainly to collect data about user behavior with the new and old logo.\n",
    "Changing the branding of the comapany can be suprisingly emotional for the users though and need time to get used to of the new logo and can't make decision based on short time window of data collected in an A/B test.\n",
    "<h1>Test layout of initial page, information, words, colors.</h1>\n",
    "Yes, great case to use. Clear control of  experiment and choosing good metrics to evaluate this type of change will be much easier.\n",
    "Such as probability that user progress past the intital page."
   ]
  },
  {
   "cell_type": "markdown",
   "metadata": {},
   "source": [
    "# Other Techniques\n",
    "Cases where A/B testing isn't very helpful.\n",
    "There are lot of different ways to gather data about users and some of them are complimentary to runing \n",
    "an A/B test. \n",
    "Example:\n",
    "often we have logs of activites user did on website.\n",
    "Can analyze them retrospectively or observationally to see if a hypothesis can be developed about what's causing changes in their behavior.\n",
    "And something you may actually want to go forward and actually design and randomize and experiment to a prespective analysis.And can use two data sources as kind of compliment to each other. You develop the hypothesis from log but actually want to test out whether you can make this happen in an experiment.\n",
    "And then want to run an AB test as well to compare the results and see if your theory is valid.\n",
    "Also whole host of other techniques as well, ranging from user experience research, focus group and survey and human evaluation. \n",
    "A/B testing can give you quantitative data but these other techniques can give you very deep and qualitative data which is really complementary to A/B testing.\n",
    "So can do better job in decision making process.\n",
    "Some experiements are very hard to test with A/B testing.\n",
    "For an example we want to completely redo your website what to display? how user is going to interact?\n",
    "That is very difficult to experiment in a controlled environment.\n"
   ]
  },
  {
   "cell_type": "markdown",
   "metadata": {},
   "source": [
    "# History of A/B Testing\n",
    "When people first start using A/B testing?\n",
    "It's been around long time with different name it came from the field such as agriculture where people were divide up their land into different sections and then test what would work better for a particular crop or how it grew?\n",
    "and there are lots of different field which uses A/B testing in different form.\n",
    "In a sciences more generally hypothesis testing is a key way that they really determine innovation. In medicine, for example their version of A/B testing is called clinical trials and that's how they determine whether new drug is effective or not.\n",
    "The key thing you want to see in a A/B testing have a consistent response from your control experiment group. So you can determine whether a behavior change in your experiment group as opposed to in your control group.\n",
    "\n",
    "Difference between running other test and runing online A/B tests?\n",
    "In online world researcher have lot of data but kind of lower resolution. So intraditional medical trial or user experince research study one would have 10 , 20 or 30 participant so normaly analysis is different we have to be very careful about though you know lot about each participant in your trial such as their age, weight and know its a single person, you have their drivers license or birth certificate and have met them. Where as online settings can have millions of users , hundreds of thousands of clicks, respondents. But you dont really don't know much who is at the other end so it may be something where you have trouble distinguishing whether it's a single person, or group of people. It is an internet cafe computer? And those kind of issues comes in online data and testing.\n",
    "\n",
    "The key to rememebr is that the online world, when you are doing A/B testing the goal is to determine whether or not a new product or a feature is something user will like and so the goal in A/B test is to design an experiment that can be robust and can give you repeatable results, so that you can actually make a good decision about whether or not to actually launch that product or feature.\n",
    "\n",
    "All are major companies are definelty using A/B testing such as Google, Amazon, Paypal , Netflix. \n"
   ]
  },
  {
   "cell_type": "markdown",
   "metadata": {},
   "source": [
    "<center><b>Business Scenario</b></center>\n",
    "To understand A/B testing here we consider an example of of the Online education company call \"Audacity\" , generally creates online finance courses.\n",
    "User flow is as follows.\n",
    "<ol>\n",
    "<li>Home page visits</li>\n",
    "<li>Exploring the site</li>\n",
    "<li>Create an account</li>\n",
    "<li>Completion: is final outcome may be they make a purchase, completed a class , finish a series of classes or their the site on their blog.</li></ol>\n",
    "\n",
    "This kind of flow is often called the \"customer funnel\" as shown in chart and it's a common idea for website. The idea is that you have largest number of the events at the top of the funnel and as go down it becomes very rare that someone would reach that level. <br>\n",
    "The idea is that users are ticklimng down the funnel but that's kind of the simplistic idea. The customer actually don't enter, create an account and complete in consistent manner.<br>\n",
    "There is lot of back and forth swirl between the different states, and repeat visitors who skip over intermediate steps.<br>\n"
   ]
  },
  {
   "cell_type": "markdown",
   "metadata": {},
   "source": [
    "<div>\n",
    "    <a href=\"https://plot.ly/create/?fid=Zainabs:121&share_key=r63obAlZtExse2RltFP8vG#\" target=\"_blank\" title=\"plot from API (13)\" style=\"display: block; text-align: center;\"><img src=\"https://plot.ly/~Zainabs/121.png?share_key=r63obAlZtExse2RltFP8vG\" alt=\"plot from API (13)\" style=\"max-width: 100%;width: 800px;\"  width=\"800\" onerror=\"this.onerror=null;this.src='https://plot.ly/404.png';\" /></a>\n",
    "    <script data-plotly=\"Zainabs:121\" sharekey-plotly=\"r63obAlZtExse2RltFP8vG\" src=\"https://plot.ly/embed.js\" async></script>\n",
    "</div>\n"
   ]
  },
  {
   "cell_type": "markdown",
   "metadata": {},
   "source": [
    "<u>Experiment:</u>\n",
    "Consider an experimental change to Audacity's homepage. Consider a change to the \"Start Now\" button.If user click this button, they can see list of Audacity courses.In this experiment we will make simple change, making a \"Start Now\" button pink instead orange. <br>\n",
    "Hypothesis: Changing the \"Start Now\" button from orange to pink will increase how many students explore Audacity courses.<br>\n",
    "Choose a Metric: Refining the hypothesis:<br>\n",
    "<ol><li>Total number of course completed: As student takes between 2 weeks to months to complete course, using this metric would simply take much time to be practical.</li> \n",
    "<li>Number of clicks: More people will click on button to explore the site and eventually some of them will create an account and go on to complete a course. Increasing the rate at which users progress down the funnel at one level will have positive impact on the end of the funnel as well.\n",
    "When we design experiment and control group what happen if user in one group click more than user in another group and total visitors in each groups varies. So instead counting the number of click , we could use click-through rate or CTR (# no of click/ # no of page viewers).</li>\n",
    "<li>Click through probability: (# Unique visitors who click/ # Unique visitors to page)</li> </ol>\n",
    "Metric A,B isn't very accurate. Metric C i.e. Click through probability.<br>\n",
    "Updated hypothesis: Changing the \"Start Now\" button from organge to pink will increase throught probability of the button.And assume that will increase final business metric , which is total courses completed."
   ]
  },
  {
   "cell_type": "markdown",
   "metadata": {},
   "source": [
    "Here in this example we decided to use click through probabilty instead of click through rate why? and how can we decide in general.<br>\n",
    "Use rate when like to measure usuability of the site and prbability when like to measure total impact.\n",
    "So if for example want to measure the usability of a particular button, you use a rate because the users have variety of different places on the page that they can actually choose to click on. And so the rate will say how often do they actually find that button.\n",
    "In our experiment we just want to know how often users went to next level page on Audacity website and we aren't interested in counting how many times they click , did they reload etc.<br>\n",
    "How to compute the probability?<br>\n",
    "<ol><li> modify the website: to capture view page event then whenever user click also capture click event and as we are interested in probability of unique click so all child click for unique page viewer will be count as at most one click.</li>\n",
    "<li>once you have the data captures, to compute our rate sum(page view)/ sum(cick view).</li>\n",
    "</ol>\n",
    "\n"
   ]
  },
  {
   "cell_type": "markdown",
   "metadata": {},
   "source": [
    "<u>Repeated measurement of click through probability:</u>\n",
    "<li>Number of unique visitors on Audacity homepage= 1000</li>\n",
    "<li>Number of Unique click on \"Start Now\" button = 100</li>\n",
    "Click through probability ~ 10%<br>\n",
    "How sure you are about this estimate?\n",
    "Which results would surprise you if you repeated the measurement?\n",
    "100 clicks, 110 clicks, 150 clicks, 900 clicks.\n",
    "\n",
    "100, 101 ,110 clicks are inline to 100 but 150 and 900 is high percentage difference from sample of 1000. <br>\n",
    "Next will review how to select sample size and measure standard error.\n"
   ]
  },
  {
   "cell_type": "markdown",
   "metadata": {},
   "source": [
    "<h1>Which Distribution?</h1>\n",
    "How do you know how variables your estiate is likely to be? Such as to be surprise by 150 clicks.<br>\n",
    "There are certain distribution that commonly arise in statistics that gives you good guideline about how variable in your data is likely to be.\n",
    "If we are analyzing students grades data then normal distribution (bell curve) is an appropriate.\n",
    "Here in experiment of unique of clicking on \"Start Button\" is slightly different than normal. We don't have continuous data , we have successes and failures. Binomial is ideal for this example as we have two exclusive outcomes."
   ]
  },
  {
   "cell_type": "markdown",
   "metadata": {},
   "source": [
    "<u>Binomial Distribution:</u><br>\n",
    "$p=\\frac{3}{4}$ , where p is the probability of heads<br>\n",
    "Example: Two outcomes <br>\n",
    "Success=heads , Failures=tails\n",
    "when we increase n- Number of trials binomial distribution looks more like normal distribution.<br>\n",
    "mean= p<br>\n",
    "$st.dev=\\sqrt{\\frac{p(1-p)}{N}}$ <br>\n",
    "Experiment of flipping coins 20 times then how many heads are we going to get?<br>\n",
    "N = 20 total no of trails , X = 16 total no. of heads, $\\hat{P}$ =$\\frac{16}{20}$, $P^{\\wedge}$=$\\frac{4}{5}$<br>\n",
    "Assumptions have to be hold in order to use binomial distribution.<br>\n",
    "<ol>\n",
    "<li>Types of outcome success , failure</li>\n",
    "<li>Independent events</li>\n",
    "<li>Identical distribution (p should be same for all)</li></ol>\n",
    "\n",
    "Identify whcih of these are binomial distribution.\n",
    "<ol>\n",
    "<li>Drawing 20 cards from a shuffled deck, outcomes: red and black</li>\n",
    "Probability of each outcomes changes - Not binomial\n",
    "<li>Roll a die 50 times, outcomes : 6 or other</li>\n",
    "Independent and Identical events- binomial\n",
    "<li>Click on a search results page, outcomes : click or no click</li>\n",
    "Search results are inter related - Not binomial\n",
    "<li>Student completion of course after 2 months, outcomes: complete or not</li>\n",
    "Idependent and Identical- binomial\n",
    "<li>Purchase of items within a week, outcomes: purchased or not</li>\n",
    "Not Idependent- Not binomial\n",
    "</ol>"
   ]
  },
  {
   "cell_type": "markdown",
   "metadata": {},
   "source": [
    "<h1>Confidence Intervals</h1><br>\n",
    "How to find estimation error?<br>\n",
    "We expect click through probability to follow a binomial distribution. The benefit is that we can use formula for sample standard error for the binomial distribution to estimate how variable we expect our overall probability of a click to be.<br>\n",
    "What that means is that for a 95% confidence interval,if we therotically repeated the experiment over and over again , we would expect the interval we construct around our sample mean to cover the true value in the population 95% of the time.<br><br>\n",
    "<u>Calculating C.I? </u><br>\n",
    "Equation: \n",
    "\n",
    "<ol><li>X=100, N= 1000 <br> mean or center of dstribution , $\\hat{P}$=$\\frac {X}{N}$ = 0.1</li>\n",
    "<li>m = margin of error or standard error of binomial distribution.<br>\n",
    "If sample size is large N.$\\hat{P}$ > 5 and N.(1-$\\hat{P}$) > 5 , can use normal distribution <br>\n",
    "m = z . S.E - for normal distribution<br>\n",
    "m = z . $\\sqrt\\frac{{\\hat{P}.(1-\\hat{P})}}{N}$- for binomial distribution<br>\n",
    "</li><br>\n",
    "The amount of random variation we expect in our sample, the width of the C.I is the proportion of both the success and the size of the sample.<br>\n",
    "This means we need to decide the proportion of the success when we decide how many samples to collect.<br>\n",
    "\n",
    "When success probability is father away from 0.5 then S.E will be smaller, which means the distribution is tighter.\n",
    "which means C.I is smaller. When N sample size is larger, C.I ans S.E will also be larger.\n",
    "\n",
    "<u>How to find z-score?</u>\n",
    "With 95% $\\mu $= 0, $\\sigma$ = 1, z-score = 1.96, -1.96 is the z-score for 97.5% or 100% - 2.5%<br>\n",
    "m = 1.96 . $\\sqrt\\frac{{0.1(1-0.1)}}{1000}$ = 0.019 and add this marginal error to get upper bound (0.119) and subtract from mean to get lower bound(0.081).<br>\n",
    "It indicates if we run experiment then expect to see between 80 to 120 clicks but more or less would be surprising!<br>\n"
   ]
  },
  {
   "cell_type": "markdown",
   "metadata": {},
   "source": [
    "<h1>Establishing Statistical Significance</h1>\n",
    "\n",
    "Estimated Click through probability, now need to change \"Start Now\" button to pink color. After doing so, need to analyze the results of control group and experiment group using hypothesis testing.\n",
    "\n",
    "<u>Hypothesis Testing or Inference:</u>\n",
    "It's a quantative analysis to estimate how likely it is that results occured by chance. <br>\n",
    "Probability of completing checkouts in both groups.<br>\n",
    "\n",
    "<u>Testing Hypothesis</u>\n",
    "$H_{0}$ : $P_{C_T}$(Control)=$P_{C_T}$(Experiment)<br>\n",
    "$H_{a}$ : $P_{C_T}$(Control) $\\neq$ $P_{C_T}$(Experiment)\n",
    "\n",
    "<u>How to reject or accept $H_{0}$? </u><br>\n",
    "C.I will be reated differently. As we have two sample groups Control and Experiment, have to estimate proportion of Click through(Control) and proportion of Click through(Experiment) group.<br>\n",
    "The hypothesis would interprete whether estimates drived, difference occured by chance or it's unlikely the two sides are actually the same.<br>\n",
    "\n",
    "<u>Comparing Two samples Control Vs Experiment</u><br>\n",
    "Choosing a S.E which helps in comparing both groups. Can estimate pooled S.E.\n",
    "\n",
    "<li>Number of users who click and total Number of users Control and Experiment respectively $N_{Cclick}$,$N_{Eclick}$,$N_{Ctotla}$ and $N_{Etotal}$.</li>\n",
    "<li>Estimate pooled probability of click, $\\hat{P}_{pool}$ =$ \\frac {N_{Cclick}+N_{Eclick}}{N_{Ctotla}+ N_{Etotal}}$</li>\n",
    "<li> $S.E_{pool}$=$\\sqrt{\\hat{P}_{pool}.(1-\\hat{P}_{pool}).\\frac{1}{N_{Cclick}}\\frac{1}{N_{Eclick}}}$</li>\n",
    "<li>$\\hat{d}$= $\\hat{P}_{Experiment}- \\hat{P}_{Control}$</li>\n",
    "$H_{0}$ :d=0 $\\hat{d}$ ~ N(0,$S.E_{pool}$)<br>\n",
    "If $\\hat{d}$ > 1.96 . $S.E_{pool}$ or  $\\hat{d}$ < -1.96 .$S.E_{pool}$, rejects $H_{0}$ as difference is statistically significant."
   ]
  },
  {
   "cell_type": "markdown",
   "metadata": {
    "collapsed": true
   },
   "source": [
    "<h1>How much and what kind of change $P_{CT}$ is substantive / practically significant for business?</h1>\n",
    "Carrying out change has to analyze to see is it worth or not, as it involves lots of investment and time so like go for one which have higher practical impact.<br>\n",
    "Substantive significant can be quite different for different business for an example in medicine 5% - 15% change is practically significant whereas in online business small change like 2% - 3% can be substantive. <br>\n",
    "While designing experiment need to be careful about repeatability that is Statistical significance or experiment and $P_{Change}$ in experiment is practically significant from business perspective.<br>\n",
    "<b>Note: </b> Statistical significance lower than Practical significance.\n",
    "\n"
   ]
  },
  {
   "cell_type": "markdown",
   "metadata": {
    "collapsed": true
   },
   "source": [
    "<h1>Design an Experiment</h1>\n",
    "\n",
    "<u>Size Vs Power Trade-Off</u>:<br> researcher have control over how many pages to consider for control and experiment group, but need to decide how many click need to be generated to achieve statistically significant results.<br>\n",
    "For high C.I such as the smaller the change like to be capture , increase the repeatability of an experiment in control and experiment group. In this case more number of page view in control and experiment group.\n",
    "\n",
    "<u>How many pages views?</u> \n",
    "When collected huge no of sample there would be no difference between control and experiment group $\\bar{x}$=0,\n",
    "$\\alpha$ = 0.05, P(Reject $H_{o}$) at $\\alpha$ indicates probability of falsely rejecting hypothesis.<br>\n",
    "\n",
    "<u>Calculate Number of page view in Control and Experiment group</u> \n",
    "N=1000, x=100, $\\alpha$ = 0.05, $\\beta$ = 0.2<br>\n",
    "Substitute all values in online AB testing calculator, choose Asolute option not Relative<br>\n",
    "1-$\\beta$ (sensitivity)= 0.8, $d_{min}$=0.02,Baseline conversion= $\\frac{100}{1000}$=10%, SampleSizePerVariation= 3623"
   ]
  },
  {
   "cell_type": "markdown",
   "metadata": {
    "collapsed": true
   },
   "source": [
    "<h3> Scenario:</h3>   Analyzing user preferences\n",
    "<h3> Statistics:</h3>  One- and two-sample tests of proportions with chi-square test, \n",
    "                 binomial test, multinomial test, G-test, Fisher's exact test</h1>"
   ]
  },
  {
   "cell_type": "markdown",
   "metadata": {},
   "source": [
    "<h3>Test for Proportion:</h3>\n",
    "<li>One-sample tests of proportions, Chi-square is good for large dataset."
   ]
  },
  {
   "cell_type": "markdown",
   "metadata": {},
   "source": [
    "<li>Analyzing Surevey data , samples size= 60 people, collected preference for which website they liked best.A test of proportion is where you're looking at a proportion of responses.</li>"
   ]
  },
  {
   "cell_type": "code",
   "execution_count": 4,
   "metadata": {
    "collapsed": false
   },
   "outputs": [],
   "source": [
    "import pandas as pd\n",
    "data = pd.read_csv(\"C:\\Users\\zaina\\Documents\\DataVisulaization_MachineLearning\\Research\\prefsAB.csv\")"
   ]
  },
  {
   "cell_type": "code",
   "execution_count": 5,
   "metadata": {
    "collapsed": false
   },
   "outputs": [
    {
     "data": {
      "text/html": [
       "<div>\n",
       "<table border=\"1\" class=\"dataframe\">\n",
       "  <thead>\n",
       "    <tr style=\"text-align: right;\">\n",
       "      <th></th>\n",
       "      <th>Subject</th>\n",
       "      <th>Pref</th>\n",
       "    </tr>\n",
       "  </thead>\n",
       "  <tbody>\n",
       "    <tr>\n",
       "      <th>0</th>\n",
       "      <td>1</td>\n",
       "      <td>B</td>\n",
       "    </tr>\n",
       "    <tr>\n",
       "      <th>1</th>\n",
       "      <td>2</td>\n",
       "      <td>B</td>\n",
       "    </tr>\n",
       "    <tr>\n",
       "      <th>2</th>\n",
       "      <td>3</td>\n",
       "      <td>B</td>\n",
       "    </tr>\n",
       "    <tr>\n",
       "      <th>3</th>\n",
       "      <td>4</td>\n",
       "      <td>B</td>\n",
       "    </tr>\n",
       "    <tr>\n",
       "      <th>4</th>\n",
       "      <td>5</td>\n",
       "      <td>B</td>\n",
       "    </tr>\n",
       "  </tbody>\n",
       "</table>\n",
       "</div>"
      ],
      "text/plain": [
       "   Subject Pref\n",
       "0        1    B\n",
       "1        2    B\n",
       "2        3    B\n",
       "3        4    B\n",
       "4        5    B"
      ]
     },
     "execution_count": 5,
     "metadata": {},
     "output_type": "execute_result"
    }
   ],
   "source": [
    "data.head()"
   ]
  },
  {
   "cell_type": "code",
   "execution_count": 6,
   "metadata": {
    "collapsed": false
   },
   "outputs": [],
   "source": [
    "df=pd.DataFrame(data)\n"
   ]
  },
  {
   "cell_type": "code",
   "execution_count": 7,
   "metadata": {
    "collapsed": false
   },
   "outputs": [
    {
     "name": "stdout",
     "output_type": "stream",
     "text": [
      "B    46\n",
      "A    14\n",
      "Name: Pref, dtype: int64\n"
     ]
    },
    {
     "data": {
      "image/png": "[encoded data removed]",
      "text/plain": [
       "<matplotlib.figure.Figure at 0x8a5efd0>"
      ]
     },
     "metadata": {},
     "output_type": "display_data"
    }
   ],
   "source": [
    "import matplotlib.pyplot as plot\n",
    "print df.Pref.value_counts()\n",
    "df.Pref.value_counts().plot(kind='bar')\n",
    "plot.show()"
   ]
  },
  {
   "cell_type": "code",
   "execution_count": 8,
   "metadata": {
    "collapsed": true
   },
   "outputs": [],
   "source": [
    "import scipy.stats as stats"
   ]
  },
  {
   "cell_type": "code",
   "execution_count": 9,
   "metadata": {
    "collapsed": false
   },
   "outputs": [
    {
     "data": {
      "text/plain": [
       "Power_divergenceResult(statistic=17.066666666666666, pvalue=3.6090232367484305e-05)"
      ]
     },
     "execution_count": 9,
     "metadata": {},
     "output_type": "execute_result"
    }
   ],
   "source": [
    "stats.chisquare(df.Pref.value_counts())"
   ]
  },
  {
   "cell_type": "markdown",
   "metadata": {},
   "source": [
    "$\\chi^2_{1,N=60}\\equiv 17.0667,p<0.0001$"
   ]
  },
  {
   "cell_type": "markdown",
   "metadata": {},
   "source": [
    "pvalue < 0.05 indicates is statistically significant difference,website design A and design B is different.<br>\n",
    "pvalue is not consider as effect size or strength, non-significant pvalues does not necessarily indicates that there is no difference may be don't have enough data to analyze.\n"
   ]
  },
  {
   "cell_type": "markdown",
   "metadata": {},
   "source": [
    "<li>binomial test: exact test, useful for small dataset</li>"
   ]
  },
  {
   "cell_type": "code",
   "execution_count": 10,
   "metadata": {
    "collapsed": false
   },
   "outputs": [
    {
     "data": {
      "text/plain": [
       "4.2237045622679783e-05"
      ]
     },
     "execution_count": 10,
     "metadata": {},
     "output_type": "execute_result"
    }
   ],
   "source": [
    "stats.binom_test(df.Pref.value_counts())"
   ]
  },
  {
   "cell_type": "markdown",
   "metadata": {},
   "source": [
    "<li>More than one sample test of proportion:</li>"
   ]
  },
  {
   "cell_type": "code",
   "execution_count": 11,
   "metadata": {
    "collapsed": false
   },
   "outputs": [],
   "source": [
    "data = pd.read_csv(\"C:\\Users\\zaina\\Documents\\DataVisulaization_MachineLearning\\Research\\prefsABC.csv\")"
   ]
  },
  {
   "cell_type": "code",
   "execution_count": 12,
   "metadata": {
    "collapsed": false
   },
   "outputs": [
    {
     "data": {
      "text/html": [
       "<div>\n",
       "<table border=\"1\" class=\"dataframe\">\n",
       "  <thead>\n",
       "    <tr style=\"text-align: right;\">\n",
       "      <th></th>\n",
       "      <th>Subject</th>\n",
       "      <th>Pref</th>\n",
       "    </tr>\n",
       "  </thead>\n",
       "  <tbody>\n",
       "    <tr>\n",
       "      <th>0</th>\n",
       "      <td>1</td>\n",
       "      <td>C</td>\n",
       "    </tr>\n",
       "    <tr>\n",
       "      <th>1</th>\n",
       "      <td>2</td>\n",
       "      <td>C</td>\n",
       "    </tr>\n",
       "    <tr>\n",
       "      <th>2</th>\n",
       "      <td>3</td>\n",
       "      <td>B</td>\n",
       "    </tr>\n",
       "    <tr>\n",
       "      <th>3</th>\n",
       "      <td>4</td>\n",
       "      <td>C</td>\n",
       "    </tr>\n",
       "    <tr>\n",
       "      <th>4</th>\n",
       "      <td>5</td>\n",
       "      <td>C</td>\n",
       "    </tr>\n",
       "  </tbody>\n",
       "</table>\n",
       "</div>"
      ],
      "text/plain": [
       "   Subject Pref\n",
       "0        1    C\n",
       "1        2    C\n",
       "2        3    B\n",
       "3        4    C\n",
       "4        5    C"
      ]
     },
     "execution_count": 12,
     "metadata": {},
     "output_type": "execute_result"
    }
   ],
   "source": [
    "data.head()"
   ]
  },
  {
   "cell_type": "code",
   "execution_count": 13,
   "metadata": {
    "collapsed": false
   },
   "outputs": [],
   "source": [
    "df=pd.DataFrame(data)\n",
    "#df.Pref=df.Pref.astype(\"category\").head()"
   ]
  },
  {
   "cell_type": "code",
   "execution_count": 14,
   "metadata": {
    "collapsed": false
   },
   "outputs": [
    {
     "data": {
      "image/png": "[encoded data removed]",
      "text/plain": [
       "<matplotlib.figure.Figure at 0xbe65be0>"
      ]
     },
     "metadata": {},
     "output_type": "display_data"
    }
   ],
   "source": [
    "import matplotlib.pyplot as plot\n",
    "pref= df.Pref.value_counts()\n",
    "\n",
    "df.Pref.value_counts().plot(kind='bar')\n",
    "plot.show()"
   ]
  },
  {
   "cell_type": "code",
   "execution_count": 15,
   "metadata": {
    "collapsed": false
   },
   "outputs": [
    {
     "data": {
      "text/plain": [
       "Power_divergenceResult(statistic=13.300000000000001, pvalue=0.0012940221054658487)"
      ]
     },
     "execution_count": 15,
     "metadata": {},
     "output_type": "execute_result"
    }
   ],
   "source": [
    "#More than one sample tests of proportions, Chi-square is good for large dataset.\n",
    "stats.chisquare(pref)"
   ]
  },
  {
   "cell_type": "code",
   "execution_count": 16,
   "metadata": {
    "collapsed": false
   },
   "outputs": [
    {
     "data": {
      "text/plain": [
       "C    31\n",
       "B    21\n",
       "A     8\n",
       "Name: Pref, dtype: int64"
      ]
     },
     "execution_count": 16,
     "metadata": {},
     "output_type": "execute_result"
    }
   ],
   "source": [
    "df.Pref.value_counts()"
   ]
  },
  {
   "cell_type": "markdown",
   "metadata": {},
   "source": [
    "$\\chi^2_{2,N=60}\\equiv 13.3,p<0.01$"
   ]
  },
  {
   "cell_type": "code",
   "execution_count": 17,
   "metadata": {
    "collapsed": true
   },
   "outputs": [],
   "source": [
    "#Multinomial is not in-built function in Python \n"
   ]
  },
  {
   "cell_type": "code",
   "execution_count": 18,
   "metadata": {
    "collapsed": false
   },
   "outputs": [],
   "source": [
    "#Reference: http://stackoverflow.com/questions/13903922/multinomial-pmf-in-python-scipy-numpy\n",
    "import math\n",
    "class Multinomial(object):\n",
    "    def __init__(self, params):\n",
    "        self._params = params\n",
    "\n",
    "    def pmf(self, counts):\n",
    "        if not(len(counts)==len(self._params)):\n",
    "            raise ValueError(\"Dimensionality of count vector is incorrect\")\n",
    "\n",
    "        prob = 1.\n",
    "        for i,c in enumerate(counts):\n",
    "            prob *= self._params[i]**counts[i]\n",
    "\n",
    "        return prob * math.exp(self._log_multinomial_coeff(counts))\n",
    "\n",
    "    def log_pmf(self,counts):\n",
    "        if not(len(counts)==len(self._params)):\n",
    "            raise ValueError(\"Dimensionality of count vector is incorrect\")\n",
    "\n",
    "        prob = 0.\n",
    "        for i,c in enumerate(counts):\n",
    "            prob += counts[i]*math.log(self._params[i])\n",
    "\n",
    "        return prob + self._log_multinomial_coeff(counts)\n",
    "    \n",
    "    def _log_multinomial_coeff(self, counts):\n",
    "        return self._log_factorial(sum(counts)) - sum(self._log_factorial(c) for c in counts)\n",
    "\n",
    "    def _log_factorial(self, num):\n",
    "        if not round(num)==num and num > 0:\n",
    "            raise ValueError(\"Can only compute the factorial of positive ints\")\n",
    "        return sum(math.log(n) for n in range(1,num+1))\n",
    "\n"
   ]
  },
  {
   "cell_type": "code",
   "execution_count": 19,
   "metadata": {
    "collapsed": false
   },
   "outputs": [
    {
     "name": "stdout",
     "output_type": "stream",
     "text": [
      "1.15881301004e-05\n"
     ]
    }
   ],
   "source": [
    "from fractions import Fraction\n",
    "m = Multinomial([Fraction('1/3'), Fraction('1/3'), Fraction('1/3')])\n",
    "print m.pmf(df.Pref.value_counts())"
   ]
  },
  {
   "cell_type": "markdown",
   "metadata": {},
   "source": [
    "<b> It shows there is some difference between different Categories of preferences,to find exact difference between different all categories (pair wise) need to perform post hoc called as omnibus test</b>"
   ]
  },
  {
   "cell_type": "code",
   "execution_count": 20,
   "metadata": {
    "collapsed": false
   },
   "outputs": [
    {
     "name": "stdout",
     "output_type": "stream",
     "text": [
      "0.000829975594686 0.785045641429 0.00369908841884\n"
     ]
    }
   ],
   "source": [
    "a = stats.binom_test(sum(df['Pref'] == 'A'),60,0.333)\n",
    "b = stats.binom_test(sum(df['Pref'] == 'B'),60,0.333)\n",
    "c = stats.binom_test(sum(df['Pref'] == 'C'),60,0.333)\n",
    "print a,b,c"
   ]
  },
  {
   "cell_type": "markdown",
   "metadata": {},
   "source": [
    "<b>It shows how 'A', 'B' and 'C' is significantly different from chances </b>"
   ]
  },
  {
   "cell_type": "code",
   "execution_count": 21,
   "metadata": {
    "collapsed": true
   },
   "outputs": [],
   "source": [
    "# post hoc binomial tests with correction for multiple comparisons\n",
    "import numpy as np\n",
    "from statsmodels.stats.multitest import multipletests"
   ]
  },
  {
   "cell_type": "code",
   "execution_count": 22,
   "metadata": {
    "collapsed": false
   },
   "outputs": [
    {
     "data": {
      "text/plain": [
       "(array([ True, False,  True], dtype=bool),\n",
       " array([ 0.00248786,  0.78504564,  0.00738449]),\n",
       " 0.016952427508441503,\n",
       " 0.016666666666666666)"
      ]
     },
     "execution_count": 22,
     "metadata": {},
     "output_type": "execute_result"
    }
   ],
   "source": [
    "multipletests([a,b,c],0.05,method='hs')"
   ]
  },
  {
   "cell_type": "code",
   "execution_count": 23,
   "metadata": {
    "collapsed": false
   },
   "outputs": [],
   "source": [
    "## Two-sample tests of proportions\n",
    "data = pd.read_csv(\"C:\\\\Users\\\\zaina\\\\Documents\\\\DataVisulaization_MachineLearning\\\\Research\\\\prefsABSex.csv\")\n",
    "df=pd.DataFrame(data)"
   ]
  },
  {
   "cell_type": "code",
   "execution_count": 24,
   "metadata": {
    "collapsed": false
   },
   "outputs": [
    {
     "data": {
      "text/html": [
       "<div>\n",
       "<table border=\"1\" class=\"dataframe\">\n",
       "  <thead>\n",
       "    <tr style=\"text-align: right;\">\n",
       "      <th></th>\n",
       "      <th>Subject</th>\n",
       "      <th>Pref</th>\n",
       "      <th>Sex</th>\n",
       "    </tr>\n",
       "  </thead>\n",
       "  <tbody>\n",
       "    <tr>\n",
       "      <th>0</th>\n",
       "      <td>1</td>\n",
       "      <td>B</td>\n",
       "      <td>F</td>\n",
       "    </tr>\n",
       "    <tr>\n",
       "      <th>1</th>\n",
       "      <td>2</td>\n",
       "      <td>B</td>\n",
       "      <td>F</td>\n",
       "    </tr>\n",
       "    <tr>\n",
       "      <th>2</th>\n",
       "      <td>3</td>\n",
       "      <td>B</td>\n",
       "      <td>F</td>\n",
       "    </tr>\n",
       "    <tr>\n",
       "      <th>3</th>\n",
       "      <td>4</td>\n",
       "      <td>B</td>\n",
       "      <td>M</td>\n",
       "    </tr>\n",
       "    <tr>\n",
       "      <th>4</th>\n",
       "      <td>5</td>\n",
       "      <td>B</td>\n",
       "      <td>F</td>\n",
       "    </tr>\n",
       "  </tbody>\n",
       "</table>\n",
       "</div>"
      ],
      "text/plain": [
       "   Subject Pref Sex\n",
       "0        1    B   F\n",
       "1        2    B   F\n",
       "2        3    B   F\n",
       "3        4    B   M\n",
       "4        5    B   F"
      ]
     },
     "execution_count": 24,
     "metadata": {},
     "output_type": "execute_result"
    }
   ],
   "source": [
    "df.head()"
   ]
  },
  {
   "cell_type": "code",
   "execution_count": 25,
   "metadata": {
    "collapsed": true
   },
   "outputs": [],
   "source": [
    "#Table for two vars test"
   ]
  },
  {
   "cell_type": "code",
   "execution_count": 26,
   "metadata": {
    "collapsed": false
   },
   "outputs": [],
   "source": [
    "table = df.pivot_table(df, index=['Pref'], columns=['Sex'], aggfunc=np.count_nonzero)"
   ]
  },
  {
   "cell_type": "code",
   "execution_count": 27,
   "metadata": {
    "collapsed": false
   },
   "outputs": [],
   "source": [
    "table = df.pivot_table(df, index=['Pref'], columns=['Sex'], aggfunc=np.count_nonzero)\n",
    "# can use cross tab or pivot table to calculate group wise frequency count\n",
    "pref=pd.crosstab(df.Pref,df.Sex)"
   ]
  },
  {
   "cell_type": "code",
   "execution_count": 28,
   "metadata": {
    "collapsed": true
   },
   "outputs": [],
   "source": [
    "# Pearson chi-square test"
   ]
  },
  {
   "cell_type": "code",
   "execution_count": 29,
   "metadata": {
    "collapsed": false
   },
   "outputs": [
    {
     "data": {
      "text/plain": [
       "Power_divergenceResult(statistic=array([ 23.51612903,   0.86206897]), pvalue=array([  1.23870970e-06,   3.53160353e-01]))"
      ]
     },
     "execution_count": 29,
     "metadata": {},
     "output_type": "execute_result"
    }
   ],
   "source": [
    "stats.chisquare(table)"
   ]
  },
  {
   "cell_type": "markdown",
   "metadata": {},
   "source": [
    "<li> It shows there is significant difference as p-value  < 0.05 for both 'M' and 'F' </li>"
   ]
  },
  {
   "cell_type": "code",
   "execution_count": 30,
   "metadata": {
    "collapsed": true
   },
   "outputs": [],
   "source": [
    "# G-test, asymptotic like chi-square"
   ]
  },
  {
   "cell_type": "code",
   "execution_count": 31,
   "metadata": {
    "collapsed": false
   },
   "outputs": [
    {
     "data": {
      "text/plain": [
       "Power_divergenceResult(statistic=29.076736022013421, pvalue=4.8536336952917064e-07)"
      ]
     },
     "execution_count": 31,
     "metadata": {},
     "output_type": "execute_result"
    }
   ],
   "source": [
    "import scipy\n",
    "scipy.stats.power_divergence(table, f_exp=None, ddof=1, axis=None, lambda_=\"log-likelihood\")\n",
    "#scipy.stats.likelihood.test(table)"
   ]
  },
  {
   "cell_type": "markdown",
   "metadata": {},
   "source": [
    "<li> It shows there is significant difference as p-value < 0.05 </li>"
   ]
  },
  {
   "cell_type": "code",
   "execution_count": 32,
   "metadata": {
    "collapsed": true
   },
   "outputs": [],
   "source": [
    "#Fisher's exact test"
   ]
  },
  {
   "cell_type": "code",
   "execution_count": 33,
   "metadata": {
    "collapsed": false
   },
   "outputs": [
    {
     "data": {
      "text/plain": [
       "(0.097701149425287362, 0.0018770703240776647)"
      ]
     },
     "execution_count": 33,
     "metadata": {},
     "output_type": "execute_result"
    }
   ],
   "source": [
    "\n",
    "stats.fisher_exact(table)"
   ]
  },
  {
   "cell_type": "markdown",
   "metadata": {},
   "source": [
    "<li> Fisher's exact test gives pvalue=0.001877 < 0.05 indicates significant difference </li>"
   ]
  },
  {
   "cell_type": "markdown",
   "metadata": {},
   "source": [
    "<li>Two samples test for More than 2 response categories</li>\n"
   ]
  },
  {
   "cell_type": "code",
   "execution_count": 34,
   "metadata": {
    "collapsed": false
   },
   "outputs": [],
   "source": [
    "data=pd.read_csv(\"C:\\\\Users\\\\zaina\\\\Documents\\\\DataVisulaization_MachineLearning\\\\Research\\\\prefsABCsex.csv\")"
   ]
  },
  {
   "cell_type": "code",
   "execution_count": 35,
   "metadata": {
    "collapsed": true
   },
   "outputs": [],
   "source": [
    "df=pd.DataFrame(data)"
   ]
  },
  {
   "cell_type": "code",
   "execution_count": 36,
   "metadata": {
    "collapsed": false
   },
   "outputs": [
    {
     "data": {
      "text/html": [
       "<div>\n",
       "<table border=\"1\" class=\"dataframe\">\n",
       "  <thead>\n",
       "    <tr>\n",
       "      <th></th>\n",
       "      <th colspan=\"2\" halign=\"left\">Subject</th>\n",
       "    </tr>\n",
       "    <tr>\n",
       "      <th>Sex</th>\n",
       "      <th>F</th>\n",
       "      <th>M</th>\n",
       "    </tr>\n",
       "    <tr>\n",
       "      <th>Pref</th>\n",
       "      <th></th>\n",
       "      <th></th>\n",
       "    </tr>\n",
       "  </thead>\n",
       "  <tbody>\n",
       "    <tr>\n",
       "      <th>A</th>\n",
       "      <td>3</td>\n",
       "      <td>5</td>\n",
       "    </tr>\n",
       "    <tr>\n",
       "      <th>B</th>\n",
       "      <td>15</td>\n",
       "      <td>6</td>\n",
       "    </tr>\n",
       "    <tr>\n",
       "      <th>C</th>\n",
       "      <td>11</td>\n",
       "      <td>20</td>\n",
       "    </tr>\n",
       "  </tbody>\n",
       "</table>\n",
       "</div>"
      ],
      "text/plain": [
       "     Subject    \n",
       "Sex        F   M\n",
       "Pref            \n",
       "A          3   5\n",
       "B         15   6\n",
       "C         11  20"
      ]
     },
     "execution_count": 36,
     "metadata": {},
     "output_type": "execute_result"
    }
   ],
   "source": [
    "table=df.pivot_table(df, index=['Pref'], columns=['Sex'], aggfunc=np.count_nonzero)\n",
    "table"
   ]
  },
  {
   "cell_type": "code",
   "execution_count": 37,
   "metadata": {
    "collapsed": false
   },
   "outputs": [
    {
     "data": {
      "text/plain": [
       "Power_divergenceResult(statistic=array([  7.72413793,  13.61290323]), pvalue=array([ 0.02102446,  0.00110661]))"
      ]
     },
     "execution_count": 37,
     "metadata": {},
     "output_type": "execute_result"
    }
   ],
   "source": [
    "stats.chisquare(table)"
   ]
  },
  {
   "cell_type": "markdown",
   "metadata": {},
   "source": [
    "<li>pvalue for both categories 'M' and 'F' < 0.05, which indicates there is significant difference</li>"
   ]
  },
  {
   "cell_type": "code",
   "execution_count": 38,
   "metadata": {
    "collapsed": false
   },
   "outputs": [
    {
     "data": {
      "text/plain": [
       "Power_divergenceResult(statistic=21.701448304590933, pvalue=7.5258871519861328e-05)"
      ]
     },
     "execution_count": 38,
     "metadata": {},
     "output_type": "execute_result"
    }
   ],
   "source": [
    "scipy.stats.power_divergence(table, f_exp=None, ddof=2, axis=None, lambda_=\"log-likelihood\")\n"
   ]
  },
  {
   "cell_type": "code",
   "execution_count": 39,
   "metadata": {
    "collapsed": true
   },
   "outputs": [],
   "source": [
    "#Fisher test for multi respose and two sample not built-in in python called fisher exact contigency (mXn)"
   ]
  },
  {
   "cell_type": "code",
   "execution_count": 40,
   "metadata": {
    "collapsed": false
   },
   "outputs": [
    {
     "name": "stdout",
     "output_type": "stream",
     "text": [
      "0.0547235227966 0.12664676209 0.000427488009419\n"
     ]
    }
   ],
   "source": [
    "df1=df[df['Sex'] == 'M']\n",
    "a = stats.binom_test(sum(df1['Pref']=='A'),df1['Pref'].count(),0.333)\n",
    "b = stats.binom_test(sum(df1['Pref']=='B'),df1['Pref'].count(),0.333)\n",
    "c = stats.binom_test(sum(df1['Pref']=='C'),df1['Pref'].count(),0.333)\n",
    "print a,b,c"
   ]
  },
  {
   "cell_type": "markdown",
   "metadata": {},
   "source": [
    "<li>pvalue (Pref ='A' and 'C') < 0.05 , indicates there is significant difference for website preference within Male category </li> "
   ]
  },
  {
   "cell_type": "code",
   "execution_count": 41,
   "metadata": {
    "collapsed": false
   },
   "outputs": [
    {
     "data": {
      "text/plain": [
       "(array([False, False,  True], dtype=bool),\n",
       " array([ 0.10645238,  0.12664676,  0.00128192]),\n",
       " 0.016952427508441503,\n",
       " 0.016666666666666666)"
      ]
     },
     "execution_count": 41,
     "metadata": {},
     "output_type": "execute_result"
    }
   ],
   "source": [
    "multipletests([a,b,c],0.05,method='hs')"
   ]
  },
  {
   "cell_type": "markdown",
   "metadata": {},
   "source": [
    "<li>three pvalues after adjustment where pvalue (Pref ='C') < 0.05 , indicates there is significant difference for website preference within Male category ,Males who preferred A and B were not statistically significant from chance, but for website C they were. </li>"
   ]
  },
  {
   "cell_type": "code",
   "execution_count": 42,
   "metadata": {
    "collapsed": false
   },
   "outputs": [
    {
     "name": "stdout",
     "output_type": "stream",
     "text": [
      "0.00900519121963 0.0471080771291 0.693895111152\n"
     ]
    }
   ],
   "source": [
    "df1=df[df['Sex'] == 'F']\n",
    "a = stats.binom_test(sum(df1['Pref']=='A'),df1['Pref'].count(),0.333)\n",
    "b = stats.binom_test(sum(df1['Pref']=='B'),df1['Pref'].count(),0.333)\n",
    "c = stats.binom_test(sum(df1['Pref']=='C'),df1['Pref'].count(),0.333)\n",
    "print a,b,c"
   ]
  },
  {
   "cell_type": "code",
   "execution_count": 43,
   "metadata": {
    "collapsed": false
   },
   "outputs": [
    {
     "data": {
      "text/plain": [
       "(array([ True, False, False], dtype=bool),\n",
       " array([ 0.02677302,  0.09199698,  0.69389511]),\n",
       " 0.016952427508441503,\n",
       " 0.016666666666666666)"
      ]
     },
     "execution_count": 43,
     "metadata": {},
     "output_type": "execute_result"
    }
   ],
   "source": [
    "multipletests([a,b,c],0.05,method='hs')"
   ]
  },
  {
   "cell_type": "markdown",
   "metadata": {},
   "source": [
    "<li>three pvalues after adjustment where pvalue (Pref ='A') < 0.05 , indicates there is significant difference for website preference within Female category ,Females who preferred B and C were not statistically significant from chance, but for website A they were. When response varaible and samples (columns) are more than two</li>"
   ]
  },
  {
   "cell_type": "markdown",
   "metadata": {},
   "source": [
    "<h3><center>Analysis of Variance</center></h3>\n",
    "<h3>Scenario:</h3>   Comparing pages visited in an A/B test\n",
    "<h3> Statistics:</h3> Descriptive statistics, independent-samples t-test"
   ]
  },
  {
   "cell_type": "markdown",
   "metadata": {},
   "source": [
    "<body>Performing A/B Testing for website design A and design B to measure distinct pages user visits:<br>\n",
    "There are independent variable (X) which is website design (A,B) categorical and is controllable, the dependent variable (Y) response variable , numeric.<br>\n",
    "$Y \\approx X+\\epsilon$ <br>\n",
    "Where $\\epsilon$ is error of measurement, random errors and is normally distributed cause by natural variation.<br>\n"
   ]
  },
  {
   "cell_type": "code",
   "execution_count": 44,
   "metadata": {
    "collapsed": false
   },
   "outputs": [],
   "source": [
    "data = pd.read_csv(\"C:\\Users\\zaina\\Documents\\DataVisulaization_MachineLearning\\Research\\pgviews.csv\")\n",
    "df=pd.DataFrame(data)"
   ]
  },
  {
   "cell_type": "code",
   "execution_count": 45,
   "metadata": {
    "collapsed": false
   },
   "outputs": [
    {
     "data": {
      "text/html": [
       "<div>\n",
       "<table border=\"1\" class=\"dataframe\">\n",
       "  <thead>\n",
       "    <tr style=\"text-align: right;\">\n",
       "      <th></th>\n",
       "      <th>Subject</th>\n",
       "      <th>Site</th>\n",
       "      <th>Pages</th>\n",
       "    </tr>\n",
       "  </thead>\n",
       "  <tbody>\n",
       "    <tr>\n",
       "      <th>0</th>\n",
       "      <td>1</td>\n",
       "      <td>B</td>\n",
       "      <td>2</td>\n",
       "    </tr>\n",
       "    <tr>\n",
       "      <th>1</th>\n",
       "      <td>2</td>\n",
       "      <td>B</td>\n",
       "      <td>6</td>\n",
       "    </tr>\n",
       "    <tr>\n",
       "      <th>2</th>\n",
       "      <td>3</td>\n",
       "      <td>A</td>\n",
       "      <td>5</td>\n",
       "    </tr>\n",
       "    <tr>\n",
       "      <th>3</th>\n",
       "      <td>4</td>\n",
       "      <td>B</td>\n",
       "      <td>7</td>\n",
       "    </tr>\n",
       "    <tr>\n",
       "      <th>4</th>\n",
       "      <td>5</td>\n",
       "      <td>A</td>\n",
       "      <td>3</td>\n",
       "    </tr>\n",
       "  </tbody>\n",
       "</table>\n",
       "</div>"
      ],
      "text/plain": [
       "   Subject Site  Pages\n",
       "0        1    B      2\n",
       "1        2    B      6\n",
       "2        3    A      5\n",
       "3        4    B      7\n",
       "4        5    A      3"
      ]
     },
     "execution_count": 45,
     "metadata": {},
     "output_type": "execute_result"
    }
   ],
   "source": [
    "df.head()"
   ]
  },
  {
   "cell_type": "code",
   "execution_count": 46,
   "metadata": {
    "collapsed": false
   },
   "outputs": [
    {
     "name": "stdout",
     "output_type": "stream",
     "text": [
      "               Subject\n",
      "Pages Site            \n",
      "1     A     237.375000\n",
      "      B     252.000000\n",
      "2     A     255.677419\n",
      "      B     264.500000\n",
      "3     A     240.089109\n",
      "      B     225.886364\n",
      "4     A     259.657143\n",
      "      B     277.029412\n",
      "5     A     234.551724\n",
      "      B     246.523810\n",
      "6     A     250.333333\n",
      "      B     261.025000\n",
      "7     B     250.038462\n",
      "8     B     224.000000\n",
      "9     B     279.166667\n",
      "10    B     342.500000\n",
      "11    B     467.000000\n"
     ]
    }
   ],
   "source": [
    "#table=df.pivot_table(df, index=['Pref'], columns=['Sex'], aggfunc=np.count_nonzero)\n",
    "table=df.pivot_table(df,index=['Pages','Site'])\n",
    "print table"
   ]
  },
  {
   "cell_type": "code",
   "execution_count": 47,
   "metadata": {
    "collapsed": false
   },
   "outputs": [
    {
     "name": "stdout",
     "output_type": "stream",
     "text": [
      "               Subject\n",
      "Pages Site            \n",
      "1     A     237.375000\n",
      "2     A     255.677419\n",
      "3     A     240.089109\n",
      "4     A     259.657143\n",
      "5     A     234.551724\n",
      "6     A     250.333333                Subject\n",
      "Pages Site            \n",
      "1     B     252.000000\n",
      "2     B     264.500000\n",
      "3     B     225.886364\n",
      "4     B     277.029412\n",
      "5     B     246.523810\n",
      "6     B     261.025000\n",
      "7     B     250.038462\n",
      "8     B     224.000000\n",
      "9     B     279.166667\n",
      "10    B     342.500000\n",
      "11    B     467.000000\n"
     ]
    }
   ],
   "source": [
    "df1=table.query('Site == [\"A\"]')\n",
    "df2=table.query('Site == [\"B\"]')\n",
    "print df1, df2"
   ]
  },
  {
   "cell_type": "code",
   "execution_count": 48,
   "metadata": {
    "collapsed": false
   },
   "outputs": [
    {
     "data": {
      "text/plain": [
       "Ttest_indResult(statistic=array([ 1.19419403]), pvalue=array([ 0.25094547]))"
      ]
     },
     "execution_count": 48,
     "metadata": {},
     "output_type": "execute_result"
    }
   ],
   "source": [
    "stats.ttest_ind(df2,df1, equal_var = True)"
   ]
  },
  {
   "cell_type": "markdown",
   "metadata": {},
   "source": [
    "<li>Here , pvalue> 0.05 indicates Site 'A' and Site 'B' distinct pages user visits is not significantly difference. It conclude \"accept $H_{0}$\" i.e $\\mu$(A)=$\\mu$(B), this does not indicate that the null hypothesis is true, it only suggests that there is not sufficient evidence against $H_{0}$ in favor of $H_{a}$; the alternative hypothesis may be true.</li>"
   ]
  },
  {
   "cell_type": "markdown",
   "metadata": {},
   "source": [
    "<h3>About ANOVA</h3>\n",
    "<body>In designing experiments should consider confounding variables such as task completion time which is important in interaction design, authoring tools, prior exposure (inclusion and exclusion), capturing methods , computational time, environment of experiment (ecology) is trade-offand has to be control/manipulate/record/ measure or may be is unknown as changes in response is due to manipulation of factors or dur to confound would be hard to determine.<br>\n",
    "Also need to find number of samples, samples in each study group, response variable, level, factors,factors between or within subjects, type of response and range of response.<br>\n",
    "Assumption to be hold for ANOVA: Though ANOVA is robust and tests to verify assumption is not necessary to be hold, as tests results are influence by number of data points captured. <br>\n",
    "<li>Assumption of independence: measures on the subject is indeendent </li>\n",
    "<li>Normality: Data is normally distributed</li>\n",
    "<li>Homoscedasticity: variance among group being measured should be similar </li> \n",
    "Data Distribution:most of the time we encounter following distribution among data capture.\n",
    "<li>Normal: mean height, spread st.dev </li>\n",
    "<li>Log normal: after taking log of data points it's converted into Normal, with long tale example task completion time</li>\n",
    "<li>Exponential: example people's wealth it's special kind of Gamma with shape=1</li>\n",
    "<li>Gamma: example stress testing, waiting time in queue</li>\n",
    "<li>Poission: discrete distribution, count measurement also can called as distribution of response </li>\n",
    "<li>Binomial: boolean outcomes and trials , example failure and sucess </li>\n",
    "<br>\n",
    "If experiment design follows all assumptions then is called Parametric Analysis and gives more power over experiment, where as failing to fullfill all assumptions less power over experiment and is called Non-Parametric Analysis.\n",
    "</body>"
   ]
  },
  {
   "cell_type": "markdown",
   "metadata": {},
   "source": [
    "<h3>Parametric Testing</h3>\n",
    "<body>Test for Assumption for ANOVA, independence, normality and the homoscedasticity.\n",
    "<li>Shapiro-Wilk: test normality on response.</li>\n",
    "<li>Test residuals (difference between observed and predicted response using statistical model</li>\n",
    "<li> Task time is not normally distributed,it's follow log normal distribution</li>\n",
    "<li>Test for homogeneity of variance</li> </body>"
   ]
  },
  {
   "cell_type": "markdown",
   "metadata": {},
   "source": [
    "<body>Data Set: Comparision between two programming languages and environments, C# in Visual Studio and Java in Eclipse. The task time for 20 students recorded for each of those tools to produce a series of programs as a part of an course work. </body>"
   ]
  },
  {
   "cell_type": "code",
   "execution_count": 49,
   "metadata": {
    "collapsed": false
   },
   "outputs": [],
   "source": [
    "import pandas as pd\n",
    "import scipy.stats as stats"
   ]
  },
  {
   "cell_type": "code",
   "execution_count": 50,
   "metadata": {
    "collapsed": false
   },
   "outputs": [
    {
     "data": {
      "text/html": [
       "<div>\n",
       "<table border=\"1\" class=\"dataframe\">\n",
       "  <thead>\n",
       "    <tr style=\"text-align: right;\">\n",
       "      <th></th>\n",
       "      <th>Subject</th>\n",
       "      <th>IDE</th>\n",
       "      <th>Time</th>\n",
       "    </tr>\n",
       "  </thead>\n",
       "  <tbody>\n",
       "    <tr>\n",
       "      <th>0</th>\n",
       "      <td>1</td>\n",
       "      <td>VStudio</td>\n",
       "      <td>341</td>\n",
       "    </tr>\n",
       "    <tr>\n",
       "      <th>1</th>\n",
       "      <td>2</td>\n",
       "      <td>VStudio</td>\n",
       "      <td>291</td>\n",
       "    </tr>\n",
       "    <tr>\n",
       "      <th>2</th>\n",
       "      <td>3</td>\n",
       "      <td>VStudio</td>\n",
       "      <td>283</td>\n",
       "    </tr>\n",
       "    <tr>\n",
       "      <th>3</th>\n",
       "      <td>4</td>\n",
       "      <td>VStudio</td>\n",
       "      <td>155</td>\n",
       "    </tr>\n",
       "    <tr>\n",
       "      <th>4</th>\n",
       "      <td>5</td>\n",
       "      <td>VStudio</td>\n",
       "      <td>271</td>\n",
       "    </tr>\n",
       "  </tbody>\n",
       "</table>\n",
       "</div>"
      ],
      "text/plain": [
       "   Subject      IDE  Time\n",
       "0        1  VStudio   341\n",
       "1        2  VStudio   291\n",
       "2        3  VStudio   283\n",
       "3        4  VStudio   155\n",
       "4        5  VStudio   271"
      ]
     },
     "execution_count": 50,
     "metadata": {},
     "output_type": "execute_result"
    }
   ],
   "source": [
    "data=pd.read_csv(\"C:\\Users\\zaina\\Documents\\DataVisulaization_MachineLearning\\Research\\ide2.csv\")\n",
    "df=pd.DataFrame(data)\n",
    "df.head()"
   ]
  },
  {
   "cell_type": "markdown",
   "metadata": {},
   "source": [
    "<li>Step1: Test for Normality - response variable Time</li>"
   ]
  },
  {
   "cell_type": "code",
   "execution_count": 51,
   "metadata": {
    "collapsed": false
   },
   "outputs": [],
   "source": [
    "#Plot histogram for data set \n",
    "import matplotlib.pyplot as plt"
   ]
  },
  {
   "cell_type": "code",
   "execution_count": 52,
   "metadata": {
    "collapsed": false
   },
   "outputs": [],
   "source": [
    "x=df[df.IDE=='VStudio']"
   ]
  },
  {
   "cell_type": "code",
   "execution_count": 40,
   "metadata": {
    "collapsed": false
   },
   "outputs": [
    {
     "data": {
      "image/png": "[encoded data removed]",
      "text/plain": [
       "<matplotlib.figure.Figure at 0xe192320>"
      ]
     },
     "metadata": {},
     "output_type": "display_data"
    }
   ],
   "source": [
    "plt.hist(x.Time, normed=1)\n",
    "plt.xlabel('VStudio- Time')\n",
    "plt.ylabel('Frequency')\n",
    "plt.title('Histogram VStudio Task Completion Time')\n",
    "plt.show()"
   ]
  },
  {
   "cell_type": "markdown",
   "metadata": {},
   "source": [
    "VStudio normally distributed as seen in histogram, can retest using statistical test for  normality \"shapiro\"."
   ]
  },
  {
   "cell_type": "code",
   "execution_count": 54,
   "metadata": {
    "collapsed": false
   },
   "outputs": [
    {
     "data": {
      "text/plain": [
       "(0.8437223434448242, 0.004191270563751459)"
      ]
     },
     "execution_count": 54,
     "metadata": {},
     "output_type": "execute_result"
    }
   ],
   "source": [
    "stats.shapiro(x.Time,reta=False)"
   ]
  },
  {
   "cell_type": "markdown",
   "metadata": {},
   "source": [
    "pvalue< 0.05 indicates samples for VStudio is not normally distributed."
   ]
  },
  {
   "cell_type": "code",
   "execution_count": 55,
   "metadata": {
    "collapsed": true
   },
   "outputs": [],
   "source": [
    "x=df[df.IDE=='Eclipse']"
   ]
  },
  {
   "cell_type": "code",
   "execution_count": 39,
   "metadata": {
    "collapsed": false
   },
   "outputs": [
    {
     "data": {
      "image/png": "[encoded data removed]",
      "text/plain": [
       "<matplotlib.figure.Figure at 0xe0ceeb8>"
      ]
     },
     "metadata": {},
     "output_type": "display_data"
    }
   ],
   "source": [
    "plt.hist(x.Time, normed=1)\n",
    "plt.hist(x.Time,normed=1)\n",
    "plt.title(\"Histogram Eclipse Task Completion\")\n",
    "plt.xlabel(\"Eclipse - Time\")\n",
    "plt.ylabel(\"Frequency\")\n",
    "plt.show()"
   ]
  },
  {
   "cell_type": "code",
   "execution_count": 57,
   "metadata": {
    "collapsed": false
   },
   "outputs": [
    {
     "data": {
      "text/plain": [
       "(0.8721306324005127, 0.012809628620743752)"
      ]
     },
     "execution_count": 57,
     "metadata": {},
     "output_type": "execute_result"
    }
   ],
   "source": [
    "# Shapiro-Wilk for normality\n",
    "stats.shapiro(x.Time,reta=False)"
   ]
  },
  {
   "cell_type": "markdown",
   "metadata": {},
   "source": [
    "pvalue< 0.05 indicates samples for Eclipse not normally distributed."
   ]
  },
  {
   "cell_type": "code",
   "execution_count": 58,
   "metadata": {
    "collapsed": false
   },
   "outputs": [],
   "source": [
    "x=[df.Time[df.IDE=='VStudio'],df.Time[df.IDE=='Eclipse']]"
   ]
  },
  {
   "cell_type": "code",
   "execution_count": 59,
   "metadata": {
    "collapsed": false
   },
   "outputs": [
    {
     "data": {
      "image/png": "[encoded data removed]",
      "text/plain": [
       "<matplotlib.figure.Figure at 0xc99f860>"
      ]
     },
     "metadata": {},
     "output_type": "display_data"
    }
   ],
   "source": [
    "plt.boxplot(x)\n",
    "plt.title('IDE Task Completion Time')\n",
    "plt.xticks([1, 2],['VStudio', 'EClipse'])\n",
    "plt.show()"
   ]
  },
  {
   "cell_type": "markdown",
   "metadata": {},
   "source": [
    "Box plots shows data spread. VStudio is normally distributed , EClipse has long left tail. Also box plots for both IDE's looks different is indicates both IDE might have significant difference in variance but need to perform statistical test for verification.\n",
    "<li>VStudio and Eclipse overlap but not both medians so there is likely to be a difference between both groups.</li>"
   ]
  },
  {
   "cell_type": "markdown",
   "metadata": {},
   "source": [
    "<li>Step1: Test for Normality - residuals</li>"
   ]
  },
  {
   "cell_type": "code",
   "execution_count": 13,
   "metadata": {
    "collapsed": true
   },
   "outputs": [],
   "source": [
    "import statsmodels.api as sm\n",
    "from statsmodels.formula.api import ols"
   ]
  },
  {
   "cell_type": "markdown",
   "metadata": {},
   "source": [
    "Reference: http://statsmodels.sourceforge.net/devel/examples/notebooks/generated/interactions_anova.html , http://statsmodels.sourceforge.net/devel/anova.html#module-reference"
   ]
  },
  {
   "cell_type": "code",
   "execution_count": 14,
   "metadata": {
    "collapsed": false
   },
   "outputs": [],
   "source": [
    "import statsmodels.api as sm\n",
    "from statsmodels.formula.api import ols\n",
    "#moore = sm.datasets.get_rdataset(\"Moore\", \"car\",\n",
    "#                                 cache=True) # load data\n",
    "\n",
    "\n",
    "lm = ols('data.Time ~ C(data.IDE, Sum)',\n",
    "                data=data).fit()\n",
    "\n",
    "table = sm.stats.anova_lm(lm, typ=2) # Type 2 ANOVA DataFrame\n"
   ]
  },
  {
   "cell_type": "code",
   "execution_count": 62,
   "metadata": {
    "collapsed": false
   },
   "outputs": [
    {
     "data": {
      "text/plain": [
       "<statsmodels.base.data.PandasData at 0xc7795f8>"
      ]
     },
     "execution_count": 62,
     "metadata": {},
     "output_type": "execute_result"
    }
   ],
   "source": [
    "lm.model.data"
   ]
  },
  {
   "cell_type": "code",
   "execution_count": 63,
   "metadata": {
    "collapsed": false
   },
   "outputs": [
    {
     "data": {
      "text/html": [
       "<div>\n",
       "<table border=\"1\" class=\"dataframe\">\n",
       "  <thead>\n",
       "    <tr style=\"text-align: right;\">\n",
       "      <th></th>\n",
       "      <th>Subject</th>\n",
       "      <th>IDE</th>\n",
       "      <th>Time</th>\n",
       "    </tr>\n",
       "  </thead>\n",
       "  <tbody>\n",
       "    <tr>\n",
       "      <th>0</th>\n",
       "      <td>1</td>\n",
       "      <td>VStudio</td>\n",
       "      <td>341</td>\n",
       "    </tr>\n",
       "    <tr>\n",
       "      <th>1</th>\n",
       "      <td>2</td>\n",
       "      <td>VStudio</td>\n",
       "      <td>291</td>\n",
       "    </tr>\n",
       "    <tr>\n",
       "      <th>2</th>\n",
       "      <td>3</td>\n",
       "      <td>VStudio</td>\n",
       "      <td>283</td>\n",
       "    </tr>\n",
       "    <tr>\n",
       "      <th>3</th>\n",
       "      <td>4</td>\n",
       "      <td>VStudio</td>\n",
       "      <td>155</td>\n",
       "    </tr>\n",
       "    <tr>\n",
       "      <th>4</th>\n",
       "      <td>5</td>\n",
       "      <td>VStudio</td>\n",
       "      <td>271</td>\n",
       "    </tr>\n",
       "  </tbody>\n",
       "</table>\n",
       "</div>"
      ],
      "text/plain": [
       "   Subject      IDE  Time\n",
       "0        1  VStudio   341\n",
       "1        2  VStudio   291\n",
       "2        3  VStudio   283\n",
       "3        4  VStudio   155\n",
       "4        5  VStudio   271"
      ]
     },
     "execution_count": 63,
     "metadata": {},
     "output_type": "execute_result"
    }
   ],
   "source": [
    "lm.model.data.frame[:5]"
   ]
  },
  {
   "cell_type": "code",
   "execution_count": 64,
   "metadata": {
    "collapsed": false
   },
   "outputs": [
    {
     "name": "stdout",
     "output_type": "stream",
     "text": [
      "==================================================================================================\n",
      "       obs      endog     fitted     Cook's   student.   hat diag    dffits   ext.stud.     dffits\n",
      "                           value          d   residual              internal   residual           \n",
      "--------------------------------------------------------------------------------------------------\n",
      "         0    341.000    302.100      0.001      0.235      0.050      0.054      0.232      0.053\n",
      "         1    291.000    302.100      0.000     -0.067      0.050     -0.015     -0.066     -0.015\n",
      "         2    283.000    302.100      0.000     -0.115      0.050     -0.026     -0.114     -0.026\n",
      "         3    155.000    302.100      0.021     -0.888      0.050     -0.204     -0.885     -0.203\n",
      "         4    271.000    302.100      0.001     -0.188      0.050     -0.043     -0.185     -0.043\n",
      "         5    270.000    302.100      0.001     -0.194      0.050     -0.044     -0.191     -0.044\n",
      "         6    250.000    302.100      0.003     -0.314      0.050     -0.072     -0.311     -0.071\n",
      "         7    272.000    302.100      0.001     -0.182      0.050     -0.042     -0.179     -0.041\n",
      "         8    209.000    302.100      0.008     -0.562      0.050     -0.129     -0.557     -0.128\n",
      "         9    236.000    302.100      0.004     -0.399      0.050     -0.092     -0.394     -0.091\n",
      "        10    295.000    302.100      0.000     -0.043      0.050     -0.010     -0.042     -0.010\n",
      "        11    214.000    302.100      0.007     -0.532      0.050     -0.122     -0.527     -0.121\n",
      "        12    443.000    302.100      0.019      0.850      0.050      0.195      0.847      0.194\n",
      "        13    632.000    302.100      0.104      1.991      0.050      0.457      2.076      0.476\n",
      "        14    310.000    302.100      0.000      0.048      0.050      0.011      0.047      0.011\n",
      "        15    334.000    302.100      0.001      0.193      0.050      0.044      0.190      0.044\n",
      "        16    376.000    302.100      0.005      0.446      0.050      0.102      0.441      0.101\n",
      "        17    305.000    302.100      0.000      0.018      0.050      0.004      0.017      0.004\n",
      "        18    216.000    302.100      0.007     -0.520      0.050     -0.119     -0.515     -0.118\n",
      "        19    339.000    302.100      0.001      0.223      0.050      0.051      0.220      0.050\n",
      "        20    806.000    468.150      0.109      2.039      0.050      0.468      2.132      0.489\n",
      "        21    415.000    468.150      0.003     -0.321      0.050     -0.074     -0.317     -0.073\n",
      "        22    389.000    468.150      0.006     -0.478      0.050     -0.110     -0.473     -0.108\n",
      "        23    317.000    468.150      0.022     -0.912      0.050     -0.209     -0.910     -0.209\n",
      "        24    283.000    468.150      0.033     -1.117      0.050     -0.256     -1.121     -0.257\n",
      "        25    865.000    468.150      0.151      2.395      0.050      0.549      2.565      0.588\n",
      "        26    298.000    468.150      0.028     -1.027      0.050     -0.236     -1.028     -0.236\n",
      "        27    952.000    468.150      0.224      2.920      0.050      0.670      3.272      0.751\n",
      "        28    443.000    468.150      0.001     -0.152      0.050     -0.035     -0.150     -0.034\n",
      "        29    379.000    468.150      0.008     -0.538      0.050     -0.123     -0.533     -0.122\n",
      "        30    562.000    468.150      0.008      0.566      0.050      0.130      0.561      0.129\n",
      "        31    362.000    468.150      0.011     -0.641      0.050     -0.147     -0.636     -0.146\n",
      "        32    275.000    468.150      0.036     -1.166      0.050     -0.267     -1.171     -0.269\n",
      "        33    398.000    468.150      0.005     -0.423      0.050     -0.097     -0.419     -0.096\n",
      "        34    706.000    468.150      0.054      1.436      0.050      0.329      1.457      0.334\n",
      "        35    496.000    468.150      0.001      0.168      0.050      0.039      0.166      0.038\n",
      "        36    656.000    468.150      0.034      1.134      0.050      0.260      1.138      0.261\n",
      "        37    285.000    468.150      0.032     -1.105      0.050     -0.254     -1.109     -0.254\n",
      "        38    232.000    468.150      0.053     -1.425      0.050     -0.327     -1.446     -0.332\n",
      "        39    244.000    468.150      0.048     -1.353      0.050     -0.310     -1.368     -0.314\n",
      "==================================================================================================\n"
     ]
    }
   ],
   "source": [
    "infl = lm.get_influence()\n",
    "print(infl.summary_table())"
   ]
  },
  {
   "cell_type": "markdown",
   "metadata": {},
   "source": [
    "Box plots shows data spread. Residuals normally distributed."
   ]
  },
  {
   "cell_type": "code",
   "execution_count": 65,
   "metadata": {
    "collapsed": false
   },
   "outputs": [
    {
     "data": {
      "image/png": "[encoded data removed]",
      "text/plain": [
       "<matplotlib.figure.Figure at 0xc7fb828>"
      ]
     },
     "metadata": {},
     "output_type": "display_data"
    }
   ],
   "source": [
    "y=lm.resid\n",
    "plt.boxplot(y)\n",
    "plt.xticks([1, 2],['Residuals'])\n",
    "plt.show()"
   ]
  },
  {
   "cell_type": "code",
   "execution_count": 66,
   "metadata": {
    "collapsed": false
   },
   "outputs": [
    {
     "data": {
      "text/plain": [
       "(0.8940005302429199, 0.0012849534396082163)"
      ]
     },
     "execution_count": 66,
     "metadata": {},
     "output_type": "execute_result"
    }
   ],
   "source": [
    "# Shapiro-Wilk for normality\n",
    "stats.shapiro(lm.resid,reta=False)"
   ]
  },
  {
   "cell_type": "markdown",
   "metadata": {},
   "source": [
    "pvalue< 0.05 indicates residuals not normally distributed."
   ]
  },
  {
   "cell_type": "code",
   "execution_count": 71,
   "metadata": {
    "collapsed": true
   },
   "outputs": [],
   "source": [
    "#Q-Q Plot to visualize residual "
   ]
  },
  {
   "cell_type": "code",
   "execution_count": 77,
   "metadata": {
    "collapsed": false
   },
   "outputs": [
    {
     "data": {
      "image/png": "[encoded data removed]",
      "text/plain": [
       "<matplotlib.figure.Figure at 0xe36e978>"
      ]
     },
     "metadata": {},
     "output_type": "display_data"
    }
   ],
   "source": [
    " # residuals\n",
    "res=lm.resid_pearson\n",
    "stats.probplot(res, dist=\"norm\", plot=plt)\n",
    "plt.title(\"Normal Q-Q plot\")\n",
    "plt.show()"
   ]
  },
  {
   "cell_type": "markdown",
   "metadata": {},
   "source": [
    "Q-Q plot of the (quantiles of x versus the quantiles/ppf of a distribution) residuals shows residuals are far from line."
   ]
  },
  {
   "cell_type": "markdown",
   "metadata": {},
   "source": [
    "<li>Step2: Tests for homoscedasticity (homogeneity of variance)</li>"
   ]
  },
  {
   "cell_type": "code",
   "execution_count": 67,
   "metadata": {
    "collapsed": false
   },
   "outputs": [
    {
     "data": {
      "text/plain": [
       "LeveneResult(statistic=11.958550964783235, pvalue=0.0013562855007364562)"
      ]
     },
     "execution_count": 67,
     "metadata": {},
     "output_type": "execute_result"
    }
   ],
   "source": [
    "stats.levene(df.Time[df.IDE=='VStudio'],df.Time[df.IDE=='Eclipse'],center='mean')"
   ]
  },
  {
   "cell_type": "code",
   "execution_count": 68,
   "metadata": {
    "collapsed": false
   },
   "outputs": [
    {
     "data": {
      "text/plain": [
       "LeveneResult(statistic=5.9143933892729965, pvalue=0.019839612651511507)"
      ]
     },
     "execution_count": 68,
     "metadata": {},
     "output_type": "execute_result"
    }
   ],
   "source": [
    "stats.levene(df.Time[df.IDE=='VStudio'],df.Time[df.IDE=='Eclipse'],center='median')"
   ]
  },
  {
   "cell_type": "markdown",
   "metadata": {},
   "source": [
    "pvalue< 0.05 indicates both IDE has significant difference in Task Completion time, which indicates violation of homogeneity of variance."
   ]
  },
  {
   "cell_type": "code",
   "execution_count": 36,
   "metadata": {
    "collapsed": false
   },
   "outputs": [
    {
     "data": {
      "text/plain": [
       "Ttest_indResult(statistic=-3.0889385431793124, pvalue=0.0046385499074439347)"
      ]
     },
     "execution_count": 36,
     "metadata": {},
     "output_type": "execute_result"
    }
   ],
   "source": [
    "stats.ttest_ind(df.Time[df.IDE=='VStudio'],df.Time[df.IDE=='Eclipse'], equal_var=False)"
   ]
  },
  {
   "cell_type": "markdown",
   "metadata": {},
   "source": [
    "<li>Independent t-test is an inferential statistical test that determines whether there is a statistically significant difference between the means in two unrelated groups.</li>\n",
    "<li>pvalue< 0.05 indicates there is a significant difference between both groups.</li>"
   ]
  },
  {
   "cell_type": "markdown",
   "metadata": {},
   "source": [
    "Another set of test are Non-Parametric which can be use without considering ANOVA assumptions. This tests are difficult to report as is not well define."
   ]
  },
  {
   "cell_type": "markdown",
   "metadata": {},
   "source": [
    "<body>Conclusion: There is significant difference between both IDE Visual Studio found to be faster compare to EClipse according to the statistical test performed.</body>"
   ]
  },
  {
   "cell_type": "markdown",
   "metadata": {},
   "source": [
    "<h3><center>One way ANOVA</center></h3>\n",
    "<li>Between Subjects </li>\n",
    "<body>An independent samples T test,is not applicable for more than 2-level, One way ANOVA supports single factor analysis.<br>\n",
    "Example:\n",
    "In case there is new IDE to be test? an independent samples T test can't be use. Another category of the test which is  very powerful and widely used is F test , also called a one-way ANOVA. ANOVA stands for \"Analysis of Variance\". One way refers to a single factor in that analysis,here factor is IDE with three levels,\n",
    "Visual Studio, Eclipse, and PyCharm.</body>"
   ]
  },
  {
   "cell_type": "code",
   "execution_count": 1,
   "metadata": {
    "collapsed": false
   },
   "outputs": [],
   "source": [
    "import pandas as pd\n",
    "import scipy.stats as stats\n",
    "import matplotlib.pyplot as plt"
   ]
  },
  {
   "cell_type": "code",
   "execution_count": 2,
   "metadata": {
    "collapsed": false
   },
   "outputs": [],
   "source": [
    "data=pd.read_csv(\"C:\\\\Users\\\\zaina\\\\Documents\\\\DataVisulaization_MachineLearning\\\\Research\\\\ide3.csv\")\n",
    "df=pd.DataFrame(data)"
   ]
  },
  {
   "cell_type": "code",
   "execution_count": 3,
   "metadata": {
    "collapsed": false
   },
   "outputs": [
    {
     "data": {
      "text/html": [
       "<div>\n",
       "<table border=\"1\" class=\"dataframe\">\n",
       "  <thead>\n",
       "    <tr style=\"text-align: right;\">\n",
       "      <th></th>\n",
       "      <th>Subject</th>\n",
       "      <th>IDE</th>\n",
       "      <th>Time</th>\n",
       "    </tr>\n",
       "  </thead>\n",
       "  <tbody>\n",
       "    <tr>\n",
       "      <th>0</th>\n",
       "      <td>1</td>\n",
       "      <td>VStudio</td>\n",
       "      <td>341</td>\n",
       "    </tr>\n",
       "    <tr>\n",
       "      <th>1</th>\n",
       "      <td>2</td>\n",
       "      <td>VStudio</td>\n",
       "      <td>291</td>\n",
       "    </tr>\n",
       "    <tr>\n",
       "      <th>2</th>\n",
       "      <td>3</td>\n",
       "      <td>VStudio</td>\n",
       "      <td>283</td>\n",
       "    </tr>\n",
       "    <tr>\n",
       "      <th>3</th>\n",
       "      <td>4</td>\n",
       "      <td>VStudio</td>\n",
       "      <td>155</td>\n",
       "    </tr>\n",
       "    <tr>\n",
       "      <th>4</th>\n",
       "      <td>5</td>\n",
       "      <td>VStudio</td>\n",
       "      <td>271</td>\n",
       "    </tr>\n",
       "  </tbody>\n",
       "</table>\n",
       "</div>"
      ],
      "text/plain": [
       "   Subject      IDE  Time\n",
       "0        1  VStudio   341\n",
       "1        2  VStudio   291\n",
       "2        3  VStudio   283\n",
       "3        4  VStudio   155\n",
       "4        5  VStudio   271"
      ]
     },
     "execution_count": 3,
     "metadata": {},
     "output_type": "execute_result"
    }
   ],
   "source": [
    "df.head()"
   ]
  },
  {
   "cell_type": "code",
   "execution_count": 4,
   "metadata": {
    "collapsed": false
   },
   "outputs": [],
   "source": [
    "x=df[df.IDE==\"VStudio\"]\n",
    "y=df[df.IDE==\"Eclipse\"]\n",
    "z=df[df[\"IDE\"]==\"PyCharm\"]"
   ]
  },
  {
   "cell_type": "code",
   "execution_count": 5,
   "metadata": {
    "collapsed": false
   },
   "outputs": [
    {
     "name": "stdout",
     "output_type": "stream",
     "text": [
      "   Subject      IDE  Time\n",
      "0        1  VStudio   341\n",
      "1        2  VStudio   291\n",
      "2        3  VStudio   283\n",
      "3        4  VStudio   155\n",
      "4        5  VStudio   271 \n",
      "    Subject      IDE  Time\n",
      "20       21  Eclipse   806\n",
      "21       22  Eclipse   415\n",
      "22       23  Eclipse   389\n",
      "23       24  Eclipse   317\n",
      "24       25  Eclipse   283 \n",
      "    Subject      IDE  Time\n",
      "40       41  PyCharm   277\n",
      "41       42  PyCharm   295\n",
      "42       43  PyCharm   293\n",
      "43       44  PyCharm   184\n",
      "44       45  PyCharm   218\n"
     ]
    }
   ],
   "source": [
    "print x[0:5],\"\\n\",y[0:5],\"\\n\",z[0:5]"
   ]
  },
  {
   "cell_type": "code",
   "execution_count": 6,
   "metadata": {
    "collapsed": false,
    "scrolled": true
   },
   "outputs": [
    {
     "data": {
      "image/png": "[encoded data removed]",
      "text/plain": [
       "<matplotlib.figure.Figure at 0xb15db38>"
      ]
     },
     "metadata": {},
     "output_type": "display_data"
    },
    {
     "data": {
      "image/png": "[encoded data removed]",
      "text/plain": [
       "<matplotlib.figure.Figure at 0x2590198>"
      ]
     },
     "metadata": {},
     "output_type": "display_data"
    },
    {
     "data": {
      "image/png": "[encoded data removed]",
      "text/plain": [
       "<matplotlib.figure.Figure at 0xb322b38>"
      ]
     },
     "metadata": {},
     "output_type": "display_data"
    }
   ],
   "source": [
    "fig1 = plt.figure()\n",
    "ax1 = fig1.add_subplot(1, 1, 1)\n",
    "n, bins,patches = ax1.hist(x.Time,normed=1)\n",
    "ax1.set_xlabel('VStudio - Time')\n",
    "ax1.set_ylabel('Frequency')\n",
    "\n",
    "fig2 = plt.figure()\n",
    "ax2 = fig2.add_subplot(1, 1, 1)\n",
    "n, bins, patches = ax2.hist(y.Time,normed=1)\n",
    "ax2.set_xlabel('Eclipse - Time')\n",
    "ax2.set_ylabel('Frequency')\n",
    "\n",
    "fig3 = plt.figure()\n",
    "ax3 = fig3.add_subplot(1, 1, 1)\n",
    "n, bins, patches = ax3.hist(z.Time,normed=1)\n",
    "ax3.set_xlabel('PyCharm - Time')\n",
    "ax3.set_ylabel('Frequency')\n",
    "\n",
    "plt.show()"
   ]
  },
  {
   "cell_type": "markdown",
   "metadata": {},
   "source": [
    "<li> By Visulaizing histogram can conclude VStudio and PyCharm are normally distributed but Eclipse has long tail.</li>"
   ]
  },
  {
   "cell_type": "code",
   "execution_count": 7,
   "metadata": {
    "collapsed": false
   },
   "outputs": [
    {
     "data": {
      "image/png": "[encoded data removed]",
      "text/plain": [
       "<matplotlib.figure.Figure at 0xb175898>"
      ]
     },
     "metadata": {},
     "output_type": "display_data"
    }
   ],
   "source": [
    "temp=[x.Time,y.Time,z.Time]\n",
    "plt.boxplot(temp)\n",
    "plt.title('IDE Task Completion Time')\n",
    "plt.xticks([1, 2,3],['VStudio', 'EClipse','PyCharm'])\n",
    "plt.show()"
   ]
  },
  {
   "cell_type": "markdown",
   "metadata": {},
   "source": [
    "<li>Boxplot for VStudio, Eclipse and PyCharm Overlaps.</li>\n",
    "<li>VStudio and PyCharm overlap with both medians so no difference can be claimed, but can not tell if there is difference.</li>\n",
    "<li>VStudio and Eclipse overlap but not both medians so there is likely to be a difference between both groups.</li>\n",
    "<li>PyCharm and Eclipse overlap but not both medians so there is likely to be a difference between both groups.</li>"
   ]
  },
  {
   "cell_type": "markdown",
   "metadata": {},
   "source": [
    "<li>Normality Test for Residual</li>"
   ]
  },
  {
   "cell_type": "code",
   "execution_count": 8,
   "metadata": {
    "collapsed": true
   },
   "outputs": [],
   "source": [
    "import statsmodels.api as sm\n",
    "from statsmodels.formula.api import ols"
   ]
  },
  {
   "cell_type": "code",
   "execution_count": 9,
   "metadata": {
    "collapsed": true
   },
   "outputs": [],
   "source": [
    "import statsmodels.api as sm\n",
    "from statsmodels.formula.api import ols\n",
    "lm = ols('data.Time ~ C(data.IDE, Sum)',\n",
    "                data=data).fit()"
   ]
  },
  {
   "cell_type": "code",
   "execution_count": 10,
   "metadata": {
    "collapsed": true
   },
   "outputs": [],
   "source": [
    "infl = lm.get_influence()"
   ]
  },
  {
   "cell_type": "code",
   "execution_count": 11,
   "metadata": {
    "collapsed": false
   },
   "outputs": [
    {
     "data": {
      "image/png": "[encoded data removed]",
      "text/plain": [
       "<matplotlib.figure.Figure at 0xd303ac8>"
      ]
     },
     "metadata": {},
     "output_type": "display_data"
    }
   ],
   "source": [
    "r=lm.resid\n",
    "plt.boxplot(r)\n",
    "plt.xticks([1],['Residuals'])\n",
    "plt.show()"
   ]
  },
  {
   "cell_type": "code",
   "execution_count": 12,
   "metadata": {
    "collapsed": true
   },
   "outputs": [],
   "source": [
    "#Q-Q Plot to visualize residual"
   ]
  },
  {
   "cell_type": "code",
   "execution_count": 13,
   "metadata": {
    "collapsed": false
   },
   "outputs": [
    {
     "data": {
      "image/png": "[encoded data removed]",
      "text/plain": [
       "<matplotlib.figure.Figure at 0xd3037f0>"
      ]
     },
     "metadata": {},
     "output_type": "display_data"
    }
   ],
   "source": [
    "# residuals\n",
    "res=lm.resid_pearson\n",
    "stats.probplot(res, dist=\"norm\", plot=plt)\n",
    "plt.title(\"Normal Q-Q plot\")\n",
    "plt.show()"
   ]
  },
  {
   "cell_type": "code",
   "execution_count": 14,
   "metadata": {
    "collapsed": false
   },
   "outputs": [
    {
     "data": {
      "text/plain": [
       "(0.8970634937286377, 0.00010298640700057149)"
      ]
     },
     "execution_count": 14,
     "metadata": {},
     "output_type": "execute_result"
    }
   ],
   "source": [
    "stats.shapiro(lm.resid,reta=False)"
   ]
  },
  {
   "cell_type": "markdown",
   "metadata": {},
   "source": [
    "Q-Q plot of the (quantiles of x versus the quantiles/ppf of a distribution) residuals shows residuals are not very close to line and pvalue much less than 0.05 can tell sample departures from normality."
   ]
  },
  {
   "cell_type": "code",
   "execution_count": 15,
   "metadata": {
    "collapsed": false
   },
   "outputs": [
    {
     "data": {
      "text/plain": [
       "LeveneResult(statistic=8.7580045813248724, pvalue=0.00048230320155153025)"
      ]
     },
     "execution_count": 15,
     "metadata": {},
     "output_type": "execute_result"
    }
   ],
   "source": [
    "## test homoscedasticity\n",
    "stats.levene(x.Time,y.Time,z.Time,center='mean')"
   ]
  },
  {
   "cell_type": "code",
   "execution_count": 16,
   "metadata": {
    "collapsed": false
   },
   "outputs": [
    {
     "data": {
      "text/plain": [
       "LeveneResult(statistic=4.6148771732091127, pvalue=0.013880936800099657)"
      ]
     },
     "execution_count": 16,
     "metadata": {},
     "output_type": "execute_result"
    }
   ],
   "source": [
    "stats.levene(x.Time,y.Time,z.Time,center='median')"
   ]
  },
  {
   "cell_type": "markdown",
   "metadata": {},
   "source": [
    "<li>pvalue< 0.05 indicates both IDE has significant difference in Task Completion time, which indicates violation of homogeneity of variance.</li>"
   ]
  },
  {
   "cell_type": "code",
   "execution_count": 17,
   "metadata": {
    "collapsed": true
   },
   "outputs": [],
   "source": [
    "# one-way ANOVA"
   ]
  },
  {
   "cell_type": "code",
   "execution_count": 18,
   "metadata": {
    "collapsed": false
   },
   "outputs": [
    {
     "data": {
      "text/plain": [
       "F_onewayResult(statistic=8.510290334827074, pvalue=0.00058329397116088947)"
      ]
     },
     "execution_count": 18,
     "metadata": {},
     "output_type": "execute_result"
    }
   ],
   "source": [
    "stats.f_oneway(df.Time[df.IDE=='VStudio'],df.Time[df.IDE=='Eclipse'],df.Time[df.IDE=='PyCharm'])\n",
    "#stats.mstats.f_oneway(df.Time,df.IDE.value_counts())"
   ]
  },
  {
   "cell_type": "markdown",
   "metadata": {
    "collapsed": true
   },
   "source": [
    " <li> It shows there is significant difference in Task Completetion Time of IDE packages as pvalue<0.05 but which IDE's  exactly differs is not clear, Can be verify by pair-test between each group to find where exactly difference exists.</li>"
   ]
  },
  {
   "cell_type": "markdown",
   "metadata": {},
   "source": [
    "post hoc independent-samples t-tests,Tukey's range test.<br>\n",
    "Tukey's range test is comonly used for post hoc analysis after one-way ANOVA. This test compares all possible pairs and we can use it to precisely identify difference between two means that's greater than the expected standard error."
   ]
  },
  {
   "cell_type": "code",
   "execution_count": 19,
   "metadata": {
    "collapsed": true
   },
   "outputs": [],
   "source": [
    "import statsmodels.stats.multicomp as multi"
   ]
  },
  {
   "cell_type": "code",
   "execution_count": 20,
   "metadata": {
    "collapsed": false
   },
   "outputs": [
    {
     "data": {
      "text/html": [
       "<div>\n",
       "<table border=\"1\" class=\"dataframe\">\n",
       "  <thead>\n",
       "    <tr style=\"text-align: right;\">\n",
       "      <th></th>\n",
       "      <th>Subject</th>\n",
       "      <th>IDE</th>\n",
       "      <th>Time</th>\n",
       "    </tr>\n",
       "  </thead>\n",
       "  <tbody>\n",
       "    <tr>\n",
       "      <th>0</th>\n",
       "      <td>1</td>\n",
       "      <td>VStudio</td>\n",
       "      <td>341</td>\n",
       "    </tr>\n",
       "    <tr>\n",
       "      <th>1</th>\n",
       "      <td>2</td>\n",
       "      <td>VStudio</td>\n",
       "      <td>291</td>\n",
       "    </tr>\n",
       "    <tr>\n",
       "      <th>2</th>\n",
       "      <td>3</td>\n",
       "      <td>VStudio</td>\n",
       "      <td>283</td>\n",
       "    </tr>\n",
       "    <tr>\n",
       "      <th>3</th>\n",
       "      <td>4</td>\n",
       "      <td>VStudio</td>\n",
       "      <td>155</td>\n",
       "    </tr>\n",
       "    <tr>\n",
       "      <th>4</th>\n",
       "      <td>5</td>\n",
       "      <td>VStudio</td>\n",
       "      <td>271</td>\n",
       "    </tr>\n",
       "  </tbody>\n",
       "</table>\n",
       "</div>"
      ],
      "text/plain": [
       "   Subject      IDE  Time\n",
       "0        1  VStudio   341\n",
       "1        2  VStudio   291\n",
       "2        3  VStudio   283\n",
       "3        4  VStudio   155\n",
       "4        5  VStudio   271"
      ]
     },
     "execution_count": 20,
     "metadata": {},
     "output_type": "execute_result"
    }
   ],
   "source": [
    "df1=df.copy()\n",
    "df1.head()"
   ]
  },
  {
   "cell_type": "code",
   "execution_count": 21,
   "metadata": {
    "collapsed": false
   },
   "outputs": [
    {
     "data": {
      "text/html": [
       "<div>\n",
       "<table border=\"1\" class=\"dataframe\">\n",
       "  <thead>\n",
       "    <tr style=\"text-align: right;\">\n",
       "      <th></th>\n",
       "      <th>Subject</th>\n",
       "      <th>IDE</th>\n",
       "      <th>Time</th>\n",
       "    </tr>\n",
       "  </thead>\n",
       "  <tbody>\n",
       "    <tr>\n",
       "      <th>0</th>\n",
       "      <td>1</td>\n",
       "      <td>VStudio</td>\n",
       "      <td>341</td>\n",
       "    </tr>\n",
       "    <tr>\n",
       "      <th>1</th>\n",
       "      <td>2</td>\n",
       "      <td>VStudio</td>\n",
       "      <td>291</td>\n",
       "    </tr>\n",
       "    <tr>\n",
       "      <th>2</th>\n",
       "      <td>3</td>\n",
       "      <td>VStudio</td>\n",
       "      <td>283</td>\n",
       "    </tr>\n",
       "    <tr>\n",
       "      <th>3</th>\n",
       "      <td>4</td>\n",
       "      <td>VStudio</td>\n",
       "      <td>155</td>\n",
       "    </tr>\n",
       "    <tr>\n",
       "      <th>4</th>\n",
       "      <td>5</td>\n",
       "      <td>VStudio</td>\n",
       "      <td>271</td>\n",
       "    </tr>\n",
       "  </tbody>\n",
       "</table>\n",
       "</div>"
      ],
      "text/plain": [
       "   Subject      IDE  Time\n",
       "0        1  VStudio   341\n",
       "1        2  VStudio   291\n",
       "2        3  VStudio   283\n",
       "3        4  VStudio   155\n",
       "4        5  VStudio   271"
      ]
     },
     "execution_count": 21,
     "metadata": {},
     "output_type": "execute_result"
    }
   ],
   "source": [
    "df1['Time'] =pd.to_numeric(df['Time'], errors='coerce')\n",
    "df1['Subject']==pd.to_numeric(df['Subject'], errors='coerce')\n",
    "df1.head()"
   ]
  },
  {
   "cell_type": "code",
   "execution_count": 22,
   "metadata": {
    "collapsed": false
   },
   "outputs": [
    {
     "data": {
      "text/html": [
       "<div>\n",
       "<table border=\"1\" class=\"dataframe\">\n",
       "  <thead>\n",
       "    <tr style=\"text-align: right;\">\n",
       "      <th></th>\n",
       "      <th>Subject</th>\n",
       "      <th>IDE</th>\n",
       "      <th>Time</th>\n",
       "    </tr>\n",
       "  </thead>\n",
       "  <tbody>\n",
       "    <tr>\n",
       "      <th>0</th>\n",
       "      <td>1</td>\n",
       "      <td>VStudio</td>\n",
       "      <td>341</td>\n",
       "    </tr>\n",
       "    <tr>\n",
       "      <th>1</th>\n",
       "      <td>2</td>\n",
       "      <td>VStudio</td>\n",
       "      <td>291</td>\n",
       "    </tr>\n",
       "    <tr>\n",
       "      <th>2</th>\n",
       "      <td>3</td>\n",
       "      <td>VStudio</td>\n",
       "      <td>283</td>\n",
       "    </tr>\n",
       "    <tr>\n",
       "      <th>3</th>\n",
       "      <td>4</td>\n",
       "      <td>VStudio</td>\n",
       "      <td>155</td>\n",
       "    </tr>\n",
       "    <tr>\n",
       "      <th>4</th>\n",
       "      <td>5</td>\n",
       "      <td>VStudio</td>\n",
       "      <td>271</td>\n",
       "    </tr>\n",
       "  </tbody>\n",
       "</table>\n",
       "</div>"
      ],
      "text/plain": [
       "   Subject      IDE  Time\n",
       "0        1  VStudio   341\n",
       "1        2  VStudio   291\n",
       "2        3  VStudio   283\n",
       "3        4  VStudio   155\n",
       "4        5  VStudio   271"
      ]
     },
     "execution_count": 22,
     "metadata": {},
     "output_type": "execute_result"
    }
   ],
   "source": [
    "df1.head()"
   ]
  },
  {
   "cell_type": "code",
   "execution_count": 23,
   "metadata": {
    "collapsed": false
   },
   "outputs": [
    {
     "data": {
      "text/plain": [
       "'df1[\"IDE2\"]=[0 for i in range(0,len(df1.IDE))] \\nfor i in range(0,len(df1.IDE)-1):\\n    if df1.IDE[i]==\"VStudio\":\\n        df1.IDE2[i]=1\\n    if df1.IDE[i]==\\'Eclipse\\':\\n        df1.IDE2[i]=2\\n    if df1.IDE[i]==\\'PyCharm\\':\\n        df1.IDE2[i]=3'"
      ]
     },
     "execution_count": 23,
     "metadata": {},
     "output_type": "execute_result"
    }
   ],
   "source": [
    "'''df1[\"IDE2\"]=[0 for i in range(0,len(df1.IDE))] \n",
    "for i in range(0,len(df1.IDE)-1):\n",
    "    if df1.IDE[i]==\"VStudio\":\n",
    "        df1.IDE2[i]=1\n",
    "    if df1.IDE[i]=='Eclipse':\n",
    "        df1.IDE2[i]=2\n",
    "    if df1.IDE[i]=='PyCharm':\n",
    "        df1.IDE2[i]=3'''"
   ]
  },
  {
   "cell_type": "code",
   "execution_count": 24,
   "metadata": {
    "collapsed": false
   },
   "outputs": [
    {
     "data": {
      "text/html": [
       "<div>\n",
       "<table border=\"1\" class=\"dataframe\">\n",
       "  <thead>\n",
       "    <tr style=\"text-align: right;\">\n",
       "      <th></th>\n",
       "      <th>Subject</th>\n",
       "      <th>IDE</th>\n",
       "      <th>Time</th>\n",
       "    </tr>\n",
       "  </thead>\n",
       "  <tbody>\n",
       "    <tr>\n",
       "      <th>55</th>\n",
       "      <td>56</td>\n",
       "      <td>PyCharm</td>\n",
       "      <td>245</td>\n",
       "    </tr>\n",
       "    <tr>\n",
       "      <th>56</th>\n",
       "      <td>57</td>\n",
       "      <td>PyCharm</td>\n",
       "      <td>572</td>\n",
       "    </tr>\n",
       "    <tr>\n",
       "      <th>57</th>\n",
       "      <td>58</td>\n",
       "      <td>PyCharm</td>\n",
       "      <td>237</td>\n",
       "    </tr>\n",
       "    <tr>\n",
       "      <th>58</th>\n",
       "      <td>59</td>\n",
       "      <td>PyCharm</td>\n",
       "      <td>497</td>\n",
       "    </tr>\n",
       "    <tr>\n",
       "      <th>59</th>\n",
       "      <td>60</td>\n",
       "      <td>PyCharm</td>\n",
       "      <td>377</td>\n",
       "    </tr>\n",
       "  </tbody>\n",
       "</table>\n",
       "</div>"
      ],
      "text/plain": [
       "    Subject      IDE  Time\n",
       "55       56  PyCharm   245\n",
       "56       57  PyCharm   572\n",
       "57       58  PyCharm   237\n",
       "58       59  PyCharm   497\n",
       "59       60  PyCharm   377"
      ]
     },
     "execution_count": 24,
     "metadata": {},
     "output_type": "execute_result"
    }
   ],
   "source": [
    "df1.tail()"
   ]
  },
  {
   "cell_type": "code",
   "execution_count": 25,
   "metadata": {
    "collapsed": false
   },
   "outputs": [
    {
     "data": {
      "text/plain": [
       "'df1.IDE2=pd.to_numeric(df1.IDE2)\\ndf1.Time=pd.to_numeric(df1.Time)'"
      ]
     },
     "execution_count": 25,
     "metadata": {},
     "output_type": "execute_result"
    }
   ],
   "source": [
    "'''df1.IDE2=pd.to_numeric(df1.IDE2)\n",
    "df1.Time=pd.to_numeric(df1.Time)'''"
   ]
  },
  {
   "cell_type": "code",
   "execution_count": 26,
   "metadata": {
    "collapsed": true
   },
   "outputs": [],
   "source": [
    "#Ref: http://lilithelina.tumblr.com/post/132593030304/data-analysis-anova-python"
   ]
  },
  {
   "cell_type": "code",
   "execution_count": 27,
   "metadata": {
    "collapsed": false
   },
   "outputs": [
    {
     "name": "stdout",
     "output_type": "stream",
     "text": [
      "Multiple Comparison of Means - Tukey HSD,FWER=0.05\n",
      "==================================================\n",
      " group1  group2 meandiff   lower    upper   reject\n",
      "--------------------------------------------------\n",
      "Eclipse PyCharm  -176.7  -292.2908 -61.1092  True \n",
      "Eclipse VStudio -166.05  -281.6408 -50.4592  True \n",
      "PyCharm VStudio  10.65   -104.9408 126.2408 False \n",
      "--------------------------------------------------\n",
      "['Eclipse' 'PyCharm' 'VStudio']\n"
     ]
    }
   ],
   "source": [
    "mc = multi.MultiComparison( df1['Time'],df1['IDE'])\n",
    "result =mc.tukeyhsd()\n",
    "print(result)\n",
    "print(mc.groupsunique)"
   ]
  },
  {
   "cell_type": "markdown",
   "metadata": {
    "collapsed": true
   },
   "source": [
    "p-value tells us how likely it is that we were wrong in rejecting our null hypothesis.Therotically, for p < 0.05,  less than 5% - meaning a 5% chance of making a type I error (rejecting the null hypothesis even though it is true).\n",
    "When we compare subsets of data, higher the chances to find some random effect - for only 3 tests, the probability of making at least one mistake is already (0.05/3) i.e. 0.017 which is much lesser than 0.05 .\n",
    "The goal of using the Bonferroni adjustment, is to control the family-wise error rate, also known as the maximum overall type 1 error rate. So that we can evaluate which pairs of nicotine dependence rates are different from one another. <br>\n",
    "The result summary above shows that the FWER was taken into account automatically, and then lists all the group-wise comparisons, their differences, and whether or not we can reject the null hypothesis (that both groups have equal means). <br>\n",
    "For the IDE versus Task Completion Time comparison , Eclipse have significantly different means.<br>\n",
    "From a statistics point of view, it’s quite safe to say that there is a significant difference in the Task Completion Time for different IDE's with F(2, 58) = 8.5 (the numbers in brackets are degrees of freedom, df model and df residuals, from the ANOVA summary above) and p < 0.0005."
   ]
  },
  {
   "cell_type": "markdown",
   "metadata": {},
   "source": [
    "<h3><center>Within Subjects: repeated measures ANOVA</center></h3>"
   ]
  },
  {
   "cell_type": "code",
   "execution_count": 2,
   "metadata": {
    "collapsed": true
   },
   "outputs": [],
   "source": [
    "#Example: Finding contacts in a smartphone contacts manager\n",
    "#read in a data file with times (sec) to find a set of contacts"
   ]
  },
  {
   "cell_type": "code",
   "execution_count": 1,
   "metadata": {
    "collapsed": false
   },
   "outputs": [],
   "source": [
    "import pandas as pd\n",
    "import matplotlib.pyplot as plt\n",
    "import scipy.stats as stats\n",
    "import statsmodels.api as sm\n",
    "from statsmodels.formula.api import ols\n",
    "import statsmodels.stats.multicomp as multi"
   ]
  },
  {
   "cell_type": "code",
   "execution_count": 2,
   "metadata": {
    "collapsed": false
   },
   "outputs": [
    {
     "data": {
      "text/html": [
       "<div>\n",
       "<table border=\"1\" class=\"dataframe\">\n",
       "  <thead>\n",
       "    <tr style=\"text-align: right;\">\n",
       "      <th></th>\n",
       "      <th>Subject</th>\n",
       "      <th>Technique</th>\n",
       "      <th>Order</th>\n",
       "      <th>Time</th>\n",
       "      <th>Errors</th>\n",
       "      <th>Effort</th>\n",
       "    </tr>\n",
       "  </thead>\n",
       "  <tbody>\n",
       "    <tr>\n",
       "      <th>0</th>\n",
       "      <td>1</td>\n",
       "      <td>Search</td>\n",
       "      <td>1</td>\n",
       "      <td>98</td>\n",
       "      <td>4</td>\n",
       "      <td>5</td>\n",
       "    </tr>\n",
       "    <tr>\n",
       "      <th>1</th>\n",
       "      <td>1</td>\n",
       "      <td>Scroll</td>\n",
       "      <td>2</td>\n",
       "      <td>152</td>\n",
       "      <td>0</td>\n",
       "      <td>6</td>\n",
       "    </tr>\n",
       "    <tr>\n",
       "      <th>2</th>\n",
       "      <td>2</td>\n",
       "      <td>Search</td>\n",
       "      <td>2</td>\n",
       "      <td>57</td>\n",
       "      <td>2</td>\n",
       "      <td>2</td>\n",
       "    </tr>\n",
       "    <tr>\n",
       "      <th>3</th>\n",
       "      <td>2</td>\n",
       "      <td>Scroll</td>\n",
       "      <td>1</td>\n",
       "      <td>148</td>\n",
       "      <td>0</td>\n",
       "      <td>3</td>\n",
       "    </tr>\n",
       "    <tr>\n",
       "      <th>4</th>\n",
       "      <td>3</td>\n",
       "      <td>Search</td>\n",
       "      <td>1</td>\n",
       "      <td>86</td>\n",
       "      <td>3</td>\n",
       "      <td>2</td>\n",
       "    </tr>\n",
       "  </tbody>\n",
       "</table>\n",
       "</div>"
      ],
      "text/plain": [
       "   Subject Technique  Order  Time  Errors  Effort\n",
       "0        1    Search      1    98       4       5\n",
       "1        1    Scroll      2   152       0       6\n",
       "2        2    Search      2    57       2       2\n",
       "3        2    Scroll      1   148       0       3\n",
       "4        3    Search      1    86       3       2"
      ]
     },
     "execution_count": 2,
     "metadata": {},
     "output_type": "execute_result"
    }
   ],
   "source": [
    "data=pd.read_csv(\"C:\\Users\\zaina\\Documents\\DataVisulaization_MachineLearning\\Research\\srchscrl.csv\")\n",
    "df=pd.DataFrame(data)\n",
    "df.head()"
   ]
  },
  {
   "cell_type": "code",
   "execution_count": 3,
   "metadata": {
    "collapsed": false
   },
   "outputs": [
    {
     "data": {
      "text/html": [
       "<div>\n",
       "<table border=\"1\" class=\"dataframe\">\n",
       "  <thead>\n",
       "    <tr style=\"text-align: right;\">\n",
       "      <th></th>\n",
       "      <th>Subject</th>\n",
       "      <th>Order</th>\n",
       "      <th>Time</th>\n",
       "      <th>Errors</th>\n",
       "      <th>Effort</th>\n",
       "    </tr>\n",
       "  </thead>\n",
       "  <tbody>\n",
       "    <tr>\n",
       "      <th>count</th>\n",
       "      <td>40.00000</td>\n",
       "      <td>40.00000</td>\n",
       "      <td>40.000000</td>\n",
       "      <td>40.000000</td>\n",
       "      <td>40.000000</td>\n",
       "    </tr>\n",
       "    <tr>\n",
       "      <th>mean</th>\n",
       "      <td>10.50000</td>\n",
       "      <td>1.50000</td>\n",
       "      <td>117.000000</td>\n",
       "      <td>1.600000</td>\n",
       "      <td>4.000000</td>\n",
       "    </tr>\n",
       "    <tr>\n",
       "      <th>std</th>\n",
       "      <td>5.83974</td>\n",
       "      <td>0.50637</td>\n",
       "      <td>36.140041</td>\n",
       "      <td>1.296939</td>\n",
       "      <td>1.502135</td>\n",
       "    </tr>\n",
       "    <tr>\n",
       "      <th>min</th>\n",
       "      <td>1.00000</td>\n",
       "      <td>1.00000</td>\n",
       "      <td>49.000000</td>\n",
       "      <td>0.000000</td>\n",
       "      <td>1.000000</td>\n",
       "    </tr>\n",
       "    <tr>\n",
       "      <th>25%</th>\n",
       "      <td>5.75000</td>\n",
       "      <td>1.00000</td>\n",
       "      <td>94.500000</td>\n",
       "      <td>0.750000</td>\n",
       "      <td>3.000000</td>\n",
       "    </tr>\n",
       "    <tr>\n",
       "      <th>50%</th>\n",
       "      <td>10.50000</td>\n",
       "      <td>1.50000</td>\n",
       "      <td>112.500000</td>\n",
       "      <td>1.500000</td>\n",
       "      <td>4.000000</td>\n",
       "    </tr>\n",
       "    <tr>\n",
       "      <th>75%</th>\n",
       "      <td>15.25000</td>\n",
       "      <td>2.00000</td>\n",
       "      <td>148.250000</td>\n",
       "      <td>2.250000</td>\n",
       "      <td>5.000000</td>\n",
       "    </tr>\n",
       "    <tr>\n",
       "      <th>max</th>\n",
       "      <td>20.00000</td>\n",
       "      <td>2.00000</td>\n",
       "      <td>192.000000</td>\n",
       "      <td>4.000000</td>\n",
       "      <td>7.000000</td>\n",
       "    </tr>\n",
       "  </tbody>\n",
       "</table>\n",
       "</div>"
      ],
      "text/plain": [
       "        Subject     Order        Time     Errors     Effort\n",
       "count  40.00000  40.00000   40.000000  40.000000  40.000000\n",
       "mean   10.50000   1.50000  117.000000   1.600000   4.000000\n",
       "std     5.83974   0.50637   36.140041   1.296939   1.502135\n",
       "min     1.00000   1.00000   49.000000   0.000000   1.000000\n",
       "25%     5.75000   1.00000   94.500000   0.750000   3.000000\n",
       "50%    10.50000   1.50000  112.500000   1.500000   4.000000\n",
       "75%    15.25000   2.00000  148.250000   2.250000   5.000000\n",
       "max    20.00000   2.00000  192.000000   4.000000   7.000000"
      ]
     },
     "execution_count": 3,
     "metadata": {},
     "output_type": "execute_result"
    }
   ],
   "source": [
    "df.describe()"
   ]
  },
  {
   "cell_type": "markdown",
   "metadata": {},
   "source": [
    "<li>Step1: Normality Test</li>"
   ]
  },
  {
   "cell_type": "code",
   "execution_count": 4,
   "metadata": {
    "collapsed": true
   },
   "outputs": [],
   "source": [
    "x=df[df[\"Technique\"]==\"Search\"]\n",
    "y=df[df[\"Technique\"]==\"Scroll\"]"
   ]
  },
  {
   "cell_type": "code",
   "execution_count": 5,
   "metadata": {
    "collapsed": false
   },
   "outputs": [
    {
     "data": {
      "image/png": "[encoded data removed]",
      "text/plain": [
       "<matplotlib.figure.Figure at 0xc0ed588>"
      ]
     },
     "metadata": {},
     "output_type": "display_data"
    },
    {
     "data": {
      "image/png": "[encoded data removed]",
      "text/plain": [
       "<matplotlib.figure.Figure at 0x2650198>"
      ]
     },
     "metadata": {},
     "output_type": "display_data"
    }
   ],
   "source": [
    "fig1 = plt.figure()\n",
    "ax1 = fig1.add_subplot(1, 1, 1)\n",
    "n, bins,patches = ax1.hist(x.Time,normed=1)\n",
    "ax1.set_xlabel('Search - Time')\n",
    "ax1.set_ylabel('Frequency')\n",
    "\n",
    "fig2 = plt.figure()\n",
    "ax2 = fig2.add_subplot(1, 1, 1)\n",
    "n, bins, patches = ax2.hist(y.Time,normed=1)\n",
    "ax2.set_xlabel('Scroll - Time')\n",
    "ax2.set_ylabel('Frequency')\n",
    "plt.show()"
   ]
  },
  {
   "cell_type": "code",
   "execution_count": 6,
   "metadata": {
    "collapsed": false
   },
   "outputs": [
    {
     "data": {
      "image/png": "[encoded data removed]",
      "text/plain": [
       "<matplotlib.figure.Figure at 0xc0c0e10>"
      ]
     },
     "metadata": {},
     "output_type": "display_data"
    }
   ],
   "source": [
    "temp=[x.Time,y.Time]\n",
    "plt.boxplot(temp)\n",
    "plt.xticks([1,2],['Search','Scroll'])\n",
    "plt.title('Explore the Technique ~ Time response')\n",
    "plt.show()"
   ]
  },
  {
   "cell_type": "markdown",
   "metadata": {},
   "source": [
    "<li>Search seems normally distributed, Scroll have long left tail.<br> \n",
    "Box plots are not overlapping, but not both medians so there is likely to be a difference between both groups.<br></li>"
   ]
  },
  {
   "cell_type": "code",
   "execution_count": 7,
   "metadata": {
    "collapsed": false
   },
   "outputs": [
    {
     "data": {
      "text/plain": [
       "(0.968583345413208, 0.7247200608253479)"
      ]
     },
     "execution_count": 7,
     "metadata": {},
     "output_type": "execute_result"
    }
   ],
   "source": [
    "#Normality Test for Search Technique\n",
    "stats.shapiro(x.Time,reta=False) "
   ]
  },
  {
   "cell_type": "markdown",
   "metadata": {},
   "source": [
    "<li>Shapiro test detects all \"departures from normality\" ,pvalue>0.05 shows 95% confident that \"Search Technique\" \n",
    "is normally distributed.</li>"
   ]
  },
  {
   "cell_type": "code",
   "execution_count": 8,
   "metadata": {
    "collapsed": false
   },
   "outputs": [
    {
     "data": {
      "text/plain": [
       "(0.9183580875396729, 0.09213428199291229)"
      ]
     },
     "execution_count": 8,
     "metadata": {},
     "output_type": "execute_result"
    }
   ],
   "source": [
    "#Normality Test for Scroll Technique\n",
    "stats.shapiro(y.Time,reta=False) "
   ]
  },
  {
   "cell_type": "markdown",
   "metadata": {},
   "source": [
    "<li>Shapiro test detects all \"departures from normality\" ,pvalue>0.05 shows 95% confident that \"Scroll Technique\" \n",
    "is normally distributed.</li>"
   ]
  },
  {
   "cell_type": "code",
   "execution_count": 9,
   "metadata": {
    "collapsed": false
   },
   "outputs": [
    {
     "data": {
      "text/plain": [
       "(0.9502655267715454, 0.07744275033473969)"
      ]
     },
     "execution_count": 9,
     "metadata": {},
     "output_type": "execute_result"
    }
   ],
   "source": [
    "lm = ols('data.Time ~ C(data.Technique, Sum)', data=data).fit()\n",
    "res=lm.resid\n",
    "stats.shapiro(res,reta=False)"
   ]
  },
  {
   "cell_type": "code",
   "execution_count": 10,
   "metadata": {
    "collapsed": false
   },
   "outputs": [
    {
     "data": {
      "image/png": "[encoded data removed]",
      "text/plain": [
       "<matplotlib.figure.Figure at 0xc786b38>"
      ]
     },
     "metadata": {},
     "output_type": "display_data"
    }
   ],
   "source": [
    "# Q-Q Plot residuals\n",
    "res=lm.resid_pearson\n",
    "stats.probplot(res, dist=\"norm\", plot=plt)\n",
    "plt.title(\"Normal Q-Q plot\")\n",
    "plt.show()"
   ]
  },
  {
   "cell_type": "code",
   "execution_count": 11,
   "metadata": {
    "collapsed": true
   },
   "outputs": [],
   "source": [
    "#pvalue<0.05 shows residuals not come from normal distribution. Also Q-Q plot of residual Vs distribution are not close fit."
   ]
  },
  {
   "cell_type": "markdown",
   "metadata": {},
   "source": [
    "<li>Step2 : Homoscedasticity </li>"
   ]
  },
  {
   "cell_type": "code",
   "execution_count": 12,
   "metadata": {
    "collapsed": false
   },
   "outputs": [
    {
     "data": {
      "text/plain": [
       "LeveneResult(statistic=3.1166423098886598, pvalue=0.085531501198914228)"
      ]
     },
     "execution_count": 12,
     "metadata": {},
     "output_type": "execute_result"
    }
   ],
   "source": [
    "stats.levene(x.Time,y.Time,center='mean')"
   ]
  },
  {
   "cell_type": "code",
   "execution_count": 13,
   "metadata": {
    "collapsed": false
   },
   "outputs": [
    {
     "data": {
      "text/plain": [
       "LeveneResult(statistic=2.0087757739198828, pvalue=0.16453902692905337)"
      ]
     },
     "execution_count": 13,
     "metadata": {},
     "output_type": "execute_result"
    }
   ],
   "source": [
    "stats.levene(x.Time,y.Time,center='median')"
   ]
  },
  {
   "cell_type": "markdown",
   "metadata": {},
   "source": [
    "<li>pvalue< 0.05 indicates both Technique has significant difference in Task Completion time, which indicates violation of homogeneity of variance.</li>"
   ]
  },
  {
   "cell_type": "markdown",
   "metadata": {},
   "source": [
    "<li>To avoid carry over effects that introduce confounds to our results in within subjects measure, assign the order.Each subjects use different technique and measure the time it takes, the errors they make, and the effort rating that they give each of those techniques. <br> There are 2 methods to assign orders, Full Counter balancing, Latin Square and Balanced Latin square. This experiment is conducted using full counter balnce.</li>"
   ]
  },
  {
   "cell_type": "markdown",
   "metadata": {},
   "source": [
    "<body>\n",
    "fit a model for testing residuals -- the Error fn is used to indicate within-Ss effects, i.e., each Subject was exposed to all levels of Technique. generally, Error(S/(A*B*C)) means each S was exposed to every level of A, B, C and S is a column encoding subject ids.</body>"
   ]
  },
  {
   "cell_type": "markdown",
   "metadata": {},
   "source": [
    "<body>python library called pyvttbl whith which you can do within-subjects ANOVAs. Pyvttbl enables you to create multidimensional pivot tables, process data and carry out statistical tests. Using the method anova on pyvttbl’s DataFrame we can carry out repeated measures ANOVA using only Python.</body>\n",
    "Ref:http://www.pybloggers.com/2016/02/repeated-measures-anova-using-python/"
   ]
  },
  {
   "cell_type": "code",
   "execution_count": 25,
   "metadata": {
    "collapsed": false
   },
   "outputs": [
    {
     "name": "stdout",
     "output_type": "stream",
     "text": [
      "Time ~ Technique\n",
      "\n",
      "TESTS OF WITHIN SUBJECTS EFFECTS\n",
      "\n",
      "Measure: Time\n",
      "     Source                             Type III    eps   df      MS         F      Sig.    et2_G   Obs.    SE     95% CI   lambda   Obs.  \n",
      "                                           SS                                                                                        Power \n",
      "==========================================================================================================================================\n",
      "Technique          Sphericity Assumed   16321.600     -    1   16321.600   13.249   0.002   0.471     20   8.381   16.427   13.946   0.943 \n",
      "                   Greenhouse-Geisser   16321.600     1    1   16321.600   13.249   0.002   0.471     20   8.381   16.427   13.946   0.943 \n",
      "                   Huynh-Feldt          16321.600     1    1   16321.600   13.249   0.002   0.471     20   8.381   16.427   13.946   0.943 \n",
      "                   Box                  16321.600     1    1   16321.600   13.249   0.002   0.471     20   8.381   16.427   13.946   0.943 \n",
      "------------------------------------------------------------------------------------------------------------------------------------------\n",
      "Error(Technique)   Sphericity Assumed   23406.400     -   19    1231.916                                                                   \n",
      "                   Greenhouse-Geisser   23406.400     1   19    1231.916                                                                   \n",
      "                   Huynh-Feldt          23406.400     1   19    1231.916                                                                   \n",
      "                   Box                  23406.400     1   19    1231.916                                                                   \n",
      "\n",
      "TABLES OF ESTIMATED MARGINAL MEANS\n",
      "\n",
      "Estimated Marginal Means for Technique\n",
      "Technique    Mean     Std. Error   95% Lower Bound   95% Upper Bound \n",
      "====================================================================\n",
      "Scroll      137.200        8.007           121.506           152.894 \n",
      "Search       96.800        5.194            86.619           106.981 \n",
      "\n",
      "\n"
     ]
    }
   ],
   "source": [
    "from numpy.random import normal\n",
    "import pyvttbl as pt\n",
    "from collections import namedtuple\n",
    "df1=pt.DataFrame(df)  \n",
    "aov = df1.anova('Time', sub='Subject', wfactors=['Technique'])\n",
    "print(aov)"
   ]
  },
  {
   "cell_type": "markdown",
   "metadata": {},
   "source": [
    "pvalue > 0.05 indicates residuals are normally distrbuted."
   ]
  },
  {
   "cell_type": "markdown",
   "metadata": {},
   "source": [
    "<li> now test for an order effect -- did counterbalancing work?</li>"
   ]
  },
  {
   "cell_type": "code",
   "execution_count": 59,
   "metadata": {
    "collapsed": false
   },
   "outputs": [
    {
     "name": "stdout",
     "output_type": "stream",
     "text": [
      "Order      1    2\n",
      "Subject          \n",
      "1         98  152\n",
      "2        148   57\n",
      "3         86  160\n",
      "4        113   65\n",
      "5        102  181\n",
      "6         70  126\n",
      "7         50  161\n",
      "8        192   75\n",
      "9        102  149\n",
      "10       127   87\n",
      "11        92  161\n",
      "12        93  101\n",
      "13        96  161\n",
      "14       135  103\n",
      "15       104  158\n",
      "16       131  147\n",
      "17       112  110\n",
      "18       161  119\n",
      "19        95  132\n",
      "20        49  119\n"
     ]
    },
    {
     "data": {
      "text/plain": [
       "Subject\n",
       "1     152\n",
       "2      57\n",
       "3     160\n",
       "4      65\n",
       "5     181\n",
       "6     126\n",
       "7     161\n",
       "8      75\n",
       "9     149\n",
       "10     87\n",
       "11    161\n",
       "12    101\n",
       "13    161\n",
       "14    103\n",
       "15    158\n",
       "16    147\n",
       "17    110\n",
       "18    119\n",
       "19    132\n",
       "20    119\n",
       "Name: 2, dtype: int64"
      ]
     },
     "execution_count": 59,
     "metadata": {},
     "output_type": "execute_result"
    }
   ],
   "source": [
    "import numpy as np\n",
    "temp=df.pivot(index='Subject', columns='Order', values='Time')\n",
    "print temp\n",
    "temp1=pd.DataFrame(temp)"
   ]
  },
  {
   "cell_type": "code",
   "execution_count": 60,
   "metadata": {
    "collapsed": false
   },
   "outputs": [
    {
     "data": {
      "text/plain": [
       "Ttest_indResult(statistic=-1.6448390229374319, pvalue=0.10826334154905301)"
      ]
     },
     "execution_count": 60,
     "metadata": {},
     "output_type": "execute_result"
    }
   ],
   "source": [
    "stats.ttest_ind(temp1[1],temp1[2], equal_var=False)"
   ]
  },
  {
   "cell_type": "markdown",
   "metadata": {},
   "source": [
    "<li> There is no significant difference between Order1 and Order2.</li>"
   ]
  },
  {
   "cell_type": "code",
   "execution_count": null,
   "metadata": {
    "collapsed": true
   },
   "outputs": [],
   "source": [
    "# finally, the paired-samples t-test"
   ]
  },
  {
   "cell_type": "code",
   "execution_count": 61,
   "metadata": {
    "collapsed": false
   },
   "outputs": [
    {
     "name": "stdout",
     "output_type": "stream",
     "text": [
      "Technique  Scroll  Search\n",
      "Subject                  \n",
      "1             152      98\n",
      "2             148      57\n",
      "3             160      86\n",
      "4             113      65\n",
      "5             181     102\n",
      "6              70     126\n",
      "7             161      50\n",
      "8             192      75\n",
      "9             149     102\n",
      "10            127      87\n",
      "11            161      92\n",
      "12             93     101\n",
      "13            161      96\n",
      "14            135     103\n",
      "15            158     104\n",
      "16            131     147\n",
      "17            110     112\n",
      "18            161     119\n",
      "19            132      95\n",
      "20             49     119\n"
     ]
    }
   ],
   "source": [
    "import numpy as np\n",
    "temp=df.pivot(index='Subject', columns='Technique', values='Time')\n",
    "print temp\n",
    "temp1=pd.DataFrame(temp)"
   ]
  },
  {
   "cell_type": "code",
   "execution_count": 62,
   "metadata": {
    "collapsed": false
   },
   "outputs": [
    {
     "data": {
      "text/plain": [
       "Ttest_indResult(statistic=4.2328435139388478, pvalue=0.00017630529530024671)"
      ]
     },
     "execution_count": 62,
     "metadata": {},
     "output_type": "execute_result"
    }
   ],
   "source": [
    "stats.ttest_ind(temp1[\"Scroll\"],temp1[\"Search\"], equal_var=False)"
   ]
  },
  {
   "cell_type": "markdown",
   "metadata": {},
   "source": [
    "<li> There is  significant difference between Techniques of \"Scroll\" and \"Search\".</li>"
   ]
  },
  {
   "cell_type": "markdown",
   "metadata": {},
   "source": [
    "<h3><center>Two-way ANOVA</center></h3>"
   ]
  },
  {
   "cell_type": "markdown",
   "metadata": {},
   "source": [
    "<body>Scenario:   Text entry on smartphone keyboards in different postures<br>\n",
    "Statistics: Factorial ANOVA, repeated measures ANOVA, main effects, interaction effects<br>\n",
    "Mixed Factorial ANOVA on WPM : \"Mixed\" here is mixing between-Ss and within-Ss factors.</body>"
   ]
  },
  {
   "cell_type": "code",
   "execution_count": 4,
   "metadata": {
    "collapsed": true
   },
   "outputs": [],
   "source": [
    "import pandas as pd"
   ]
  },
  {
   "cell_type": "code",
   "execution_count": 5,
   "metadata": {
    "collapsed": true
   },
   "outputs": [],
   "source": [
    "data=pd.read_csv(\"C:\\Users\\zaina\\Documents\\DataVisulaization_MachineLearning\\Research\\mbltxt.csv\")"
   ]
  },
  {
   "cell_type": "code",
   "execution_count": 6,
   "metadata": {
    "collapsed": true
   },
   "outputs": [],
   "source": [
    "df=pd.DataFrame(data)"
   ]
  },
  {
   "cell_type": "code",
   "execution_count": 7,
   "metadata": {
    "collapsed": false
   },
   "outputs": [
    {
     "data": {
      "text/html": [
       "<div>\n",
       "<table border=\"1\" class=\"dataframe\">\n",
       "  <thead>\n",
       "    <tr style=\"text-align: right;\">\n",
       "      <th></th>\n",
       "      <th>Subject</th>\n",
       "      <th>Keyboard</th>\n",
       "      <th>Posture</th>\n",
       "      <th>Posture_Order</th>\n",
       "      <th>WPM</th>\n",
       "      <th>Error_Rate</th>\n",
       "    </tr>\n",
       "  </thead>\n",
       "  <tbody>\n",
       "    <tr>\n",
       "      <th>0</th>\n",
       "      <td>1</td>\n",
       "      <td>iPhone</td>\n",
       "      <td>Sit</td>\n",
       "      <td>1</td>\n",
       "      <td>20.2145</td>\n",
       "      <td>0.0220</td>\n",
       "    </tr>\n",
       "    <tr>\n",
       "      <th>1</th>\n",
       "      <td>1</td>\n",
       "      <td>iPhone</td>\n",
       "      <td>Stand</td>\n",
       "      <td>2</td>\n",
       "      <td>23.7485</td>\n",
       "      <td>0.0300</td>\n",
       "    </tr>\n",
       "    <tr>\n",
       "      <th>2</th>\n",
       "      <td>1</td>\n",
       "      <td>iPhone</td>\n",
       "      <td>Walk</td>\n",
       "      <td>3</td>\n",
       "      <td>20.7960</td>\n",
       "      <td>0.0415</td>\n",
       "    </tr>\n",
       "    <tr>\n",
       "      <th>3</th>\n",
       "      <td>2</td>\n",
       "      <td>iPhone</td>\n",
       "      <td>Sit</td>\n",
       "      <td>1</td>\n",
       "      <td>20.8805</td>\n",
       "      <td>0.0220</td>\n",
       "    </tr>\n",
       "    <tr>\n",
       "      <th>4</th>\n",
       "      <td>2</td>\n",
       "      <td>iPhone</td>\n",
       "      <td>Stand</td>\n",
       "      <td>3</td>\n",
       "      <td>23.2595</td>\n",
       "      <td>0.0255</td>\n",
       "    </tr>\n",
       "  </tbody>\n",
       "</table>\n",
       "</div>"
      ],
      "text/plain": [
       "   Subject Keyboard Posture  Posture_Order      WPM  Error_Rate\n",
       "0        1   iPhone     Sit              1  20.2145      0.0220\n",
       "1        1   iPhone   Stand              2  23.7485      0.0300\n",
       "2        1   iPhone    Walk              3  20.7960      0.0415\n",
       "3        2   iPhone     Sit              1  20.8805      0.0220\n",
       "4        2   iPhone   Stand              3  23.2595      0.0255"
      ]
     },
     "execution_count": 7,
     "metadata": {},
     "output_type": "execute_result"
    }
   ],
   "source": [
    "df.head()"
   ]
  },
  {
   "cell_type": "markdown",
   "metadata": {},
   "source": [
    "<li>Interpolation Plot: To understand relation between different Factors </li>"
   ]
  },
  {
   "cell_type": "code",
   "execution_count": 9,
   "metadata": {
    "collapsed": false
   },
   "outputs": [
    {
     "data": {
      "image/png": "[encoded data removed]",
      "text/plain": [
       "<matplotlib.figure.Figure at 0xc0bd4e0>"
      ]
     },
     "metadata": {},
     "output_type": "display_data"
    }
   ],
   "source": [
    "import numpy as np\n",
    "import statsmodels.graphics.factorplots as sp\n",
    "fig = sp.interaction_plot(df.Posture, df.Keyboard, df.WPM, colors=['red','blue'], markers=['D','^'], ms=10)\n",
    "import matplotlib.pyplot as plt\n",
    "plt.show()"
   ]
  },
  {
   "cell_type": "code",
   "execution_count": 10,
   "metadata": {
    "collapsed": false
   },
   "outputs": [
    {
     "name": "stdout",
     "output_type": "stream",
     "text": [
      "WPM ~ Posture_Order * Posture\n",
      "\n",
      "TESTS OF BETWEEN-SUBJECTS EFFECTS\n",
      "\n",
      "Measure: WPM\n",
      "     Source        Type III   df     MS         F      Sig.   et2_G   Obs.   SE   95% CI   lambda   Obs.  \n",
      "                      SS                                                                            Power \n",
      "=========================================================================================================\n",
      "Between Subjects    113.384   23                                                                          \n",
      "Posture             749.629    2   374.814   -12.371      1   0.620      8   --       --   -9.426      -- \n",
      "=========================================================================================================\n",
      "Error              -636.245   21   -30.297                                                                \n",
      "\n",
      "TESTS OF WITHIN SUBJECTS EFFECTS\n",
      "\n",
      "Measure: WPM\n",
      "        Source                                 Type III    eps      df       MS        F     Sig.    et2_G   Obs.    SE     95% CI   lambda   Obs.  \n",
      "                                                  SS                                                                                          Power \n",
      "===================================================================================================================================================\n",
      "Posture_Order             Sphericity Assumed      2.581       -        2     1.290   0.049   0.952   0.006     24   1.073    2.104    0.057   0.054 \n",
      "                          Greenhouse-Geisser      2.581   0.992    1.983     1.301   0.049   0.951   0.006     24   1.073    2.104    0.057   0.054 \n",
      "                          Huynh-Feldt             2.581   0.992    1.983     1.301   0.049   0.951   0.006     24   1.073    2.104    0.057   0.054 \n",
      "                          Box                     2.581   0.500        1     2.581   0.049   0.826   0.006     24   1.073    2.104    0.057   0.053 \n",
      "---------------------------------------------------------------------------------------------------------------------------------------------------\n",
      "Posture_Order * Posture   Sphericity Assumed      3.935       -        4     0.984   0.038   0.997   0.009      8   1.859    3.643    0.029   0.051 \n",
      "                          Greenhouse-Geisser      3.935   0.861    3.445     1.142   0.038   0.994   0.009      8   1.859    3.643    0.029   0.051 \n",
      "                          Huynh-Feldt             3.935   0.861    3.445     1.142   0.038   0.994   0.009      8   1.859    3.643    0.029   0.051 \n",
      "                          Box                     3.935   0.250        1     3.935   0.038   0.850   0.009      8   1.859    3.643    0.029   0.051 \n",
      "---------------------------------------------------------------------------------------------------------------------------------------------------\n",
      "Error(Posture_Order)      Sphericity Assumed   1095.156       -       42    26.075                                                                  \n",
      "                          Greenhouse-Geisser   1095.156   0.861   36.174    30.274                                                                  \n",
      "                          Huynh-Feldt          1095.156   0.861   36.174    30.274                                                                  \n",
      "                          Box                  1095.156   0.250   10.500   104.301                                                                  \n",
      "\n",
      "TABLES OF ESTIMATED MARGINAL MEANS\n",
      "\n",
      "Estimated Marginal Means for Posture_Order\n",
      "Posture_Order    Mean    Std. Error   95% Lower Bound   95% Upper Bound \n",
      "=======================================================================\n",
      "1               20.035        0.802            18.464            21.607 \n",
      "2               20.475        0.869            18.772            22.178 \n",
      "3               20.127        0.894            18.375            21.879 \n",
      "\n",
      "Estimated Marginal Means for Posture\n",
      "Posture    Mean    Std. Error   95% Lower Bound   95% Upper Bound \n",
      "=================================================================\n",
      "Sit       22.434        0.330            21.787            23.080 \n",
      "Stand     22.554        0.328            21.911            23.197 \n",
      "Walk      15.650        0.792            14.098            17.201 \n",
      "\n",
      "Estimated Marginal Means for Posture_Order * Posture\n",
      "Posture_Order   Posture    Mean    Std. Error   95% Lower Bound   95% Upper Bound \n",
      "=================================================================================\n",
      "1               Sit       22.367        0.578            21.234            23.500 \n",
      "1               Stand     22.054        0.617            20.845            23.262 \n",
      "1               Walk      15.686        1.251            13.234            18.138 \n",
      "2               Sit       22.362        0.622            21.142            23.582 \n",
      "2               Stand     23.180        0.528            22.145            24.214 \n",
      "2               Walk      15.883        1.485            12.972            18.794 \n",
      "3               Sit       22.572        0.589            21.417            23.727 \n",
      "3               Stand     22.429        0.555            21.341            23.516 \n",
      "3               Walk      15.381        1.546            12.351            18.410 \n",
      "\n",
      "\n"
     ]
    },
    {
     "name": "stderr",
     "output_type": "stream",
     "text": [
      "C:\\Users\\zaina\\Anaconda2\\lib\\site-packages\\pyvttbl\\stats\\_anova.py:1240: VisibleDeprecationWarning: using a non-integer number instead of an integer will result in an error in the future\n",
      "  return list(array(list(zeros((p-len(b))))+b)+1.)\n"
     ]
    }
   ],
   "source": [
    "from numpy.random import normal\n",
    "import pyvttbl as pt\n",
    "from collections import namedtuple\n",
    "df1=pt.DataFrame(df)  \n",
    "aov = df1.anova('WPM', sub='Subject',bfactors=['Posture'], wfactors=['Posture_Order'])\n",
    "print(aov)"
   ]
  },
  {
   "cell_type": "markdown",
   "metadata": {},
   "source": [
    "<li>How to interprete this table</li>"
   ]
  },
  {
   "cell_type": "code",
   "execution_count": null,
   "metadata": {
    "collapsed": true
   },
   "outputs": [],
   "source": []
  }
 ],
 "metadata": {
  "anaconda-cloud": {
   "environment": null,
   "summary": "What is DOE and how it's related to \"A/B Test\"?",
   "url": "https://anaconda.org/zainabsayyed/ab-test-and-doe"
  },
  "kernelspec": {
   "display_name": "Python [default]",
   "language": "python",
   "name": "python2"
  },
  "language_info": {
   "codemirror_mode": {
    "name": "ipython",
    "version": 2
   },
   "file_extension": ".py",
   "mimetype": "text/x-python",
   "name": "python",
   "nbconvert_exporter": "python",
   "pygments_lexer": "ipython2",
   "version": "2.7.12"
  }
 },
 "nbformat": 4,
 "nbformat_minor": 1
}
