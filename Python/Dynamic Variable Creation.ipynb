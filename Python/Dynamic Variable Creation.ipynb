{
 "cells": [
  {
   "cell_type": "code",
   "execution_count": 2,
   "metadata": {
    "collapsed": true
   },
   "outputs": [],
   "source": [
    "import pandas as pd"
   ]
  },
  {
   "cell_type": "code",
   "execution_count": 3,
   "metadata": {
    "collapsed": false
   },
   "outputs": [
    {
     "name": "stdout",
     "output_type": "stream",
     "text": [
      "<type 'dict'>\n",
      "<type 'dict'>\n",
      "Fruits Apple\n",
      "Vegetable Onion\n",
      "Vegetable Potato\n",
      "Vegetable Tomato\n",
      "Vegetable Onion\n",
      "Fruits Banana\n",
      "Fruits Watermelon\n",
      "Fruits Watermelon\n",
      "Fruits Banana\n"
     ]
    }
   ],
   "source": [
    "#Create data and add it to pandas dataframe to process.\n",
    "List=[\"Fruits\",\"Vegetable\"]\n",
    "#Create dictionary for each of item in the list\n",
    "for i in List:\n",
    "    globals() [\"%s\"%i]={}\n",
    "#Verifiying type of dynamic variable created\n",
    "for i in List:\n",
    "    print type(eval(\"%s\"%i))\n",
    "#data to be process\n",
    "raw_data={'category': ['Fruits', 'Vegetable', 'Vegetable', 'Vegetable', 'Vegetable','Fruits','Fruits','Fruits','Fruits'],\n",
    "        'item': ['Apple', 'Onion', 'Potato', 'Tomato', 'Onion','Banana','Watermelon','Watermelon','Banana']}\n",
    "#create dataframe , assign columns name and add data\n",
    "df_items=pd.DataFrame(raw_data,columns=['category','item'])\n",
    "#iterate over rows in dataframe\n",
    "for i in range(0,len(df_items)):\n",
    "    print df_items.category[i],df_items.item[i]"
   ]
  },
  {
   "cell_type": "code",
   "execution_count": 4,
   "metadata": {
    "collapsed": false
   },
   "outputs": [
    {
     "name": "stdout",
     "output_type": "stream",
     "text": [
      "[('Watermelon', 2), ('Apple', 1), ('Banana', 2)]\n",
      "[('Tomato', 1), ('Onion', 2), ('Potato', 1)]\n"
     ]
    }
   ],
   "source": [
    "#Add key,value to dynamically created dictionary\n",
    "for i in List:\n",
    "    for j in range(0,len(df_items)):\n",
    "        if df_items.category[j]==i:\n",
    "            exec ('%s'%i+'[\"'+'%s'%df_items.item[j]+'\"] = '+'%s'%i+'.get(\"'+'%s'%df_items.item[j]+'\",0)+1')\n",
    "for i in List:\n",
    "    print eval(\"%s\"%i+\".items()\")"
   ]
  }
 ],
 "metadata": {
  "kernelspec": {
   "display_name": "Python [default]",
   "language": "python",
   "name": "python2"
  },
  "language_info": {
   "codemirror_mode": {
    "name": "ipython",
    "version": 2
   },
   "file_extension": ".py",
   "mimetype": "text/x-python",
   "name": "python",
   "nbconvert_exporter": "python",
   "pygments_lexer": "ipython2",
   "version": "2.7.12"
  }
 },
 "nbformat": 4,
 "nbformat_minor": 2
}
